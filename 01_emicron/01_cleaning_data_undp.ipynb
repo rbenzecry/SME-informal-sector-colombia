{
  "cells": [
    {
      "cell_type": "code",
      "source": [
        "from google.colab import drive\n",
        "drive.mount('/content/drive')"
      ],
      "metadata": {
        "id": "NFfU-JPUoKYd",
        "colab": {
          "base_uri": "https://localhost:8080/"
        },
        "outputId": "235c823a-b4e2-4186-ed5b-cb78cad3562f"
      },
      "execution_count": 12,
      "outputs": [
        {
          "output_type": "stream",
          "name": "stdout",
          "text": [
            "Drive already mounted at /content/drive; to attempt to forcibly remount, call drive.mount(\"/content/drive\", force_remount=True).\n"
          ]
        }
      ]
    },
    {
      "cell_type": "code",
      "source": [
        "import numpy as np\n"
      ],
      "metadata": {
        "id": "AdyGT2z0t_ic"
      },
      "execution_count": 13,
      "outputs": []
    },
    {
      "cell_type": "code",
      "execution_count": 14,
      "metadata": {
        "id": "obWIr7qSag4K",
        "colab": {
          "base_uri": "https://localhost:8080/"
        },
        "outputId": "e247ef2f-9d60-4e0d-e692-9e1ce4b3e7f5"
      },
      "outputs": [
        {
          "output_type": "stream",
          "name": "stdout",
          "text": [
            "    DIRECTORIO  SECUENCIA_P  SECUENCIA_ENCUESTA  COD_DEPTO  AREA  CLASE_TE  \\\n",
            "0      2120013            1                   1          8   NaN         2   \n",
            "1      2120018            1                   1          8   NaN         2   \n",
            "2      2120022            1                   1          8   NaN         2   \n",
            "3      2120023            1                   1          8   NaN         2   \n",
            "4      2120024            1                   1          8   NaN         1   \n",
            "5      2120026            1                   2          8   NaN         1   \n",
            "6      2120037            1                   1          8   NaN         1   \n",
            "7      2120038            1                   2          8   NaN         1   \n",
            "8      2120053            1                   2          8   NaN         1   \n",
            "9      2120053            1                   3          8   NaN         1   \n",
            "10     2120054            1                   1          8   NaN         1   \n",
            "11     2120064            1                   1          8   NaN         1   \n",
            "12     2120068            1                   1          8   NaN         1   \n",
            "13     2120076            1                   1          8   NaN         2   \n",
            "14     2120086            1                   1          8   NaN         2   \n",
            "\n",
            "    P35  P241 MES_REF  P3031  P3032_1  P3032_2  P3032_3  P3033  P3034  P3035  \\\n",
            "0     2    34   ENERO      2      NaN      NaN      NaN      2     19      2   \n",
            "1     2    48   ENERO      2      NaN      NaN      NaN      2      3      2   \n",
            "2     2    26   ENERO      2      NaN      NaN      NaN      2      6      2   \n",
            "3     1    73   ENERO      2      NaN      NaN      NaN      2    500      2   \n",
            "4     2    71   ENERO      2      NaN      NaN      NaN      2      2      2   \n",
            "5     1    22   ENERO      2      NaN      NaN      NaN      2      7      2   \n",
            "6     1    72   ENERO      2      NaN      NaN      NaN      2    108      1   \n",
            "7     2    63   ENERO      1      1.0      0.0      0.0      1     60      2   \n",
            "8     1    61   ENERO      2      NaN      NaN      NaN      2    240      2   \n",
            "9     1    35   ENERO      2      NaN      NaN      NaN      2      8      2   \n",
            "10    2    46   ENERO      2      NaN      NaN      NaN      2     72      2   \n",
            "11    2    31   ENERO      2      NaN      NaN      NaN      2      6      2   \n",
            "12    1    44   ENERO      2      NaN      NaN      NaN      2     72      2   \n",
            "13    1    48   ENERO      1      0.0      0.0      1.0      2      3      1   \n",
            "14    2    42   ENERO      1      1.0      0.0      0.0      1     36      1   \n",
            "\n",
            "    P3000  GRUPOS4  GRUPOS12       F_EXP  \n",
            "0       2        3         5   25.099238  \n",
            "1       2        4         7   22.117173  \n",
            "2       2        4         7   34.341336  \n",
            "3       2        1         1   21.413039  \n",
            "4       2        4         7  122.952097  \n",
            "5       2        3         5  182.474123  \n",
            "6       2        4         7  132.915712  \n",
            "7       2        4         7  124.146742  \n",
            "8       2        3         5   83.988234  \n",
            "9       2        4         6   83.988234  \n",
            "10      2        4         7  148.309512  \n",
            "11      2        3         5  183.472324  \n",
            "12      2        4         6  211.411420  \n",
            "13      2        3         5   29.368199  \n",
            "14      2        3         5   29.271194  \n"
          ]
        }
      ],
      "source": [
        "import pandas as pd\n",
        "\n",
        "# List of file names\n",
        "files = [\n",
        "    \"Módulo de identificación.csv\",\n",
        "    \"Módulo de capital social.csv\",\n",
        "    \"Módulo de características del micronegocio.csv\",\n",
        "    \"Módulo de costos, gastos y activos.csv\",\n",
        "    \"Módulo de emprendimiento.csv\",\n",
        "    \"Módulo de inclusión financiera.csv\",\n",
        "    \"Módulo de personal ocupado.csv\",\n",
        "    \"Módulo de sitio o ubicación.csv\",\n",
        "    \"Módulo de TIC.csv\",\n",
        "    \"Módulo de ventas o ingresos.csv\",\n",
        "    \"Módulo personal ocupado (propietario(a)).csv\"\n",
        "]\n",
        "\n",
        "# Dictionary to hold DataFrames\n",
        "datasets = {}\n",
        "\n",
        "# Read each file into a DataFrame and store it in the dictionary\n",
        "for file in files:\n",
        "    # Create a valid Python identifier for each file name\n",
        "    dataset_name = file.replace(\" \", \"_\").replace(\"(\", \"\").replace(\")\", \"\").replace(\",\", \"\").replace(\".csv\", \"\").replace(\"ó\", \"o\")\n",
        "    datasets[dataset_name] = pd.read_csv(\"/content/drive/MyDrive/Colab_Notebooks/Final_Project/Data/to_import/\"+file)  # Include the subdirectory in the file path\n",
        "\n",
        "# Now you can access each dataset by its name, for example:\n",
        "print(datasets['Modulo_de_identificacion'].head(15))"
      ]
    },
    {
      "cell_type": "code",
      "execution_count": 15,
      "metadata": {
        "id": "QSrlblpAag4L",
        "colab": {
          "base_uri": "https://localhost:8080/"
        },
        "outputId": "d357ec87-86f7-40a7-a196-977973a4cef4"
      },
      "outputs": [
        {
          "output_type": "stream",
          "name": "stdout",
          "text": [
            "   DIRECTORIO  SECUENCIA_P  SECUENCIA_ENCUESTA  COD_DEPTO  AREA  CLASE_TE  \\\n",
            "0     2120013            1                   1          8   NaN         2   \n",
            "1     2120018            1                   1          8   NaN         2   \n",
            "2     2120022            1                   1          8   NaN         2   \n",
            "3     2120023            1                   1          8   NaN         2   \n",
            "4     2120024            1                   1          8   NaN         1   \n",
            "\n",
            "   P35  P241 MES_REF  P3031  ...  VALOR_AGREGADO  INGRESO_MIXTO  P3088  P3089  \\\n",
            "0    2    34   ENERO      2  ...               0              0      2    NaN   \n",
            "1    2    48   ENERO      2  ...          175000         175000      2    NaN   \n",
            "2    2    26   ENERO      2  ...          155000         155000      2    NaN   \n",
            "3    1    73   ENERO      2  ...         -635000        -635000      2    NaN   \n",
            "4    2    71   ENERO      2  ...          890000         890000      2    NaN   \n",
            "\n",
            "   P3090  P2989  P3091  SUELDOS  PRESTACIONES  REMUNERACION_TOTAL  \n",
            "0      2      2      1      NaN             0                   0  \n",
            "1      2      2      1      NaN             0                   0  \n",
            "2      2      2      1      NaN             0                   0  \n",
            "3      2      2      1      NaN             0                   0  \n",
            "4      2      2      1      NaN             0                   0  \n",
            "\n",
            "[5 rows x 306 columns]\n"
          ]
        }
      ],
      "source": [
        "# Initialize the merged dataset with the first dataset\n",
        "emicron = datasets[list(datasets.keys())[0]]\n",
        "\n",
        "# Merge all other datasets\n",
        "for dataset_name, dataset in list(datasets.items())[1:]:\n",
        "    emicron = pd.merge(emicron, dataset, on=[\"DIRECTORIO\", \"SECUENCIA_ENCUESTA\", \"SECUENCIA_P\", \"CLASE_TE\", \"COD_DEPTO\", \"AREA\", \"F_EXP\"], how='left')\n",
        "\n",
        "# Now the 'emicron' DataFrame contains the merged data\n",
        "print(emicron.head())"
      ]
    },
    {
      "cell_type": "code",
      "source": [
        "f_ex_micro = pd.read_csv(\"/content/drive/MyDrive/Colab_Notebooks/Final_Project/Data/to_import/factores_departamental_2022_proy_2018.csv\")"
      ],
      "metadata": {
        "id": "RHCHj705s4S-"
      },
      "execution_count": 16,
      "outputs": []
    },
    {
      "cell_type": "code",
      "source": [
        "emicron = pd.merge(emicron, f_ex_micro, on=[\"DIRECTORIO\", \"SECUENCIA_ENCUESTA\", \"SECUENCIA_P\"], how='left')"
      ],
      "metadata": {
        "id": "8rAin8-ptE21"
      },
      "execution_count": 17,
      "outputs": []
    },
    {
      "cell_type": "code",
      "source": [
        "emicron.shape"
      ],
      "metadata": {
        "colab": {
          "base_uri": "https://localhost:8080/"
        },
        "id": "6zElv7Nn5goR",
        "outputId": "412961b6-b930-42e8-cce3-8d761bef6e8e"
      },
      "execution_count": 18,
      "outputs": [
        {
          "output_type": "execute_result",
          "data": {
            "text/plain": [
              "(85862, 307)"
            ]
          },
          "metadata": {},
          "execution_count": 18
        }
      ]
    },
    {
      "cell_type": "code",
      "source": [
        "print(emicron.columns.tolist())"
      ],
      "metadata": {
        "colab": {
          "base_uri": "https://localhost:8080/"
        },
        "id": "bAE8yiPAtlgO",
        "outputId": "2a6d8a84-feb5-47bd-eab5-06bc8fcbe7fd"
      },
      "execution_count": 19,
      "outputs": [
        {
          "output_type": "stream",
          "name": "stdout",
          "text": [
            "['DIRECTORIO', 'SECUENCIA_P', 'SECUENCIA_ENCUESTA', 'COD_DEPTO', 'AREA', 'CLASE_TE', 'P35', 'P241', 'MES_REF', 'P3031', 'P3032_1', 'P3032_2', 'P3032_3', 'P3033', 'P3034', 'P3035', 'P3000', 'GRUPOS4', 'GRUPOS12', 'F_EXP', 'P3002', 'P3003_1', 'P3003_2', 'P3003_3', 'P3003_4', 'P3003_5', 'P3003_6', 'P3003_7', 'P3003_8', 'P3004', 'P3005_1', 'P3005_2', 'P3005_3', 'P3005_4', 'P3005_5', 'P3005_6', 'P3005_7', 'P3005_8', 'P3006', 'P3007_1', 'P3007_2', 'P3007_3', 'P3007_4', 'P3007_5', 'P3007_6', 'P3007_7', 'P3007_8', 'P3008', 'P3009_1', 'P3009_2', 'P3009_3', 'P3009_4', 'P3009_5', 'P3009_6', 'P3009_7', 'P3009_8', 'P3010', 'P3011_1', 'P3011_2', 'P3011_3', 'P3011_4', 'P3011_5', 'P3011_6', 'P3011_7', 'P3011_8', 'P3012', 'P3013_1', 'P3013_2', 'P3013_3', 'P3013_4', 'P3013_5', 'P3013_6', 'P3013_7', 'P3013_8', 'P3022', 'P3015_1', 'P3015_2', 'P3015_3', 'P3015_4', 'P3015_5', 'P3015_6', 'P3015_7', 'P3015_8', 'P3016', 'P3021_1', 'P3021_2', 'P3021_3', 'P3021_4', 'P3021_5', 'P3021_6', 'P3021_7', 'P3021_8', 'P4003', 'P1633', 'P986', 'P640', 'P4000', 'P1055', 'P1056', 'P661', 'P1057', 'P4004', 'P2991', 'P2992', 'P2993', 'P3056_A', 'P3056_B', 'P3056_C', 'P3056_D', 'P3056_E', 'P3057_A', 'P3057_B', 'P3057_C', 'P3057_D', 'P3057_E', 'P3017_A', 'P3017_B', 'P3017_C', 'P3017_D', 'P3017_E', 'P3017_F', 'P3017_G', 'P3017_H', 'P3017_K', 'P3017_I', 'P3017_J', 'P3017_L', 'P3018_1', 'P3018_2', 'P3018_3', 'P3018_4', 'P3018_5', 'P3018_6', 'P3018_7', 'P3018_A', 'P3018_B', 'P3018_C', 'P3018_D', 'P3018_E', 'P3018_F', 'P3019', 'COSTOS_MES_ANTERIOR', 'COSTOS_ANIO_ANTERIOR', 'GASTOS_MES', 'CONSUMO_INTERMEDIO', 'P3050', 'P3051', 'P639', 'P3052', 'P1764_1', 'P1764_2', 'P1764_3', 'P1764_4', 'P1764_5', 'P1764_6', 'P1764_7', 'P1765', 'P1567', 'P1569', 'P1568', 'P1571_1', 'P1571_2', 'P1571_3', 'P1571_4', 'P1571_5', 'P1571_6', 'P1570', 'P1570_1', 'P1570_2', 'P1572_1', 'P1572_2', 'P1572_3', 'P1572_4', 'P1572_5', 'P1572_6', 'P3014', 'P1573_1', 'P1573_2', 'P1573_3', 'P1573_4', 'P1573_5', 'P1573_6', 'P1574', 'P1771', 'SECUENCIA_PH', 'TIPO', 'P3077', 'P3078', 'P3079', 'P3080', 'P3081', 'P3082', 'P3083', 'P3084', 'P2990', 'P3085', 'P3099', 'P3053', 'P3095', 'P3096', 'P3097', 'P3098', 'P3054', 'P3055', 'P469', 'P4001', 'P1087', 'P1088', 'P977', 'P976', 'P978', 'P979', 'P994', 'P2532', 'P1559', 'P2524', 'P1093', 'P2528', 'P1095', 'P980', 'P1006_1', 'P1006_2', 'P1006_3', 'P1006_4', 'P1006_5', 'P1006_6', 'P1006_7', 'P1006_8', 'P1006_9', 'P1006_10', 'P1006_11', 'P1006_12', 'P1006_13', 'P3057', 'P3058', 'P3059', 'P3060', 'P3061', 'P3062', 'P4002', 'P3063', 'P3064', 'P3065', 'P3066', 'P3067', 'P3092', 'P3093', 'P4036', 'P4005', 'P4006', 'P4007', 'P4008', 'P4009', 'P4010', 'P4011', 'P4012', 'P4013', 'P4014', 'P4015', 'P4016', 'P4017', 'P4018', 'P4037', 'P3068_ENE', 'P3068_FEB', 'P3068_MAR', 'P3068_ABR', 'P3068_MAY', 'P3068_JUN', 'P3068_JUL', 'P3068_AGO', 'P3068_SEP', 'P3068_OCT', 'P3068_NOV', 'P3068_DIC', 'P3068_TOD', 'P3068_NIN', 'P4019', 'P4020', 'P4021', 'P4022', 'P4023', 'P4024', 'P4025', 'P4026', 'P4027', 'P4028', 'P4029', 'P4030', 'P4031', 'P4032', 'P4038', 'P3072', 'VENTAS_MES_ANTERIOR', 'VENTAS_MES_ANIO_ANTERIOR', 'VENTAS_ANIO_ANTERIOR', 'VALOR_AGREGADO', 'INGRESO_MIXTO', 'P3088', 'P3089', 'P3090', 'P2989', 'P3091', 'SUELDOS', 'PRESTACIONES', 'REMUNERACION_TOTAL', 'FEX_MICRO_DPTO']\n"
          ]
        }
      ]
    },
    {
      "cell_type": "markdown",
      "source": [
        "#check relevant columns how many missing values"
      ],
      "metadata": {
        "id": "Ww-rgoGIjtNX"
      }
    },
    {
      "cell_type": "code",
      "source": [
        "columns = [\n",
        "    \"P3032_3\", \"P3033\", \"GRUPOS4\", \"GRUPOS12\", \"P3051\", \"P639\", \"P3052\", \"P3053\", \"P3088\", \"P3089\", \"P3090\", \"P2989\",\n",
        "    \"P3091\", \"SUELDOS\", \"PRESTACIONES\", \"REMUNERACION_TOTAL\", \"TIPO\", \"P3077\", \"P3079\", \"P3080\", \"P3081\", \"P3082\",\n",
        "    \"P3083\", \"P3084\", \"P2990\", \"P1633\", \"P986\", \"P640\", \"P4000\", \"P1055\", \"P1056\", \"P661\", \"P1057\", \"P4004\", \"P2991\",\n",
        "    \"P2992\", \"P2993\", \"P4001\", \"P2532\", \"P1559\", \"P2524\", \"P1093\", \"P3056_A\", \"P3056_B\", \"P3056_C\", \"P3056_D\", \"P3057_A\",\n",
        "    \"P3057_B\", \"P3057_C\", \"P3057_D\", \"P3017_A\", \"P3017_B\", \"P3017_C\", \"P3017_D\", \"P3017_E\", \"P3017_F\", \"P3017_G\", \"P3017_H\",\n",
        "    \"P3017_K\", \"P3017_I\", \"P3017_J\", \"P3017_L\", \"P3018_1\", \"P3018_2\", \"P3018_3\", \"P3018_4\", \"P3018_5\", \"P3018_6\", \"P3018_7\",\n",
        "    \"P3018_A\", \"P3018_B\", \"P3018_C\", \"P3018_D\", \"P3018_E\", \"P3018_F\", \"P3019\", \"COSTOS_MES_ANTERIOR\", \"COSTOS_ANIO_ANTERIOR\",\n",
        "    \"GASTOS_MES\", \"CONSUMO_INTERMEDIO\", \"P3057\", \"P3058\", \"P3059\", \"P3060\", \"P3061\", \"P3062\", \"P4002\", \"P3063\", \"P3064\",\n",
        "    \"P3065\", \"P3066\", \"P3067\", \"P3092\", \"P3093\", \"P4005\", \"P4006\", \"P4007\", \"P4008\", \"P4009\", \"P4010\", \"P4011\", \"P4012\",\n",
        "    \"P4013\", \"P4014\", \"P4015\", \"P4016\", \"P4017\", \"P4018\", \"P4019\", \"P4020\", \"P4021\", \"P4022\", \"P4023\", \"P4024\", \"P4025\", \"P4026\",\n",
        "    \"P4027\", \"P4028\", \"P4029\", \"P4030\", \"P4031\", \"P4032\", \"P3072\", \"VENTAS_MES_ANTERIOR\", \"VENTAS_MES_ANIO_ANTERIOR\",\n",
        "    \"VENTAS_ANIO_ANTERIOR\", \"VALOR_AGREGADO\", \"INGRESO_MIXTO\", \"P1764_1\", \"P1764_2\", \"P1764_3\", \"P1764_4\", \"P1764_5\",\n",
        "    \"P1764_6\", \"P1764_7\", \"P1765\", \"P1765\", \"P1567\", \"P1569\", \"P1568\", \"P1571_1\", \"P1571_2\", \"P1571_3\", \"P1571_4\", \"P1571_5\", \"P1571_6\",\n",
        "    \"P1570\", \"P1570_1\", \"P1570_2\", \"P1572_1\", \"P1572_2\", \"P1572_3\", \"P1572_4\", \"P1572_5\", \"P1572_6\",\n",
        "    \"P3014\", \"P1573_1\", \"P1573_2\", \"P1573_3\", \"P1573_4\", \"P1573_5\", \"P1573_6\", \"P1574\", \"P1771\", \"P3002\", \"P3003_1\", \"P3003_2\", \"P3003_3\",\n",
        "    \"P3003_4\", \"P3003_5\", \"P3003_6\", \"P3003_7\", \"P3003_8\", \"P3004\", \"P3005_1\", \"P3005_2\", \"P3005_3\", \"P3005_4\",\n",
        "    \"P3005_5\", \"P3005_6\", \"P3005_7\", \"P3005_8\", \"P3006\", \"P3007_1\", \"P3007_2\", \"P3007_3\", \"P3007_4\", \"P3007_5\",\n",
        "    \"P3007_6\", \"P3007_7\", \"P3007_8\", \"P3008\", \"P3009_1\", \"P3009_2\", \"P3009_3\", \"P3009_4\", \"P3009_5\", \"P3009_6\",\n",
        "    \"P3009_7\", \"P3009_8\", \"P3010\", \"P3011_1\", \"P3011_2\", \"P3011_3\", \"P3011_4\", \"P3011_5\", \"P3011_6\", \"P3011_7\",\n",
        "    \"P3011_8\", \"P3012\", \"P3013_1\", \"P3013_2\", \"P3013_3\", \"P3013_4\", \"P3013_5\", \"P3013_6\", \"P3013_7\", \"P3013_8\",\n",
        "    \"P3022\", \"P3015_1\", \"P3015_2\", \"P3015_3\", \"P3015_4\", \"P3015_5\", \"P3015_6\", \"P3015_7\", \"P3015_8\", \"P3016\",\n",
        "    \"P3021_1\", \"P3021_2\", \"P3021_3\", \"P3021_4\", \"P3021_5\", \"P3021_6\", \"P3021_7\", \"P3021_8\", \"P4003\"\n",
        "]\n",
        "\n",
        "emicron_relevant = emicron[columns]\n",
        "print(emicron_relevant.isnull().sum())"
      ],
      "metadata": {
        "colab": {
          "base_uri": "https://localhost:8080/"
        },
        "id": "6t7VlNmnjwBs",
        "outputId": "a3a05dda-dc84-4b57-c715-d10183a9deed"
      },
      "execution_count": 20,
      "outputs": [
        {
          "output_type": "stream",
          "name": "stdout",
          "text": [
            "P3032_3     69740\n",
            "P3033           0\n",
            "GRUPOS4         0\n",
            "GRUPOS12        0\n",
            "P3051           0\n",
            "            ...  \n",
            "P3021_5     85661\n",
            "P3021_6     85846\n",
            "P3021_7     85761\n",
            "P3021_8     85842\n",
            "P4003       83256\n",
            "Length: 237, dtype: int64\n"
          ]
        }
      ]
    },
    {
      "cell_type": "code",
      "source": [
        "print(emicron_relevant.columns[emicron_relevant.isnull().sum() == 0].tolist())\n"
      ],
      "metadata": {
        "colab": {
          "base_uri": "https://localhost:8080/"
        },
        "id": "n032G0m6wM-X",
        "outputId": "2ee8feef-4b80-4da5-e621-21ab9841c4d2"
      },
      "execution_count": 21,
      "outputs": [
        {
          "output_type": "stream",
          "name": "stdout",
          "text": [
            "['P3033', 'GRUPOS4', 'GRUPOS12', 'P3051', 'P639', 'P3053', 'P3088', 'P3090', 'P2989', 'P3091', 'PRESTACIONES', 'REMUNERACION_TOTAL', 'P1633', 'P640', 'P1055', 'P4001', 'P2532', 'P1559', 'P2524', 'P3017_A', 'P3017_B', 'P3017_C', 'P3017_D', 'P3017_E', 'P3017_F', 'P3017_G', 'P3017_H', 'P3017_K', 'P3017_I', 'P3017_J', 'P3017_L', 'COSTOS_MES_ANTERIOR', 'GASTOS_MES', 'CONSUMO_INTERMEDIO', 'P3072', 'VENTAS_MES_ANTERIOR', 'VALOR_AGREGADO', 'INGRESO_MIXTO', 'P3002', 'P3004', 'P3006', 'P3008', 'P3010', 'P3012', 'P3022', 'P3016']\n"
          ]
        }
      ]
    },
    {
      "cell_type": "code",
      "source": [
        "emicron.columns[emicron.isnull().any()].tolist()\n"
      ],
      "metadata": {
        "id": "CI2eC7SuzBxS",
        "colab": {
          "base_uri": "https://localhost:8080/"
        },
        "outputId": "4587c3bb-fb1d-4cbd-d549-b16a63dd82ed"
      },
      "execution_count": 22,
      "outputs": [
        {
          "output_type": "execute_result",
          "data": {
            "text/plain": [
              "['AREA',\n",
              " 'P3032_1',\n",
              " 'P3032_2',\n",
              " 'P3032_3',\n",
              " 'P3003_1',\n",
              " 'P3003_2',\n",
              " 'P3003_3',\n",
              " 'P3003_4',\n",
              " 'P3003_5',\n",
              " 'P3003_6',\n",
              " 'P3003_7',\n",
              " 'P3003_8',\n",
              " 'P3005_1',\n",
              " 'P3005_2',\n",
              " 'P3005_3',\n",
              " 'P3005_4',\n",
              " 'P3005_5',\n",
              " 'P3005_6',\n",
              " 'P3005_7',\n",
              " 'P3005_8',\n",
              " 'P3007_1',\n",
              " 'P3007_2',\n",
              " 'P3007_3',\n",
              " 'P3007_4',\n",
              " 'P3007_5',\n",
              " 'P3007_6',\n",
              " 'P3007_7',\n",
              " 'P3007_8',\n",
              " 'P3009_1',\n",
              " 'P3009_2',\n",
              " 'P3009_3',\n",
              " 'P3009_4',\n",
              " 'P3009_5',\n",
              " 'P3009_6',\n",
              " 'P3009_7',\n",
              " 'P3009_8',\n",
              " 'P3011_1',\n",
              " 'P3011_2',\n",
              " 'P3011_3',\n",
              " 'P3011_4',\n",
              " 'P3011_5',\n",
              " 'P3011_6',\n",
              " 'P3011_7',\n",
              " 'P3011_8',\n",
              " 'P3013_1',\n",
              " 'P3013_2',\n",
              " 'P3013_3',\n",
              " 'P3013_4',\n",
              " 'P3013_5',\n",
              " 'P3013_6',\n",
              " 'P3013_7',\n",
              " 'P3013_8',\n",
              " 'P3015_1',\n",
              " 'P3015_2',\n",
              " 'P3015_3',\n",
              " 'P3015_4',\n",
              " 'P3015_5',\n",
              " 'P3015_6',\n",
              " 'P3015_7',\n",
              " 'P3015_8',\n",
              " 'P3021_1',\n",
              " 'P3021_2',\n",
              " 'P3021_3',\n",
              " 'P3021_4',\n",
              " 'P3021_5',\n",
              " 'P3021_6',\n",
              " 'P3021_7',\n",
              " 'P3021_8',\n",
              " 'P4003',\n",
              " 'P986',\n",
              " 'P4000',\n",
              " 'P1056',\n",
              " 'P661',\n",
              " 'P1057',\n",
              " 'P4004',\n",
              " 'P2991',\n",
              " 'P2992',\n",
              " 'P2993',\n",
              " 'P3056_A',\n",
              " 'P3056_B',\n",
              " 'P3056_C',\n",
              " 'P3056_D',\n",
              " 'P3056_E',\n",
              " 'P3057_A',\n",
              " 'P3057_B',\n",
              " 'P3057_C',\n",
              " 'P3057_D',\n",
              " 'P3057_E',\n",
              " 'P3018_1',\n",
              " 'P3018_2',\n",
              " 'P3018_3',\n",
              " 'P3018_4',\n",
              " 'P3018_5',\n",
              " 'P3018_6',\n",
              " 'P3018_7',\n",
              " 'P3018_A',\n",
              " 'P3018_B',\n",
              " 'P3018_C',\n",
              " 'P3018_D',\n",
              " 'P3018_E',\n",
              " 'P3018_F',\n",
              " 'P3019',\n",
              " 'COSTOS_ANIO_ANTERIOR',\n",
              " 'P3052',\n",
              " 'P1764_1',\n",
              " 'P1764_2',\n",
              " 'P1764_3',\n",
              " 'P1764_4',\n",
              " 'P1764_5',\n",
              " 'P1764_6',\n",
              " 'P1764_7',\n",
              " 'P1765',\n",
              " 'P1567',\n",
              " 'P1569',\n",
              " 'P1568',\n",
              " 'P1571_1',\n",
              " 'P1571_2',\n",
              " 'P1571_3',\n",
              " 'P1571_4',\n",
              " 'P1571_5',\n",
              " 'P1571_6',\n",
              " 'P1570',\n",
              " 'P1570_1',\n",
              " 'P1570_2',\n",
              " 'P1572_1',\n",
              " 'P1572_2',\n",
              " 'P1572_3',\n",
              " 'P1572_4',\n",
              " 'P1572_5',\n",
              " 'P1572_6',\n",
              " 'P3014',\n",
              " 'P1573_1',\n",
              " 'P1573_2',\n",
              " 'P1573_3',\n",
              " 'P1573_4',\n",
              " 'P1573_5',\n",
              " 'P1573_6',\n",
              " 'P1574',\n",
              " 'P1771',\n",
              " 'SECUENCIA_PH',\n",
              " 'TIPO',\n",
              " 'P3077',\n",
              " 'P3078',\n",
              " 'P3079',\n",
              " 'P3080',\n",
              " 'P3081',\n",
              " 'P3082',\n",
              " 'P3083',\n",
              " 'P3084',\n",
              " 'P2990',\n",
              " 'P3085',\n",
              " 'P3099',\n",
              " 'P3095',\n",
              " 'P3096',\n",
              " 'P3097',\n",
              " 'P3098',\n",
              " 'P3054',\n",
              " 'P3055',\n",
              " 'P469',\n",
              " 'P1087',\n",
              " 'P1088',\n",
              " 'P977',\n",
              " 'P978',\n",
              " 'P979',\n",
              " 'P994',\n",
              " 'P1093',\n",
              " 'P2528',\n",
              " 'P1095',\n",
              " 'P980',\n",
              " 'P1006_1',\n",
              " 'P1006_2',\n",
              " 'P1006_3',\n",
              " 'P1006_4',\n",
              " 'P1006_5',\n",
              " 'P1006_6',\n",
              " 'P1006_7',\n",
              " 'P1006_8',\n",
              " 'P1006_9',\n",
              " 'P1006_10',\n",
              " 'P1006_11',\n",
              " 'P1006_12',\n",
              " 'P1006_13',\n",
              " 'P3057',\n",
              " 'P3058',\n",
              " 'P3059',\n",
              " 'P3060',\n",
              " 'P3061',\n",
              " 'P3062',\n",
              " 'P4002',\n",
              " 'P3063',\n",
              " 'P3064',\n",
              " 'P3065',\n",
              " 'P3066',\n",
              " 'P3067',\n",
              " 'P3092',\n",
              " 'P3093',\n",
              " 'P4036',\n",
              " 'P4005',\n",
              " 'P4006',\n",
              " 'P4007',\n",
              " 'P4008',\n",
              " 'P4009',\n",
              " 'P4010',\n",
              " 'P4011',\n",
              " 'P4012',\n",
              " 'P4013',\n",
              " 'P4014',\n",
              " 'P4015',\n",
              " 'P4016',\n",
              " 'P4017',\n",
              " 'P4018',\n",
              " 'P4037',\n",
              " 'P3068_ENE',\n",
              " 'P3068_FEB',\n",
              " 'P3068_MAR',\n",
              " 'P3068_ABR',\n",
              " 'P3068_MAY',\n",
              " 'P3068_JUN',\n",
              " 'P3068_JUL',\n",
              " 'P3068_AGO',\n",
              " 'P3068_SEP',\n",
              " 'P3068_OCT',\n",
              " 'P3068_NOV',\n",
              " 'P3068_DIC',\n",
              " 'P3068_TOD',\n",
              " 'P3068_NIN',\n",
              " 'P4019',\n",
              " 'P4020',\n",
              " 'P4021',\n",
              " 'P4022',\n",
              " 'P4023',\n",
              " 'P4024',\n",
              " 'P4025',\n",
              " 'P4026',\n",
              " 'P4027',\n",
              " 'P4028',\n",
              " 'P4029',\n",
              " 'P4030',\n",
              " 'P4031',\n",
              " 'P4032',\n",
              " 'P4038',\n",
              " 'VENTAS_MES_ANIO_ANTERIOR',\n",
              " 'VENTAS_ANIO_ANTERIOR',\n",
              " 'P3089',\n",
              " 'SUELDOS']"
            ]
          },
          "metadata": {},
          "execution_count": 22
        }
      ]
    },
    {
      "cell_type": "markdown",
      "source": [
        "Most important columns with missing values (even though we could exclude them)\n",
        "\n",
        "P661\n",
        "\n",
        "P1057\n",
        "\n",
        "P2991\n",
        "\n",
        "P2992\n",
        "\n",
        "P2993\n",
        "\n",
        "P3014\n",
        "\n",
        "SECUENCIA_PH\n",
        "\n",
        "TIPO\n",
        "\n",
        "P3080\n",
        "\n",
        "P3082\n",
        "\n",
        "P3084\n",
        "\n",
        "P2990"
      ],
      "metadata": {
        "id": "2XjoMqLV4e9E"
      }
    },
    {
      "cell_type": "markdown",
      "source": [
        "#take only relevant columns and the ones with no NaN values\n"
      ],
      "metadata": {
        "id": "KdR2-AObyv3y"
      }
    },
    {
      "cell_type": "code",
      "source": [
        "import matplotlib.pyplot as plt\n",
        "\n",
        "# Assuming 'emicron' is a DataFrame\n",
        "# Replace 'emicron' with your actual DataFrame name\n",
        "missing_values = emicron.isna().sum()\n",
        "\n",
        "plt.figure(figsize=(10, 6))\n",
        "plt.bar(missing_values.index, missing_values.values, color='skyblue')\n",
        "plt.xlabel('Column Names')\n",
        "plt.ylabel('Number of Missing Values')\n",
        "plt.title('Missing Values in Columns')\n",
        "plt.xticks(rotation=90)\n",
        "plt.show()\n"
      ],
      "metadata": {
        "id": "JtTJFqGsnYi8",
        "colab": {
          "base_uri": "https://localhost:8080/",
          "height": 761
        },
        "outputId": "3ae48d40-f041-4fcc-d00e-b5ce8eae9a25"
      },
      "execution_count": 23,
      "outputs": [
        {
          "output_type": "display_data",
          "data": {
            "text/plain": [
              "<Figure size 1000x600 with 1 Axes>"
            ],
            "image/png": "[encoded data removed]"
          },
          "metadata": {}
        }
      ]
    },
    {
      "cell_type": "code",
      "source": [
        "emicron.describe()"
      ],
      "metadata": {
        "id": "U1M2DbKvuZwF",
        "colab": {
          "base_uri": "https://localhost:8080/",
          "height": 350
        },
        "outputId": "44e5dd90-64a6-42b0-90fc-fc2bcc88bd2a"
      },
      "execution_count": 24,
      "outputs": [
        {
          "output_type": "execute_result",
          "data": {
            "text/plain": [
              "         DIRECTORIO   SECUENCIA_P  SECUENCIA_ENCUESTA     COD_DEPTO  \\\n",
              "count  8.586200e+04  85862.000000        85862.000000  85862.000000   \n",
              "mean   6.362254e+06      1.012427            1.641692     39.359728   \n",
              "std    1.503369e+06      0.140036            1.101988     24.190233   \n",
              "min    2.120013e+06      1.000000            1.000000      5.000000   \n",
              "25%    5.062826e+06      1.000000            1.000000     17.000000   \n",
              "50%    7.093747e+06      1.000000            1.000000     44.000000   \n",
              "75%    7.185496e+06      1.000000            2.000000     63.000000   \n",
              "max    7.277068e+06      7.000000           17.000000     88.000000   \n",
              "\n",
              "               AREA      CLASE_TE           P35          P241         P3031  \\\n",
              "count  56785.000000  85862.000000  85862.000000  85862.000000  85862.000000   \n",
              "mean      38.930897      1.170890      1.362442     45.735599      1.812234   \n",
              "std       24.624744      0.376415      0.480708     14.330075      0.390528   \n",
              "min        5.000000      1.000000      1.000000     18.000000      1.000000   \n",
              "25%       17.000000      1.000000      1.000000     34.000000      2.000000   \n",
              "50%       44.000000      1.000000      1.000000     45.000000      2.000000   \n",
              "75%       63.000000      1.000000      2.000000     56.000000      2.000000   \n",
              "max       88.000000      2.000000      2.000000     99.000000      2.000000   \n",
              "\n",
              "            P3032_1  ...  INGRESO_MIXTO         P3088         P3089  \\\n",
              "count  16122.000000  ...   8.586200e+04  85862.000000  9.408000e+03   \n",
              "mean       0.950751  ...   7.842018e+05      1.958154  2.674793e+05   \n",
              "std        1.262145  ...   4.368175e+06      0.334424  2.009095e+05   \n",
              "min        0.000000  ...  -4.545808e+08      1.000000  1.000000e+04   \n",
              "25%        0.000000  ...   2.039295e+05      2.000000  1.300000e+05   \n",
              "50%        1.000000  ...   5.600000e+05      2.000000  2.850000e+05   \n",
              "75%        1.000000  ...   1.010000e+06      2.000000  3.000000e+05   \n",
              "max        8.000000  ...   2.807619e+08      4.000000  4.500000e+06   \n",
              "\n",
              "              P3090         P2989         P3091       SUELDOS  PRESTACIONES  \\\n",
              "count  85862.000000  85862.000000  85862.000000  1.612200e+04  8.586200e+04   \n",
              "mean       1.944900      1.986047      1.301880  8.056283e+05  5.762338e+04   \n",
              "std        0.228177      0.117295      0.888092  1.464076e+06  3.803510e+05   \n",
              "min        1.000000      1.000000      1.000000  0.000000e+00  0.000000e+00   \n",
              "25%        2.000000      2.000000      1.000000  0.000000e+00  0.000000e+00   \n",
              "50%        2.000000      2.000000      1.000000  2.000000e+05  0.000000e+00   \n",
              "75%        2.000000      2.000000      1.000000  1.000000e+06  0.000000e+00   \n",
              "max        2.000000      2.000000     99.000000  3.612000e+07  1.675500e+07   \n",
              "\n",
              "       REMUNERACION_TOTAL  FEX_MICRO_DPTO  \n",
              "count        8.586200e+04    85862.000000  \n",
              "mean         2.088933e+05       61.326591  \n",
              "std          9.601354e+05       88.553764  \n",
              "min          0.000000e+00        1.301024  \n",
              "25%          0.000000e+00       13.768496  \n",
              "50%          0.000000e+00       27.642671  \n",
              "75%          0.000000e+00       72.617641  \n",
              "max          4.864560e+07     1548.767582  \n",
              "\n",
              "[8 rows x 306 columns]"
            ],
            "text/html": [
              "\n",
              "  <div id=\"df-f2e94a80-2d2d-4b27-8483-0843f2a85f84\" class=\"colab-df-container\">\n",
              "    <div>\n",
              "<style scoped>\n",
              "    .dataframe tbody tr th:only-of-type {\n",
              "        vertical-align: middle;\n",
              "    }\n",
              "\n",
              "    .dataframe tbody tr th {\n",
              "        vertical-align: top;\n",
              "    }\n",
              "\n",
              "    .dataframe thead th {\n",
              "        text-align: right;\n",
              "    }\n",
              "</style>\n",
              "<table border=\"1\" class=\"dataframe\">\n",
              "  <thead>\n",
              "    <tr style=\"text-align: right;\">\n",
              "      <th></th>\n",
              "      <th>DIRECTORIO</th>\n",
              "      <th>SECUENCIA_P</th>\n",
              "      <th>SECUENCIA_ENCUESTA</th>\n",
              "      <th>COD_DEPTO</th>\n",
              "      <th>AREA</th>\n",
              "      <th>CLASE_TE</th>\n",
              "      <th>P35</th>\n",
              "      <th>P241</th>\n",
              "      <th>P3031</th>\n",
              "      <th>P3032_1</th>\n",
              "      <th>...</th>\n",
              "      <th>INGRESO_MIXTO</th>\n",
              "      <th>P3088</th>\n",
              "      <th>P3089</th>\n",
              "      <th>P3090</th>\n",
              "      <th>P2989</th>\n",
              "      <th>P3091</th>\n",
              "      <th>SUELDOS</th>\n",
              "      <th>PRESTACIONES</th>\n",
              "      <th>REMUNERACION_TOTAL</th>\n",
              "      <th>FEX_MICRO_DPTO</th>\n",
              "    </tr>\n",
              "  </thead>\n",
              "  <tbody>\n",
              "    <tr>\n",
              "      <th>count</th>\n",
              "      <td>8.586200e+04</td>\n",
              "      <td>85862.000000</td>\n",
              "      <td>85862.000000</td>\n",
              "      <td>85862.000000</td>\n",
              "      <td>56785.000000</td>\n",
              "      <td>85862.000000</td>\n",
              "      <td>85862.000000</td>\n",
              "      <td>85862.000000</td>\n",
              "      <td>85862.000000</td>\n",
              "      <td>16122.000000</td>\n",
              "      <td>...</td>\n",
              "      <td>8.586200e+04</td>\n",
              "      <td>85862.000000</td>\n",
              "      <td>9.408000e+03</td>\n",
              "      <td>85862.000000</td>\n",
              "      <td>85862.000000</td>\n",
              "      <td>85862.000000</td>\n",
              "      <td>1.612200e+04</td>\n",
              "      <td>8.586200e+04</td>\n",
              "      <td>8.586200e+04</td>\n",
              "      <td>85862.000000</td>\n",
              "    </tr>\n",
              "    <tr>\n",
              "      <th>mean</th>\n",
              "      <td>6.362254e+06</td>\n",
              "      <td>1.012427</td>\n",
              "      <td>1.641692</td>\n",
              "      <td>39.359728</td>\n",
              "      <td>38.930897</td>\n",
              "      <td>1.170890</td>\n",
              "      <td>1.362442</td>\n",
              "      <td>45.735599</td>\n",
              "      <td>1.812234</td>\n",
              "      <td>0.950751</td>\n",
              "      <td>...</td>\n",
              "      <td>7.842018e+05</td>\n",
              "      <td>1.958154</td>\n",
              "      <td>2.674793e+05</td>\n",
              "      <td>1.944900</td>\n",
              "      <td>1.986047</td>\n",
              "      <td>1.301880</td>\n",
              "      <td>8.056283e+05</td>\n",
              "      <td>5.762338e+04</td>\n",
              "      <td>2.088933e+05</td>\n",
              "      <td>61.326591</td>\n",
              "    </tr>\n",
              "    <tr>\n",
              "      <th>std</th>\n",
              "      <td>1.503369e+06</td>\n",
              "      <td>0.140036</td>\n",
              "      <td>1.101988</td>\n",
              "      <td>24.190233</td>\n",
              "      <td>24.624744</td>\n",
              "      <td>0.376415</td>\n",
              "      <td>0.480708</td>\n",
              "      <td>14.330075</td>\n",
              "      <td>0.390528</td>\n",
              "      <td>1.262145</td>\n",
              "      <td>...</td>\n",
              "      <td>4.368175e+06</td>\n",
              "      <td>0.334424</td>\n",
              "      <td>2.009095e+05</td>\n",
              "      <td>0.228177</td>\n",
              "      <td>0.117295</td>\n",
              "      <td>0.888092</td>\n",
              "      <td>1.464076e+06</td>\n",
              "      <td>3.803510e+05</td>\n",
              "      <td>9.601354e+05</td>\n",
              "      <td>88.553764</td>\n",
              "    </tr>\n",
              "    <tr>\n",
              "      <th>min</th>\n",
              "      <td>2.120013e+06</td>\n",
              "      <td>1.000000</td>\n",
              "      <td>1.000000</td>\n",
              "      <td>5.000000</td>\n",
              "      <td>5.000000</td>\n",
              "      <td>1.000000</td>\n",
              "      <td>1.000000</td>\n",
              "      <td>18.000000</td>\n",
              "      <td>1.000000</td>\n",
              "      <td>0.000000</td>\n",
              "      <td>...</td>\n",
              "      <td>-4.545808e+08</td>\n",
              "      <td>1.000000</td>\n",
              "      <td>1.000000e+04</td>\n",
              "      <td>1.000000</td>\n",
              "      <td>1.000000</td>\n",
              "      <td>1.000000</td>\n",
              "      <td>0.000000e+00</td>\n",
              "      <td>0.000000e+00</td>\n",
              "      <td>0.000000e+00</td>\n",
              "      <td>1.301024</td>\n",
              "    </tr>\n",
              "    <tr>\n",
              "      <th>25%</th>\n",
              "      <td>5.062826e+06</td>\n",
              "      <td>1.000000</td>\n",
              "      <td>1.000000</td>\n",
              "      <td>17.000000</td>\n",
              "      <td>17.000000</td>\n",
              "      <td>1.000000</td>\n",
              "      <td>1.000000</td>\n",
              "      <td>34.000000</td>\n",
              "      <td>2.000000</td>\n",
              "      <td>0.000000</td>\n",
              "      <td>...</td>\n",
              "      <td>2.039295e+05</td>\n",
              "      <td>2.000000</td>\n",
              "      <td>1.300000e+05</td>\n",
              "      <td>2.000000</td>\n",
              "      <td>2.000000</td>\n",
              "      <td>1.000000</td>\n",
              "      <td>0.000000e+00</td>\n",
              "      <td>0.000000e+00</td>\n",
              "      <td>0.000000e+00</td>\n",
              "      <td>13.768496</td>\n",
              "    </tr>\n",
              "    <tr>\n",
              "      <th>50%</th>\n",
              "      <td>7.093747e+06</td>\n",
              "      <td>1.000000</td>\n",
              "      <td>1.000000</td>\n",
              "      <td>44.000000</td>\n",
              "      <td>44.000000</td>\n",
              "      <td>1.000000</td>\n",
              "      <td>1.000000</td>\n",
              "      <td>45.000000</td>\n",
              "      <td>2.000000</td>\n",
              "      <td>1.000000</td>\n",
              "      <td>...</td>\n",
              "      <td>5.600000e+05</td>\n",
              "      <td>2.000000</td>\n",
              "      <td>2.850000e+05</td>\n",
              "      <td>2.000000</td>\n",
              "      <td>2.000000</td>\n",
              "      <td>1.000000</td>\n",
              "      <td>2.000000e+05</td>\n",
              "      <td>0.000000e+00</td>\n",
              "      <td>0.000000e+00</td>\n",
              "      <td>27.642671</td>\n",
              "    </tr>\n",
              "    <tr>\n",
              "      <th>75%</th>\n",
              "      <td>7.185496e+06</td>\n",
              "      <td>1.000000</td>\n",
              "      <td>2.000000</td>\n",
              "      <td>63.000000</td>\n",
              "      <td>63.000000</td>\n",
              "      <td>1.000000</td>\n",
              "      <td>2.000000</td>\n",
              "      <td>56.000000</td>\n",
              "      <td>2.000000</td>\n",
              "      <td>1.000000</td>\n",
              "      <td>...</td>\n",
              "      <td>1.010000e+06</td>\n",
              "      <td>2.000000</td>\n",
              "      <td>3.000000e+05</td>\n",
              "      <td>2.000000</td>\n",
              "      <td>2.000000</td>\n",
              "      <td>1.000000</td>\n",
              "      <td>1.000000e+06</td>\n",
              "      <td>0.000000e+00</td>\n",
              "      <td>0.000000e+00</td>\n",
              "      <td>72.617641</td>\n",
              "    </tr>\n",
              "    <tr>\n",
              "      <th>max</th>\n",
              "      <td>7.277068e+06</td>\n",
              "      <td>7.000000</td>\n",
              "      <td>17.000000</td>\n",
              "      <td>88.000000</td>\n",
              "      <td>88.000000</td>\n",
              "      <td>2.000000</td>\n",
              "      <td>2.000000</td>\n",
              "      <td>99.000000</td>\n",
              "      <td>2.000000</td>\n",
              "      <td>8.000000</td>\n",
              "      <td>...</td>\n",
              "      <td>2.807619e+08</td>\n",
              "      <td>4.000000</td>\n",
              "      <td>4.500000e+06</td>\n",
              "      <td>2.000000</td>\n",
              "      <td>2.000000</td>\n",
              "      <td>99.000000</td>\n",
              "      <td>3.612000e+07</td>\n",
              "      <td>1.675500e+07</td>\n",
              "      <td>4.864560e+07</td>\n",
              "      <td>1548.767582</td>\n",
              "    </tr>\n",
              "  </tbody>\n",
              "</table>\n",
              "<p>8 rows × 306 columns</p>\n",
              "</div>\n",
              "    <div class=\"colab-df-buttons\">\n",
              "\n",
              "  <div class=\"colab-df-container\">\n",
              "    <button class=\"colab-df-convert\" onclick=\"convertToInteractive('df-f2e94a80-2d2d-4b27-8483-0843f2a85f84')\"\n",
              "            title=\"Convert this dataframe to an interactive table.\"\n",
              "            style=\"display:none;\">\n",
              "\n",
              "  <svg xmlns=\"http://www.w3.org/2000/svg\" height=\"24px\" viewBox=\"0 -960 960 960\">\n",
              "    <path d=\"M120-120v-720h720v720H120Zm60-500h600v-160H180v160Zm220 220h160v-160H400v160Zm0 220h160v-160H400v160ZM180-400h160v-160H180v160Zm440 0h160v-160H620v160ZM180-180h160v-160H180v160Zm440 0h160v-160H620v160Z\"/>\n",
              "  </svg>\n",
              "    </button>\n",
              "\n",
              "  <style>\n",
              "    .colab-df-container {\n",
              "      display:flex;\n",
              "      gap: 12px;\n",
              "    }\n",
              "\n",
              "    .colab-df-convert {\n",
              "      background-color: #E8F0FE;\n",
              "      border: none;\n",
              "      border-radius: 50%;\n",
              "      cursor: pointer;\n",
              "      display: none;\n",
              "      fill: #1967D2;\n",
              "      height: 32px;\n",
              "      padding: 0 0 0 0;\n",
              "      width: 32px;\n",
              "    }\n",
              "\n",
              "    .colab-df-convert:hover {\n",
              "      background-color: #E2EBFA;\n",
              "      box-shadow: 0px 1px 2px rgba(60, 64, 67, 0.3), 0px 1px 3px 1px rgba(60, 64, 67, 0.15);\n",
              "      fill: #174EA6;\n",
              "    }\n",
              "\n",
              "    .colab-df-buttons div {\n",
              "      margin-bottom: 4px;\n",
              "    }\n",
              "\n",
              "    [theme=dark] .colab-df-convert {\n",
              "      background-color: #3B4455;\n",
              "      fill: #D2E3FC;\n",
              "    }\n",
              "\n",
              "    [theme=dark] .colab-df-convert:hover {\n",
              "      background-color: #434B5C;\n",
              "      box-shadow: 0px 1px 3px 1px rgba(0, 0, 0, 0.15);\n",
              "      filter: drop-shadow(0px 1px 2px rgba(0, 0, 0, 0.3));\n",
              "      fill: #FFFFFF;\n",
              "    }\n",
              "  </style>\n",
              "\n",
              "    <script>\n",
              "      const buttonEl =\n",
              "        document.querySelector('#df-f2e94a80-2d2d-4b27-8483-0843f2a85f84 button.colab-df-convert');\n",
              "      buttonEl.style.display =\n",
              "        google.colab.kernel.accessAllowed ? 'block' : 'none';\n",
              "\n",
              "      async function convertToInteractive(key) {\n",
              "        const element = document.querySelector('#df-f2e94a80-2d2d-4b27-8483-0843f2a85f84');\n",
              "        const dataTable =\n",
              "          await google.colab.kernel.invokeFunction('convertToInteractive',\n",
              "                                                    [key], {});\n",
              "        if (!dataTable) return;\n",
              "\n",
              "        const docLinkHtml = 'Like what you see? Visit the ' +\n",
              "          '<a target=\"_blank\" href=https://colab.research.google.com/notebooks/data_table.ipynb>data table notebook</a>'\n",
              "          + ' to learn more about interactive tables.';\n",
              "        element.innerHTML = '';\n",
              "        dataTable['output_type'] = 'display_data';\n",
              "        await google.colab.output.renderOutput(dataTable, element);\n",
              "        const docLink = document.createElement('div');\n",
              "        docLink.innerHTML = docLinkHtml;\n",
              "        element.appendChild(docLink);\n",
              "      }\n",
              "    </script>\n",
              "  </div>\n",
              "\n",
              "\n",
              "<div id=\"df-23e03f9a-ef12-4520-978a-a6c7c9ec888f\">\n",
              "  <button class=\"colab-df-quickchart\" onclick=\"quickchart('df-23e03f9a-ef12-4520-978a-a6c7c9ec888f')\"\n",
              "            title=\"Suggest charts\"\n",
              "            style=\"display:none;\">\n",
              "\n",
              "<svg xmlns=\"http://www.w3.org/2000/svg\" height=\"24px\"viewBox=\"0 0 24 24\"\n",
              "     width=\"24px\">\n",
              "    <g>\n",
              "        <path d=\"M19 3H5c-1.1 0-2 .9-2 2v14c0 1.1.9 2 2 2h14c1.1 0 2-.9 2-2V5c0-1.1-.9-2-2-2zM9 17H7v-7h2v7zm4 0h-2V7h2v10zm4 0h-2v-4h2v4z\"/>\n",
              "    </g>\n",
              "</svg>\n",
              "  </button>\n",
              "\n",
              "<style>\n",
              "  .colab-df-quickchart {\n",
              "      --bg-color: #E8F0FE;\n",
              "      --fill-color: #1967D2;\n",
              "      --hover-bg-color: #E2EBFA;\n",
              "      --hover-fill-color: #174EA6;\n",
              "      --disabled-fill-color: #AAA;\n",
              "      --disabled-bg-color: #DDD;\n",
              "  }\n",
              "\n",
              "  [theme=dark] .colab-df-quickchart {\n",
              "      --bg-color: #3B4455;\n",
              "      --fill-color: #D2E3FC;\n",
              "      --hover-bg-color: #434B5C;\n",
              "      --hover-fill-color: #FFFFFF;\n",
              "      --disabled-bg-color: #3B4455;\n",
              "      --disabled-fill-color: #666;\n",
              "  }\n",
              "\n",
              "  .colab-df-quickchart {\n",
              "    background-color: var(--bg-color);\n",
              "    border: none;\n",
              "    border-radius: 50%;\n",
              "    cursor: pointer;\n",
              "    display: none;\n",
              "    fill: var(--fill-color);\n",
              "    height: 32px;\n",
              "    padding: 0;\n",
              "    width: 32px;\n",
              "  }\n",
              "\n",
              "  .colab-df-quickchart:hover {\n",
              "    background-color: var(--hover-bg-color);\n",
              "    box-shadow: 0 1px 2px rgba(60, 64, 67, 0.3), 0 1px 3px 1px rgba(60, 64, 67, 0.15);\n",
              "    fill: var(--button-hover-fill-color);\n",
              "  }\n",
              "\n",
              "  .colab-df-quickchart-complete:disabled,\n",
              "  .colab-df-quickchart-complete:disabled:hover {\n",
              "    background-color: var(--disabled-bg-color);\n",
              "    fill: var(--disabled-fill-color);\n",
              "    box-shadow: none;\n",
              "  }\n",
              "\n",
              "  .colab-df-spinner {\n",
              "    border: 2px solid var(--fill-color);\n",
              "    border-color: transparent;\n",
              "    border-bottom-color: var(--fill-color);\n",
              "    animation:\n",
              "      spin 1s steps(1) infinite;\n",
              "  }\n",
              "\n",
              "  @keyframes spin {\n",
              "    0% {\n",
              "      border-color: transparent;\n",
              "      border-bottom-color: var(--fill-color);\n",
              "      border-left-color: var(--fill-color);\n",
              "    }\n",
              "    20% {\n",
              "      border-color: transparent;\n",
              "      border-left-color: var(--fill-color);\n",
              "      border-top-color: var(--fill-color);\n",
              "    }\n",
              "    30% {\n",
              "      border-color: transparent;\n",
              "      border-left-color: var(--fill-color);\n",
              "      border-top-color: var(--fill-color);\n",
              "      border-right-color: var(--fill-color);\n",
              "    }\n",
              "    40% {\n",
              "      border-color: transparent;\n",
              "      border-right-color: var(--fill-color);\n",
              "      border-top-color: var(--fill-color);\n",
              "    }\n",
              "    60% {\n",
              "      border-color: transparent;\n",
              "      border-right-color: var(--fill-color);\n",
              "    }\n",
              "    80% {\n",
              "      border-color: transparent;\n",
              "      border-right-color: var(--fill-color);\n",
              "      border-bottom-color: var(--fill-color);\n",
              "    }\n",
              "    90% {\n",
              "      border-color: transparent;\n",
              "      border-bottom-color: var(--fill-color);\n",
              "    }\n",
              "  }\n",
              "</style>\n",
              "\n",
              "  <script>\n",
              "    async function quickchart(key) {\n",
              "      const quickchartButtonEl =\n",
              "        document.querySelector('#' + key + ' button');\n",
              "      quickchartButtonEl.disabled = true;  // To prevent multiple clicks.\n",
              "      quickchartButtonEl.classList.add('colab-df-spinner');\n",
              "      try {\n",
              "        const charts = await google.colab.kernel.invokeFunction(\n",
              "            'suggestCharts', [key], {});\n",
              "      } catch (error) {\n",
              "        console.error('Error during call to suggestCharts:', error);\n",
              "      }\n",
              "      quickchartButtonEl.classList.remove('colab-df-spinner');\n",
              "      quickchartButtonEl.classList.add('colab-df-quickchart-complete');\n",
              "    }\n",
              "    (() => {\n",
              "      let quickchartButtonEl =\n",
              "        document.querySelector('#df-23e03f9a-ef12-4520-978a-a6c7c9ec888f button');\n",
              "      quickchartButtonEl.style.display =\n",
              "        google.colab.kernel.accessAllowed ? 'block' : 'none';\n",
              "    })();\n",
              "  </script>\n",
              "</div>\n",
              "    </div>\n",
              "  </div>\n"
            ],
            "application/vnd.google.colaboratory.intrinsic+json": {
              "type": "dataframe"
            }
          },
          "metadata": {},
          "execution_count": 24
        }
      ]
    },
    {
      "cell_type": "code",
      "source": [
        "print((emicron.isna().sum()<20808).sum())\n",
        "print((emicron.isna().sum()>20808).sum())"
      ],
      "metadata": {
        "colab": {
          "base_uri": "https://localhost:8080/"
        },
        "id": "kAaBPgc7tb1v",
        "outputId": "71b5a60f-75b7-45ed-faef-53b484572d9c"
      },
      "execution_count": 25,
      "outputs": [
        {
          "output_type": "stream",
          "name": "stdout",
          "text": [
            "72\n",
            "235\n"
          ]
        }
      ]
    },
    {
      "cell_type": "code",
      "source": [
        "(emicron.isnull().sum(axis=1).mean())/emicron.shape[1]"
      ],
      "metadata": {
        "colab": {
          "base_uri": "https://localhost:8080/"
        },
        "id": "AxdVRr_kteAN",
        "outputId": "c4e664e3-262a-4853-e307-ba248a36ed0a"
      },
      "execution_count": 26,
      "outputs": [
        {
          "output_type": "execute_result",
          "data": {
            "text/plain": [
              "0.6675025153991136"
            ]
          },
          "metadata": {},
          "execution_count": 26
        }
      ]
    },
    {
      "cell_type": "code",
      "source": [
        "emicron.shape"
      ],
      "metadata": {
        "colab": {
          "base_uri": "https://localhost:8080/"
        },
        "id": "cl9No6tKw59Z",
        "outputId": "94916624-7ddd-4a87-b466-8083c011beb9"
      },
      "execution_count": 27,
      "outputs": [
        {
          "output_type": "execute_result",
          "data": {
            "text/plain": [
              "(85862, 307)"
            ]
          },
          "metadata": {},
          "execution_count": 27
        }
      ]
    },
    {
      "cell_type": "code",
      "source": [
        "emicron['COD_DEPTO']"
      ],
      "metadata": {
        "colab": {
          "base_uri": "https://localhost:8080/"
        },
        "id": "1zrmAKdYrXTM",
        "outputId": "6e40139f-05af-418b-9300-ec2ca9bef697"
      },
      "execution_count": 28,
      "outputs": [
        {
          "output_type": "execute_result",
          "data": {
            "text/plain": [
              "0         8\n",
              "1         8\n",
              "2         8\n",
              "3         8\n",
              "4         8\n",
              "         ..\n",
              "85857    66\n",
              "85858    66\n",
              "85859    66\n",
              "85860    25\n",
              "85861    25\n",
              "Name: COD_DEPTO, Length: 85862, dtype: int64"
            ]
          },
          "metadata": {},
          "execution_count": 28
        }
      ]
    },
    {
      "cell_type": "code",
      "source": [
        "# Calculate the percentage of NaN values in each column\n",
        "nan_percentages = emicron.isnull().mean()\n",
        "\n",
        "# Filter columns with more than 0% NaN values\n",
        "columns_to_drop = nan_percentages[nan_percentages > 0].index\n",
        "\n",
        "\n",
        "# Values to exclude from columns_to_drop\n",
        "exclude_values = ['AREA', 'COD_DEPTO']\n",
        "\n",
        "# Remove specified values from columns_to_drop\n",
        "columns_to_drop_filtered = [col for col in columns_to_drop if col not in exclude_values]\n",
        "\n",
        "# Drop the identified columns\n",
        "emicron.drop(columns_to_drop_filtered, axis=1, inplace=True)\n",
        "\n",
        "# Now 'emicron' contains the remaining columns\n",
        "emicron.shape"
      ],
      "metadata": {
        "colab": {
          "base_uri": "https://localhost:8080/"
        },
        "id": "Lvc-0BPCxwb5",
        "outputId": "8460cd2e-18f5-44ed-db62-f62c79f2d4c4"
      },
      "execution_count": 29,
      "outputs": [
        {
          "output_type": "execute_result",
          "data": {
            "text/plain": [
              "(85862, 63)"
            ]
          },
          "metadata": {},
          "execution_count": 29
        }
      ]
    },
    {
      "cell_type": "code",
      "source": [
        "#167 if 90%. 187 if 95%"
      ],
      "metadata": {
        "id": "Blb_MmkZ6W-F"
      },
      "execution_count": 30,
      "outputs": []
    },
    {
      "cell_type": "markdown",
      "source": [
        "#take only relevant rows with no Nan values"
      ],
      "metadata": {
        "id": "eoarDkvAy1M_"
      }
    },
    {
      "cell_type": "code",
      "source": [
        "pd.set_option('display.max_columns', None)  # Show all columns\n",
        "pd.set_option('display.max_rows', None)  # Show all columns"
      ],
      "metadata": {
        "id": "UhAllLSbpzKP"
      },
      "execution_count": 31,
      "outputs": []
    },
    {
      "cell_type": "code",
      "source": [
        "nan_percentages = emicron.isnull().mean(axis=1)\n",
        "columns_to_drop = nan_percentages[nan_percentages > 0].index\n",
        "emicron.drop(columns_to_drop, inplace=True)"
      ],
      "metadata": {
        "id": "yhjsV2Tg48Bl"
      },
      "execution_count": 36,
      "outputs": []
    },
    {
      "cell_type": "code",
      "source": [
        "emicron.isnull().mean(axis=1).mean()"
      ],
      "metadata": {
        "id": "ahNXToYL9xBk",
        "colab": {
          "base_uri": "https://localhost:8080/"
        },
        "outputId": "ace30c5c-7e14-4868-ca7a-a2a5633dda51"
      },
      "execution_count": 33,
      "outputs": [
        {
          "output_type": "execute_result",
          "data": {
            "text/plain": [
              "0.0053753660820815095"
            ]
          },
          "metadata": {},
          "execution_count": 33
        }
      ]
    },
    {
      "cell_type": "code",
      "source": [
        "emicron.shape"
      ],
      "metadata": {
        "colab": {
          "base_uri": "https://localhost:8080/"
        },
        "id": "6OMUM7b55qBM",
        "outputId": "79f432aa-5b73-4e4f-a0af-23275eef821f"
      },
      "execution_count": 34,
      "outputs": [
        {
          "output_type": "execute_result",
          "data": {
            "text/plain": [
              "(85862, 63)"
            ]
          },
          "metadata": {},
          "execution_count": 34
        }
      ]
    },
    {
      "cell_type": "code",
      "source": [
        "#save as csv\n",
        "emicron.to_csv('emicron_clean.csv', index=False)"
      ],
      "metadata": {
        "id": "7zwNQcLr-oq8"
      },
      "execution_count": 37,
      "outputs": []
    }
  ],
  "metadata": {
    "kernelspec": {
      "display_name": "Python 3",
      "name": "python3"
    },
    "language_info": {
      "codemirror_mode": {
        "name": "ipython",
        "version": 3
      },
      "file_extension": ".py",
      "mimetype": "text/x-python",
      "name": "python",
      "nbconvert_exporter": "python",
      "pygments_lexer": "ipython3",
      "version": "3.11.4"
    },
    "colab": {
      "provenance": []
    }
  },
  "nbformat": 4,
  "nbformat_minor": 0
}