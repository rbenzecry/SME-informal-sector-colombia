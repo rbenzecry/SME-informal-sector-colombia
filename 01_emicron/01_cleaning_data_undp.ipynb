{
  "cells": [
    {
      "cell_type": "code",
      "source": [
        "from google.colab import drive\n",
        "drive.mount('/content/drive')"
      ],
      "metadata": {
        "id": "NFfU-JPUoKYd",
        "colab": {
          "base_uri": "https://localhost:8080/"
        },
        "outputId": "df1e0ae1-f80f-4a08-9b55-af12e8902109"
      },
      "execution_count": 1,
      "outputs": [
        {
          "output_type": "stream",
          "name": "stdout",
          "text": [
            "Mounted at /content/drive\n"
          ]
        }
      ]
    },
    {
      "cell_type": "code",
      "source": [
        "import numpy as np\n",
        "import pandas as pd"
      ],
      "metadata": {
        "id": "AdyGT2z0t_ic"
      },
      "execution_count": 2,
      "outputs": []
    },
    {
      "cell_type": "code",
      "execution_count": 3,
      "metadata": {
        "id": "obWIr7qSag4K"
      },
      "outputs": [],
      "source": [
        "# List of file names\n",
        "files = [\n",
        "    \"Módulo de identificación.csv\",\n",
        "    \"Módulo de capital social.csv\",\n",
        "    \"Módulo de características del micronegocio.csv\",\n",
        "    \"Módulo de costos, gastos y activos.csv\",\n",
        "    \"Módulo de emprendimiento.csv\",\n",
        "    \"Módulo de inclusión financiera.csv\",\n",
        "    \"Módulo de personal ocupado.csv\",\n",
        "    \"Módulo de sitio o ubicación.csv\",\n",
        "    \"Módulo de TIC.csv\",\n",
        "    \"Módulo de ventas o ingresos.csv\",\n",
        "    \"Módulo personal ocupado (propietario(a)).csv\"\n",
        "]\n",
        "\n",
        "# Dictionary to hold DataFrames\n",
        "datasets = {}\n",
        "\n",
        "# Read each file into a DataFrame and store it in the dictionary\n",
        "for file in files:\n",
        "    # Create a valid Python identifier for each file name\n",
        "    dataset_name = file.replace(\" \", \"_\").replace(\"(\", \"\").replace(\")\", \"\").replace(\",\", \"\").replace(\".csv\", \"\").replace(\"ó\", \"o\")\n",
        "    datasets[dataset_name] = pd.read_csv(\"/content/drive/MyDrive/Colab_Notebooks/Final_Project/Data/to_import/\"+file)  # Include the subdirectory in the file path"
      ]
    },
    {
      "cell_type": "code",
      "execution_count": 4,
      "metadata": {
        "id": "QSrlblpAag4L"
      },
      "outputs": [],
      "source": [
        "# Initialize the merged dataset with the first dataset\n",
        "emicron = datasets[list(datasets.keys())[0]]\n",
        "del datasets[list(datasets.keys())[0]]\n",
        "\n",
        "# Merge all other datasets\n",
        "for dataset_name, dataset in list(datasets.items())[1:]:\n",
        "    emicron = pd.merge(emicron, dataset, on=[\"DIRECTORIO\", \"SECUENCIA_ENCUESTA\", \"SECUENCIA_P\", \"CLASE_TE\", \"COD_DEPTO\", \"AREA\", \"F_EXP\"], how='left')\n",
        "    del dataset"
      ]
    },
    {
      "cell_type": "code",
      "source": [
        "f_ex_micro = pd.read_csv(\"/content/drive/MyDrive/Colab_Notebooks/Final_Project/Data/to_import/factores_departamental_2022_proy_2018.csv\")"
      ],
      "metadata": {
        "id": "RHCHj705s4S-"
      },
      "execution_count": 5,
      "outputs": []
    },
    {
      "cell_type": "code",
      "source": [
        "emicron = pd.merge(emicron, f_ex_micro, on=[\"DIRECTORIO\", \"SECUENCIA_ENCUESTA\", \"SECUENCIA_P\"], how='left')"
      ],
      "metadata": {
        "id": "8rAin8-ptE21"
      },
      "execution_count": 6,
      "outputs": []
    },
    {
      "cell_type": "markdown",
      "source": [
        "#informality index"
      ],
      "metadata": {
        "id": "8-Jed21lFlJg"
      }
    },
    {
      "cell_type": "code",
      "source": [
        "index_informality = pd.read_csv(\"/content/drive/MyDrive/Colab_Notebooks/Final_Project/Data/emicron_index.csv\")"
      ],
      "metadata": {
        "id": "5dKtJsEI1GFs"
      },
      "execution_count": 7,
      "outputs": []
    },
    {
      "cell_type": "code",
      "source": [
        "index_informality = index_informality[[\"DIRECTORIO\", \"SECUENCIA_ENCUESTA\", \"SECUENCIA_P\", 'II_D1', 'II_D2', 'II_D3', 'II_D4', 'II']]"
      ],
      "metadata": {
        "id": "cYT8bF192ePN"
      },
      "execution_count": 8,
      "outputs": []
    },
    {
      "cell_type": "code",
      "source": [
        "emicron = pd.merge(emicron, index_informality, on=[\"DIRECTORIO\", \"SECUENCIA_ENCUESTA\", \"SECUENCIA_P\"], how='left')"
      ],
      "metadata": {
        "id": "s1Bqh5IS2-26"
      },
      "execution_count": 9,
      "outputs": []
    },
    {
      "cell_type": "code",
      "source": [
        "emicron_clean = emicron.copy()"
      ],
      "metadata": {
        "id": "UkJ9kthsSmUk"
      },
      "execution_count": 10,
      "outputs": []
    },
    {
      "cell_type": "markdown",
      "source": [
        "#geih"
      ],
      "metadata": {
        "id": "SgJSMCA5FkO8"
      }
    },
    {
      "cell_type": "code",
      "source": [
        "# Import geih\n",
        "files = [\n",
        "    \"workforce_geih-2022-clean.dta\",\n",
        "    \"other-work_geih-2022-clean.dta\",\n",
        "    #\"other-income-taxes_geih-2022-clean.dta\",\n",
        "    \"occupied_geih-2022-clean.dta\",\n",
        "    #\"non-occupied_geih-2022-clean.dta\",\n",
        "    \"migration_geih-2022-clean.dta\",\n",
        "    \"individual_geih-2022-clean.dta\"\n",
        "    #\"household_geih-2022-clean.dta\"\n",
        "]\n",
        "\n",
        "# Dictionary to hold DataFrames\n",
        "datasets_geih = {}\n",
        "\n",
        "# Read each file into a DataFrame and store it in the dictionary\n",
        "for file in files:\n",
        "    # Create a valid Python identifier for each file name\n",
        "    dataset_name = file.replace(\" \", \"_\").replace(\"(\", \"\").replace(\")\", \"\").replace(\",\", \"\").replace(\".dta\", \"\").replace(\"ó\", \"o\")\n",
        "    datasets_geih[dataset_name] = pd.read_stata(\"/content/drive/MyDrive/Colab_Notebooks/Final_Project/Tables/02_household-surveys/\"+file)  # Include the subdirectory in the file path"
      ],
      "metadata": {
        "id": "fa920nUxRNn4",
        "colab": {
          "base_uri": "https://localhost:8080/"
        },
        "outputId": "d2fe9df9-3702-4b5b-f2d0-053eca463492"
      },
      "execution_count": 11,
      "outputs": [
        {
          "output_type": "stream",
          "name": "stderr",
          "text": [
            "<ipython-input-11-a4d44a2228d2>:20: UnicodeWarning: \n",
            "One or more strings in the dta file could not be decoded using utf-8, and\n",
            "so the fallback encoding of latin-1 is being used.  This can happen when a file\n",
            "has been incorrectly encoded by Stata or some other software. You should verify\n",
            "the string values returned are correct.\n",
            "  datasets_geih[dataset_name] = pd.read_stata(\"/content/drive/MyDrive/Colab_Notebooks/Final_Project/Tables/02_household-surveys/\"+file)  # Include the subdirectory in the file path\n",
            "<ipython-input-11-a4d44a2228d2>:20: UnicodeWarning: \n",
            "One or more strings in the dta file could not be decoded using utf-8, and\n",
            "so the fallback encoding of latin-1 is being used.  This can happen when a file\n",
            "has been incorrectly encoded by Stata or some other software. You should verify\n",
            "the string values returned are correct.\n",
            "  datasets_geih[dataset_name] = pd.read_stata(\"/content/drive/MyDrive/Colab_Notebooks/Final_Project/Tables/02_household-surveys/\"+file)  # Include the subdirectory in the file path\n",
            "<ipython-input-11-a4d44a2228d2>:20: UnicodeWarning: \n",
            "One or more strings in the dta file could not be decoded using utf-8, and\n",
            "so the fallback encoding of latin-1 is being used.  This can happen when a file\n",
            "has been incorrectly encoded by Stata or some other software. You should verify\n",
            "the string values returned are correct.\n",
            "  datasets_geih[dataset_name] = pd.read_stata(\"/content/drive/MyDrive/Colab_Notebooks/Final_Project/Tables/02_household-surveys/\"+file)  # Include the subdirectory in the file path\n",
            "<ipython-input-11-a4d44a2228d2>:20: UnicodeWarning: \n",
            "One or more strings in the dta file could not be decoded using utf-8, and\n",
            "so the fallback encoding of latin-1 is being used.  This can happen when a file\n",
            "has been incorrectly encoded by Stata or some other software. You should verify\n",
            "the string values returned are correct.\n",
            "  datasets_geih[dataset_name] = pd.read_stata(\"/content/drive/MyDrive/Colab_Notebooks/Final_Project/Tables/02_household-surveys/\"+file)  # Include the subdirectory in the file path\n",
            "<ipython-input-11-a4d44a2228d2>:20: UnicodeWarning: \n",
            "One or more strings in the dta file could not be decoded using utf-8, and\n",
            "so the fallback encoding of latin-1 is being used.  This can happen when a file\n",
            "has been incorrectly encoded by Stata or some other software. You should verify\n",
            "the string values returned are correct.\n",
            "  datasets_geih[dataset_name] = pd.read_stata(\"/content/drive/MyDrive/Colab_Notebooks/Final_Project/Tables/02_household-surveys/\"+file)  # Include the subdirectory in the file path\n"
          ]
        }
      ]
    },
    {
      "cell_type": "code",
      "source": [
        "for dataset_name, dataset in datasets_geih.items():\n",
        "    print((dataset.columns[dataset.isna().any()].size)/(dataset.shape[1]))\n",
        "    print(f\"Head of {dataset_name}:\")\n",
        "    print(dataset.head(10))\n",
        "    print(\"\\n\")"
      ],
      "metadata": {
        "id": "qBaMRv4GjAJh"
      },
      "execution_count": null,
      "outputs": []
    },
    {
      "cell_type": "code",
      "source": [
        "for dataset_name, dataset in datasets_geih.items():\n",
        "    # Find columns that have any NaN values\n",
        "    nan_columns = dataset.columns[dataset.isna().any()].tolist()\n",
        "    # Drop these columns from the dataframe\n",
        "    datasets_geih[dataset_name] = dataset.drop(columns=nan_columns)\n",
        "    # Print the names of the dropped columns\n",
        "    print(f\"Dropped columns from {dataset_name}: {nan_columns}\")"
      ],
      "metadata": {
        "colab": {
          "base_uri": "https://localhost:8080/"
        },
        "id": "M4cMpWmqi5wO",
        "outputId": "bc543955-2593-4e7b-8a27-80e0fe2d61ce"
      },
      "execution_count": 12,
      "outputs": [
        {
          "output_type": "stream",
          "name": "stdout",
          "text": [
            "Dropped columns from workforce_geih-2022-clean: ['P6250', 'P6260', 'P6260S1', 'P6260S2', 'P6270', 'P6280', 'P6290', 'P6300', 'P6310', 'P6320', 'P6330', 'P6340', 'P6350', 'P6351', 'P6240S2', 'P3362S1', 'P3362S2', 'P3362S3', 'P3362S4', 'P3362S5', 'P3362S6', 'P3362S7', 'P3362S8', 'FT', 'FFT']\n",
            "Dropped columns from other-work_geih-2022-clean: ['P3076S1A1', 'P3076S1A2', 'P3076S2A1', 'P3076S2A2', 'P3076S3A1', 'P3076S3A2', 'P3077S1A1', 'P3077S1A2', 'P3077S2A1', 'P3077S2A2', 'P3077S3A1', 'P3077S3A2', 'P3078S1A1', 'P3078S1A2', 'P3078S2A1', 'P3078S2A2', 'P3078S3A1', 'P3078S3A2', 'P3079S1A1', 'P3079S1A2', 'P3079S2A1', 'P3079S2A2', 'P3079S3A1', 'P3079S3A2', 'P3081S1A1', 'P3081S1A2', 'P3081S2A1', 'P3081S2A2', 'P3081S3A1', 'P3081S3A2', 'P3082S1A1', 'P3082S1A2', 'P3082S2A1', 'P3082S2A2', 'P3082S3A1', 'P3082S3A2', 'P3083', 'P3083S1', 'P3085', 'P3086', 'P3087', 'P3088', 'P3089S1', 'P3089S2', 'P3091S1', 'P3091S2', 'P3092S1', 'P3092S2', 'P3093S1', 'P3093S2', 'P3094S1', 'P3094S2', 'P3094S3', 'P3095S1', 'P3095S2', 'P3095S3', 'P3096S1', 'P3096S2', 'P3096S3', 'P3097', 'P3097S1', 'P3097S2', 'P3098S1', 'P3098S2', 'P3099S1', 'P3099S2', 'P3101S1', 'P3101S2', 'P3092']\n",
            "Dropped columns from occupied_geih-2022-clean: ['P6450', 'P6460', 'P6460S1', 'P6400', 'P6410', 'P6422', 'P6424S1', 'P6424S2', 'P6424S3', 'P6424S5', 'P3045S1', 'P3045S2', 'P3045S3', 'P3046', 'P9440', 'P6500', 'P6510', 'P6510S1', 'P6510S2', 'P6590', 'P6590S1', 'P6600', 'P6600S1', 'P6610', 'P6610S1', 'P6620', 'P6620S1', 'P6585S1', 'P6585S1A1', 'P6585S1A2', 'P6585S2', 'P6585S2A1', 'P6585S2A2', 'P6585S3', 'P6585S3A1', 'P6585S3A2', 'P6585S4', 'P6585S4A1', 'P6585S4A2', 'P6545', 'P6545S1', 'P6545S2', 'P6580', 'P6580S1', 'P6580S2', 'P6630S1', 'P6630S1A1', 'P6630S2', 'P6630S2A1', 'P6630S3', 'P6630S3A1', 'P6630S4', 'P6630S4A1', 'P6630S6', 'P6630S6A1', 'P6640', 'P3047', 'P3048', 'P3049', 'P6765', 'P3053', 'P3054', 'P3055', 'P3056', 'P6760', 'P3061', 'P3063', 'P3064', 'P3065', 'P3066', 'P3067', 'P3067S1', 'P3067S2', 'P6775', 'P3068', 'P6750', 'P3073', 'P550', 'P6780', 'P1879', 'P1805', 'P6810', 'P6830', 'P6930', 'P6940', 'P6960', 'P760', 'P7026', 'P7028', 'P1880', 'P7045', 'P7050', 'P7070', 'P7075', 'P7077', 'P7100', 'P7110', 'P7120', 'P7140S1', 'P7140S2', 'P7140S3', 'P7140S4', 'P7140S5', 'P7140S6', 'P7140S7', 'P7140S8', 'P7140S9', 'P7150', 'P7160', 'P1882', 'INGLABO', 'P3363', 'P3364', 'P3364S1', 'P6640S1', 'P1800', 'P1800S1', 'P1801S1', 'P1801S2', 'P1801S3', 'P1802', 'P3365', 'P3365S1', 'P3366']\n",
            "Dropped columns from migration_geih-2022-clean: ['P3373S1', 'P3373S2', 'P3373S3', 'P3373S3A1', 'P3373S3A2', 'P3374S1', 'P3374S2', 'P3374S3', 'P3375S1', 'P3376', 'P3377', 'P3378', 'P3378S1', 'P3379', 'P3380', 'P3381', 'P3382S1', 'P3382S2', 'P3382S3', 'P3383', 'P3384S1', 'P3384S2', 'P3384S3', 'P3385', 'P3386']\n",
            "Dropped columns from individual_geih-2022-clean: ['P6083S1', 'P6081S1', 'P2059', 'P6070', 'P6071', 'P6071S1', 'P3147S1', 'P3147S2', 'P3147S3', 'P3147S4', 'P3147S5', 'P3147S6', 'P3147S7', 'P3147S8', 'P3147S9', 'P3147S10', 'P3147S11', 'P6100', 'P6110', 'P6120', 'P6160', 'P6170', 'P3041', 'P3042', 'P3042S1', 'P3042S2', 'P3043', 'P3043S1', 'P3038', 'P3039', 'LGB_Numerica', 'LGB_sectores', 'Trans_numerica', 'LGBT_Numerica', 'Discapacidad', 'Dificultad', 'POB_MAY18']\n"
          ]
        }
      ]
    },
    {
      "cell_type": "code",
      "source": [
        "for dataset_name, dataset in datasets_geih.items():\n",
        "    # Find columns that have any empty string values\n",
        "    empty_string_columns = dataset.columns[dataset.eq(\"\").any()].tolist()\n",
        "    # Drop these columns from the dataframe\n",
        "    datasets_geih[dataset_name] = dataset.drop(columns=empty_string_columns)\n",
        "    # Print the names of the dropped columns\n",
        "    print(f\"Dropped columns from {dataset_name}: {empty_string_columns}\")"
      ],
      "metadata": {
        "colab": {
          "base_uri": "https://localhost:8080/"
        },
        "id": "6R0oQaIG1A7V",
        "outputId": "ab68c2e5-f44b-4f51-c825-7e6e1f8ade6c"
      },
      "execution_count": 13,
      "outputs": [
        {
          "output_type": "stream",
          "name": "stdout",
          "text": [
            "Dropped columns from workforce_geih-2022-clean: ['P6240S1', 'P6260S1A1', 'P6310S1', 'AREA', 'P3362S7A1']\n",
            "Dropped columns from other-work_geih-2022-clean: ['P3086S1', 'P3087S1', 'P3089S3', 'AREA']\n",
            "Dropped columns from occupied_geih-2022-clean: ['P6430S1', 'P6765S1', 'P6780S1', 'P6810S1', 'P6830S1', 'P6880S1', 'P6915S1', 'P7028S1', 'P1880S1', 'AREA', 'P3051', 'P3051S1', 'P3052', 'P3052S1', 'P3054S1', 'P3055S1', 'P3057', 'P3058S1', 'P3058S2', 'P3058S3', 'P3058S4', 'P3058S5', 'P3059', 'P3062S1', 'P3062S2', 'P3062S3', 'P3062S4', 'P3062S5', 'P3062S6', 'P3062S7', 'P3062S8', 'P3062S9', 'P3063S1', 'P3064S1']\n",
            "Dropped columns from migration_geih-2022-clean: ['AREA', 'P3386S1']\n",
            "Dropped columns from individual_geih-2022-clean: ['P6030S1', 'P6030S3', 'P6080S1', 'P6080S1A1', 'P3147S10A1', 'AREA']\n"
          ]
        }
      ]
    },
    {
      "cell_type": "code",
      "source": [
        "for dataset_name, dataset in datasets_geih.items():\n",
        "    # Find rows that have any NaN values\n",
        "    nan_rows = dataset[dataset.isna().any(axis=1)]\n",
        "\n",
        "    # Drop these rows from the dataframe\n",
        "    datasets_geih[dataset_name] = dataset.drop(nan_rows.index)\n",
        "\n",
        "    # Print the number of dropped rows\n",
        "    print(f\"Dropped {len(nan_rows)} rows from {dataset_name}\")"
      ],
      "metadata": {
        "colab": {
          "base_uri": "https://localhost:8080/"
        },
        "id": "udntqw-LEOoj",
        "outputId": "d96ba2c7-1095-45bf-8842-206ce67f842f"
      },
      "execution_count": 14,
      "outputs": [
        {
          "output_type": "stream",
          "name": "stdout",
          "text": [
            "Dropped 0 rows from workforce_geih-2022-clean\n",
            "Dropped 0 rows from other-work_geih-2022-clean\n",
            "Dropped 0 rows from occupied_geih-2022-clean\n",
            "Dropped 0 rows from migration_geih-2022-clean\n",
            "Dropped 0 rows from individual_geih-2022-clean\n"
          ]
        }
      ]
    },
    {
      "cell_type": "code",
      "source": [
        "for dataset_name, dataset in datasets_geih.items():\n",
        "    print(f\"The shape of {dataset_name} is {dataset.shape}\")"
      ],
      "metadata": {
        "colab": {
          "base_uri": "https://localhost:8080/"
        },
        "id": "bwvGHZtjErYd",
        "outputId": "e31ed3f6-96b2-49d1-e09e-aed42ffafc41"
      },
      "execution_count": null,
      "outputs": [
        {
          "output_type": "stream",
          "name": "stdout",
          "text": [
            "The shape of workforce_geih-2022-clean is (713731, 15)\n",
            "The shape of other-work_geih-2022-clean is (713731, 40)\n",
            "The shape of other-income-taxes_geih-2022-clean is (713731, 19)\n",
            "The shape of occupied_geih-2022-clean is (382461, 42)\n",
            "The shape of non-occupied_geih-2022-clean is (331270, 17)\n",
            "The shape of migration_geih-2022-clean is (919459, 17)\n",
            "The shape of individual_geih-2022-clean is (919459, 33)\n",
            "The shape of household_geih-2022-clean is (304459, 29)\n"
          ]
        }
      ]
    },
    {
      "cell_type": "markdown",
      "source": [
        "\"DIRECTORIO\", \"SECUENCIA_P\", \"HOGAR\", \"REGIS\", \"ORDEN\", \"AREA\", \"CLASE\", \"DPTO\", \"FEX_C18\", \"PERIODO\", \"MES\", \"PER\", \"id_house\", \"adj_weight\""
      ],
      "metadata": {
        "id": "SLH8gY9R2-IK"
      }
    },
    {
      "cell_type": "code",
      "source": [
        "# Define the columns to check\n",
        "check_cols = [\"DIRECTORIO\", \"SECUENCIA_P\", \"HOGAR\", \"id_house\", \"adj_weight\"]\n",
        "\n",
        "for dataset_name, dataset in datasets_geih.items():\n",
        "    # Check if any of the columns have NaN values\n",
        "    nan_cols = [col for col in check_cols if dataset[col].isna().any()]\n",
        "\n",
        "    # Print the result\n",
        "    if nan_cols:\n",
        "        print(f\"The dataset '{dataset_name}' has NaN values in these columns: {nan_cols}\")\n",
        "    else:\n",
        "        print(f\"The dataset '{dataset_name}' does not have NaN values in any of the checked columns.\")"
      ],
      "metadata": {
        "colab": {
          "base_uri": "https://localhost:8080/"
        },
        "id": "qYBud09n3mx0",
        "outputId": "75083800-20cf-425c-921f-bcdadda37978"
      },
      "execution_count": null,
      "outputs": [
        {
          "output_type": "stream",
          "name": "stdout",
          "text": [
            "The dataset 'workforce_geih-2022-clean' does not have NaN values in any of the checked columns.\n",
            "The dataset 'other-work_geih-2022-clean' does not have NaN values in any of the checked columns.\n",
            "The dataset 'other-income-taxes_geih-2022-clean' does not have NaN values in any of the checked columns.\n",
            "The dataset 'occupied_geih-2022-clean' does not have NaN values in any of the checked columns.\n",
            "The dataset 'non-occupied_geih-2022-clean' does not have NaN values in any of the checked columns.\n",
            "The dataset 'migration_geih-2022-clean' does not have NaN values in any of the checked columns.\n",
            "The dataset 'individual_geih-2022-clean' does not have NaN values in any of the checked columns.\n"
          ]
        }
      ]
    },
    {
      "cell_type": "code",
      "source": [
        "# Define the old and new column names\n",
        "rename_cols = {'MES': 'MES_REF', 'CLASE': 'CLASE_TE', 'DPTO': 'COD_DEPTO', 'ORDEN':'SECUENCIA_ENCUESTA'}\n",
        "\n",
        "# Rename the columns in all dataframes\n",
        "for dataset_name, dataset in datasets_geih.items():\n",
        "    datasets_geih[dataset_name] = dataset.rename(columns=rename_cols)"
      ],
      "metadata": {
        "id": "82QEDRvhHIFz"
      },
      "execution_count": 15,
      "outputs": []
    },
    {
      "cell_type": "code",
      "source": [
        "columns_to_drop = ['PERIODO', 'PER', 'REGIS', 'CLASE_TE', 'COD_DEPTO', 'MES_REF', 'id_house', 'FEX_C18', 'HOGAR', 'adj_weight']\n",
        "\n",
        "for dataset_name, dataset in datasets_geih.items():\n",
        "    datasets_geih[dataset_name] = dataset.drop(columns_to_drop, axis=1, errors='ignore')"
      ],
      "metadata": {
        "id": "61Mu_RN3JS8j"
      },
      "execution_count": 16,
      "outputs": []
    },
    {
      "cell_type": "code",
      "source": [
        "datasets_items = list(datasets_geih.items())"
      ],
      "metadata": {
        "id": "2EFIVgCHnfAD"
      },
      "execution_count": 17,
      "outputs": []
    },
    {
      "cell_type": "code",
      "source": [
        "# Convert the data types of the merging columns to int64\n",
        "for dataset_name, dataset in datasets_geih.items():\n",
        "    for col in [\"DIRECTORIO\", \"SECUENCIA_P\", \"SECUENCIA_ENCUESTA\"]:\n",
        "        datasets_geih[dataset_name][col] = datasets_geih[dataset_name][col].astype('int64')\n",
        "emicron[\"DIRECTORIO\"] = emicron[\"DIRECTORIO\"].astype('int64')\n",
        "emicron[\"SECUENCIA_P\"] = emicron[\"SECUENCIA_P\"].astype('int64')\n",
        "emicron[\"SECUENCIA_ENCUESTA\"] = emicron[\"SECUENCIA_ENCUESTA\"].astype('int64')"
      ],
      "metadata": {
        "id": "_imVeDn4KePQ"
      },
      "execution_count": 18,
      "outputs": []
    },
    {
      "cell_type": "code",
      "source": [
        "#to run\n",
        "# Define the columns you want to merge\n",
        "merge_cols = [\"DIRECTORIO\", \"SECUENCIA_P\", 'SECUENCIA_ENCUESTA']\n",
        "\n",
        "# Get the list of dataset items\n",
        "datasets_items = list(datasets_geih.items())\n",
        "\n",
        "# Merge the first dataset\n",
        "emicron_merge = pd.merge(emicron, datasets_items[0][1], on=merge_cols, how='inner')\n",
        "\n",
        "# Loop over the rest of the datasets in datasets_geih\n",
        "for dataset_name, dataset in datasets_items[1:]:\n",
        "  emicron_merge = pd.merge(emicron_merge, dataset, on=merge_cols, how='inner')\n",
        "  print(emicron_merge)"
      ],
      "metadata": {
        "id": "uwpZTWgOfIfT",
        "colab": {
          "base_uri": "https://localhost:8080/"
        },
        "outputId": "20b2ce84-6f6a-4662-97f1-4590dc41962d"
      },
      "execution_count": 19,
      "outputs": [
        {
          "output_type": "stream",
          "name": "stdout",
          "text": [
            "       DIRECTORIO  SECUENCIA_P  SECUENCIA_ENCUESTA  COD_DEPTO  AREA  CLASE_TE  \\\n",
            "0         5000001            1                   2          8   NaN         1   \n",
            "1         5000003            1                   1          8   NaN         1   \n",
            "2         5000003            1                   2          8   NaN         1   \n",
            "3         5000007            1                   1          8   NaN         1   \n",
            "4         5000008            1                   1          8   NaN         1   \n",
            "...           ...          ...                 ...        ...   ...       ...   \n",
            "80748     7277027            1                   4         66  66.0         1   \n",
            "80749     7277028            1                   1         66  66.0         1   \n",
            "80750     7277029            1                   1         66  66.0         1   \n",
            "80751     7277065            1                   1         25   NaN         2   \n",
            "80752     7277068            1                   2         25   NaN         2   \n",
            "\n",
            "       P35  P241    MES_REF  P3031  ...  P3082S3  P3089_y  P3094  P3095_y  \\\n",
            "0        2    61    FEBRERO      2  ...      2.0      2.0    2.0      2.0   \n",
            "1        1    44    FEBRERO      2  ...      2.0      2.0    2.0      2.0   \n",
            "2        2    37    FEBRERO      2  ...      2.0      2.0    2.0      2.0   \n",
            "3        2    36    FEBRERO      1  ...      2.0      2.0    2.0      2.0   \n",
            "4        1    60    FEBRERO      2  ...      2.0      2.0    2.0      2.0   \n",
            "...    ...   ...        ...    ...  ...      ...      ...    ...      ...   \n",
            "80748    1    74  DICIEMBRE      2  ...      2.0      2.0    2.0      2.0   \n",
            "80749    2    52  DICIEMBRE      1  ...      2.0      2.0    2.0      2.0   \n",
            "80750    1    63  DICIEMBRE      2  ...      2.0      2.0    2.0      2.0   \n",
            "80751    1    39  DICIEMBRE      1  ...      2.0      1.0    2.0      1.0   \n",
            "80752    1    46  DICIEMBRE      2  ...      2.0      2.0    2.0      2.0   \n",
            "\n",
            "       P3096_y  P3098_y  P3099_y  P3101  P3091_y  P3093_y  \n",
            "0          2.0      2.0      2.0    2.0      2.0      2.0  \n",
            "1          2.0      2.0      2.0    2.0      2.0      2.0  \n",
            "2          2.0      2.0      2.0    2.0      2.0      2.0  \n",
            "3          2.0      2.0      2.0    2.0      2.0      2.0  \n",
            "4          2.0      2.0      2.0    2.0      2.0      2.0  \n",
            "...        ...      ...      ...    ...      ...      ...  \n",
            "80748      2.0      2.0      2.0    2.0      2.0      2.0  \n",
            "80749      2.0      2.0      2.0    2.0      2.0      2.0  \n",
            "80750      2.0      2.0      2.0    2.0      2.0      2.0  \n",
            "80751      2.0      2.0      2.0    1.0      2.0      2.0  \n",
            "80752      2.0      2.0      2.0    2.0      2.0      2.0  \n",
            "\n",
            "[80753 rows x 268 columns]\n",
            "       DIRECTORIO  SECUENCIA_P  SECUENCIA_ENCUESTA  COD_DEPTO  AREA  CLASE_TE  \\\n",
            "0         5000001            1                   2          8   NaN         1   \n",
            "1         5000003            1                   1          8   NaN         1   \n",
            "2         5000003            1                   2          8   NaN         1   \n",
            "3         5000007            1                   1          8   NaN         1   \n",
            "4         5000008            1                   1          8   NaN         1   \n",
            "...           ...          ...                 ...        ...   ...       ...   \n",
            "80748     7277027            1                   4         66  66.0         1   \n",
            "80749     7277028            1                   1         66  66.0         1   \n",
            "80750     7277029            1                   1         66  66.0         1   \n",
            "80751     7277065            1                   1         25   NaN         2   \n",
            "80752     7277068            1                   2         25   NaN         2   \n",
            "\n",
            "       P35  P241    MES_REF  P3031  ...  P514  P515  P1881  P7240  OCI  P6430  \\\n",
            "0        2    61    FEBRERO      2  ...   1.0   1.0    3.0    3.0  1.0    4.0   \n",
            "1        1    44    FEBRERO      2  ...   2.0   1.0   14.0    3.0  1.0    4.0   \n",
            "2        2    37    FEBRERO      2  ...   1.0   1.0   14.0    3.0  1.0    4.0   \n",
            "3        2    36    FEBRERO      1  ...   2.0   1.0   12.0    3.0  1.0    4.0   \n",
            "4        1    60    FEBRERO      2  ...   2.0   1.0    3.0    3.0  1.0    4.0   \n",
            "...    ...   ...        ...    ...  ...   ...   ...    ...    ...  ...    ...   \n",
            "80748    1    74  DICIEMBRE      2  ...   1.0   1.0    2.0    3.0  1.0    4.0   \n",
            "80749    2    52  DICIEMBRE      1  ...   2.0   2.0   11.0    8.0  1.0    5.0   \n",
            "80750    1    63  DICIEMBRE      2  ...   1.0   1.0   14.0   10.0  1.0    4.0   \n",
            "80751    1    39  DICIEMBRE      1  ...   1.0   1.0    3.0    8.0  1.0    4.0   \n",
            "80752    1    46  DICIEMBRE      2  ...   1.0   2.0   14.0    8.0  1.0    4.0   \n",
            "\n",
            "       RAMA4D_R4  OFICIO_C8  RAMA2D_R4   FT  \n",
            "0           4792       3322         47  1.0  \n",
            "1           4921       8321         49  1.0  \n",
            "2           8559       2359         85  1.0  \n",
            "3           4724       5221         47  1.0  \n",
            "4           0220       6210         02  1.0  \n",
            "...          ...        ...        ...  ...  \n",
            "80748       4520       7132         45  1.0  \n",
            "80749       5613       1412         56  1.0  \n",
            "80750       6910       2611         69  1.0  \n",
            "80751       0144       6121         01  1.0  \n",
            "80752       4520       7132         45  1.0  \n",
            "\n",
            "[80753 rows x 297 columns]\n",
            "       DIRECTORIO  SECUENCIA_P  SECUENCIA_ENCUESTA  COD_DEPTO  AREA  CLASE_TE  \\\n",
            "0         5000001            1                   2          8   NaN         1   \n",
            "1         5000003            1                   1          8   NaN         1   \n",
            "2         5000003            1                   2          8   NaN         1   \n",
            "3         5000007            1                   1          8   NaN         1   \n",
            "4         5000008            1                   1          8   NaN         1   \n",
            "...           ...          ...                 ...        ...   ...       ...   \n",
            "80748     7277027            1                   4         66  66.0         1   \n",
            "80749     7277028            1                   1         66  66.0         1   \n",
            "80750     7277029            1                   1         66  66.0         1   \n",
            "80751     7277065            1                   1         25   NaN         2   \n",
            "80752     7277068            1                   2         25   NaN         2   \n",
            "\n",
            "       P35  P241    MES_REF  P3031  ...  OCI  P6430  RAMA4D_R4  OFICIO_C8  \\\n",
            "0        2    61    FEBRERO      2  ...  1.0    4.0       4792       3322   \n",
            "1        1    44    FEBRERO      2  ...  1.0    4.0       4921       8321   \n",
            "2        2    37    FEBRERO      2  ...  1.0    4.0       8559       2359   \n",
            "3        2    36    FEBRERO      1  ...  1.0    4.0       4724       5221   \n",
            "4        1    60    FEBRERO      2  ...  1.0    4.0       0220       6210   \n",
            "...    ...   ...        ...    ...  ...  ...    ...        ...        ...   \n",
            "80748    1    74  DICIEMBRE      2  ...  1.0    4.0       4520       7132   \n",
            "80749    2    52  DICIEMBRE      1  ...  1.0    5.0       5613       1412   \n",
            "80750    1    63  DICIEMBRE      2  ...  1.0    4.0       6910       2611   \n",
            "80751    1    39  DICIEMBRE      1  ...  1.0    4.0       0144       6121   \n",
            "80752    1    46  DICIEMBRE      2  ...  1.0    4.0       4520       7132   \n",
            "\n",
            "       RAMA2D_R4   FT  P3373  P3374  P3382  P3384  \n",
            "0             47  1.0    2.0    1.0    2.0    2.0  \n",
            "1             49  1.0    2.0    1.0    2.0    2.0  \n",
            "2             85  1.0    2.0    1.0    2.0    2.0  \n",
            "3             47  1.0    2.0    1.0    3.0    2.0  \n",
            "4             02  1.0    2.0    1.0    2.0    2.0  \n",
            "...          ...  ...    ...    ...    ...    ...  \n",
            "80748         45  1.0    2.0    1.0    2.0    2.0  \n",
            "80749         56  1.0    2.0    1.0    2.0    2.0  \n",
            "80750         69  1.0    2.0    1.0    2.0    2.0  \n",
            "80751         01  1.0    2.0    1.0    2.0    2.0  \n",
            "80752         45  1.0    1.0    1.0    2.0    2.0  \n",
            "\n",
            "[80753 rows x 301 columns]\n",
            "       DIRECTORIO  SECUENCIA_P  SECUENCIA_ENCUESTA  COD_DEPTO  AREA  CLASE_TE  \\\n",
            "0         5000001            1                   2          8   NaN         1   \n",
            "1         5000003            1                   1          8   NaN         1   \n",
            "2         5000003            1                   2          8   NaN         1   \n",
            "3         5000007            1                   1          8   NaN         1   \n",
            "4         5000008            1                   1          8   NaN         1   \n",
            "...           ...          ...                 ...        ...   ...       ...   \n",
            "80748     7277027            1                   4         66  66.0         1   \n",
            "80749     7277028            1                   1         66  66.0         1   \n",
            "80750     7277029            1                   1         66  66.0         1   \n",
            "80751     7277065            1                   1         25   NaN         2   \n",
            "80752     7277068            1                   2         25   NaN         2   \n",
            "\n",
            "       P35  P241    MES_REF  P3031  ...  P6090  P1906S1  P1906S2  P1906S3  \\\n",
            "0        2    61    FEBRERO      2  ...    1.0      4.0      4.0      4.0   \n",
            "1        1    44    FEBRERO      2  ...    1.0      4.0      4.0      4.0   \n",
            "2        2    37    FEBRERO      2  ...    1.0      4.0      4.0      4.0   \n",
            "3        2    36    FEBRERO      1  ...    2.0      4.0      4.0      4.0   \n",
            "4        1    60    FEBRERO      2  ...    1.0      4.0      4.0      4.0   \n",
            "...    ...   ...        ...    ...  ...    ...      ...      ...      ...   \n",
            "80748    1    74  DICIEMBRE      2  ...    2.0      4.0      4.0      4.0   \n",
            "80749    2    52  DICIEMBRE      1  ...    1.0      4.0      4.0      4.0   \n",
            "80750    1    63  DICIEMBRE      2  ...    2.0      4.0      4.0      4.0   \n",
            "80751    1    39  DICIEMBRE      1  ...    1.0      4.0      4.0      4.0   \n",
            "80752    1    46  DICIEMBRE      2  ...    1.0      4.0      4.0      4.0   \n",
            "\n",
            "       P1906S4  P1906S5  P1906S6  P1906S7  P1906S8  Campesina  \n",
            "0          4.0      4.0      4.0      4.0      4.0        0.0  \n",
            "1          4.0      4.0      4.0      4.0      4.0        0.0  \n",
            "2          4.0      4.0      4.0      4.0      4.0        9.0  \n",
            "3          4.0      4.0      4.0      4.0      4.0        0.0  \n",
            "4          4.0      4.0      4.0      4.0      4.0        0.0  \n",
            "...        ...      ...      ...      ...      ...        ...  \n",
            "80748      4.0      4.0      4.0      4.0      4.0        0.0  \n",
            "80749      4.0      4.0      4.0      4.0      4.0        0.0  \n",
            "80750      4.0      4.0      4.0      4.0      4.0        0.0  \n",
            "80751      2.0      4.0      4.0      3.0      4.0        1.0  \n",
            "80752      4.0      4.0      4.0      4.0      4.0        1.0  \n",
            "\n",
            "[80753 rows x 320 columns]\n"
          ]
        }
      ]
    },
    {
      "cell_type": "code",
      "source": [
        "emicron_merge.shape"
      ],
      "metadata": {
        "colab": {
          "base_uri": "https://localhost:8080/"
        },
        "id": "sXbxfaKxyQTw",
        "outputId": "e6d5f03a-8b9f-44c4-9827-739cda5508fb"
      },
      "execution_count": 20,
      "outputs": [
        {
          "output_type": "execute_result",
          "data": {
            "text/plain": [
              "(80753, 320)"
            ]
          },
          "metadata": {},
          "execution_count": 20
        }
      ]
    },
    {
      "cell_type": "code",
      "source": [
        "# Check for missing values in each column\n",
        "missing_counts = emicron_merge.isnull().sum()\n",
        "\n",
        "# Count the total number of columns with missing values\n",
        "num_columns_with_missing = (missing_counts > 0).sum()\n",
        "\n",
        "f\"The number of columns with missing values in emicron_merge is: {num_columns_with_missing}\""
      ],
      "metadata": {
        "colab": {
          "base_uri": "https://localhost:8080/",
          "height": 35
        },
        "id": "tjv_zZ5925-N",
        "outputId": "60fd7570-da55-468b-8e07-41af961a7186"
      },
      "execution_count": null,
      "outputs": [
        {
          "output_type": "execute_result",
          "data": {
            "text/plain": [
              "'The number of columns with missing values in emicron_merge is: 180'"
            ],
            "application/vnd.google.colaboratory.intrinsic+json": {
              "type": "string"
            }
          },
          "metadata": {},
          "execution_count": 102
        }
      ]
    },
    {
      "cell_type": "code",
      "source": [
        "# Assuming df is your DataFrame\n",
        "duplicates = emicron_merge.duplicated(subset=['DIRECTORIO', 'SECUENCIA_P', 'SECUENCIA_ENCUESTA'])\n",
        "\n",
        "# If you want to see the rows that are duplicated\n",
        "duplicate_rows = emicron_merge[emicron_merge.duplicated(subset=['DIRECTORIO', 'SECUENCIA_P', 'SECUENCIA_ENCUESTA'])]\n",
        "\n",
        "duplicate_rows"
      ],
      "metadata": {
        "colab": {
          "base_uri": "https://localhost:8080/",
          "height": 443
        },
        "id": "lUpJeckVTtNZ",
        "outputId": "459714d2-970d-4630-f2b6-aedd8b81a7d1"
      },
      "execution_count": null,
      "outputs": [
        {
          "output_type": "execute_result",
          "data": {
            "text/plain": [
              "       DIRECTORIO  SECUENCIA_P  SECUENCIA_ENCUESTA  COD_DEPTO  AREA  CLASE_TE  \\\n",
              "59        5000128            1                   1         18   NaN         2   \n",
              "60        5000128            1                   1         18   NaN         2   \n",
              "61        5000128            1                   1         18   NaN         2   \n",
              "143       5000491            1                   1          5   NaN         2   \n",
              "144       5000491            1                   1          5   NaN         2   \n",
              "...           ...          ...                 ...        ...   ...       ...   \n",
              "80715     7276862            1                   1         88  88.0         1   \n",
              "80716     7276862            1                   1         88  88.0         1   \n",
              "80740     7276998            1                   1         18   NaN         2   \n",
              "80741     7276998            1                   1         18   NaN         2   \n",
              "80742     7276998            1                   1         18   NaN         2   \n",
              "\n",
              "       P35  P241    MES_REF  P3031  ...  P6090  P1906S1  P1906S2  P1906S3  \\\n",
              "59       2    50    FEBRERO      1  ...    1.0      4.0      4.0      4.0   \n",
              "60       2    50    FEBRERO      1  ...    1.0      4.0      4.0      4.0   \n",
              "61       2    50    FEBRERO      1  ...    1.0      4.0      4.0      4.0   \n",
              "143      1    57    FEBRERO      1  ...    1.0      4.0      4.0      4.0   \n",
              "144      1    57    FEBRERO      1  ...    1.0      4.0      4.0      4.0   \n",
              "...    ...   ...        ...    ...  ...    ...      ...      ...      ...   \n",
              "80715    1    44  DICIEMBRE      1  ...    1.0      4.0      4.0      4.0   \n",
              "80716    1    44  DICIEMBRE      1  ...    1.0      4.0      4.0      4.0   \n",
              "80740    1    83  DICIEMBRE      1  ...    1.0      4.0      4.0      4.0   \n",
              "80741    1    83  DICIEMBRE      1  ...    1.0      4.0      4.0      4.0   \n",
              "80742    1    83  DICIEMBRE      1  ...    1.0      4.0      4.0      4.0   \n",
              "\n",
              "       P1906S4  P1906S5  P1906S6  P1906S7  P1906S8  Campesina  \n",
              "59         4.0      4.0      4.0      4.0      4.0        1.0  \n",
              "60         4.0      4.0      4.0      4.0      4.0        1.0  \n",
              "61         4.0      4.0      4.0      4.0      4.0        1.0  \n",
              "143        4.0      4.0      4.0      4.0      4.0        0.0  \n",
              "144        4.0      4.0      4.0      4.0      4.0        0.0  \n",
              "...        ...      ...      ...      ...      ...        ...  \n",
              "80715      4.0      4.0      4.0      4.0      4.0        0.0  \n",
              "80716      4.0      4.0      4.0      4.0      4.0        0.0  \n",
              "80740      3.0      4.0      4.0      4.0      4.0        1.0  \n",
              "80741      3.0      4.0      4.0      4.0      4.0        1.0  \n",
              "80742      3.0      4.0      4.0      4.0      4.0        1.0  \n",
              "\n",
              "[3147 rows x 320 columns]"
            ],
            "text/html": [
              "\n",
              "  <div id=\"df-d63b35b5-1b03-4d33-8b66-1f2e8a015a9f\" class=\"colab-df-container\">\n",
              "    <div>\n",
              "<style scoped>\n",
              "    .dataframe tbody tr th:only-of-type {\n",
              "        vertical-align: middle;\n",
              "    }\n",
              "\n",
              "    .dataframe tbody tr th {\n",
              "        vertical-align: top;\n",
              "    }\n",
              "\n",
              "    .dataframe thead th {\n",
              "        text-align: right;\n",
              "    }\n",
              "</style>\n",
              "<table border=\"1\" class=\"dataframe\">\n",
              "  <thead>\n",
              "    <tr style=\"text-align: right;\">\n",
              "      <th></th>\n",
              "      <th>DIRECTORIO</th>\n",
              "      <th>SECUENCIA_P</th>\n",
              "      <th>SECUENCIA_ENCUESTA</th>\n",
              "      <th>COD_DEPTO</th>\n",
              "      <th>AREA</th>\n",
              "      <th>CLASE_TE</th>\n",
              "      <th>P35</th>\n",
              "      <th>P241</th>\n",
              "      <th>MES_REF</th>\n",
              "      <th>P3031</th>\n",
              "      <th>...</th>\n",
              "      <th>P6090</th>\n",
              "      <th>P1906S1</th>\n",
              "      <th>P1906S2</th>\n",
              "      <th>P1906S3</th>\n",
              "      <th>P1906S4</th>\n",
              "      <th>P1906S5</th>\n",
              "      <th>P1906S6</th>\n",
              "      <th>P1906S7</th>\n",
              "      <th>P1906S8</th>\n",
              "      <th>Campesina</th>\n",
              "    </tr>\n",
              "  </thead>\n",
              "  <tbody>\n",
              "    <tr>\n",
              "      <th>59</th>\n",
              "      <td>5000128</td>\n",
              "      <td>1</td>\n",
              "      <td>1</td>\n",
              "      <td>18</td>\n",
              "      <td>NaN</td>\n",
              "      <td>2</td>\n",
              "      <td>2</td>\n",
              "      <td>50</td>\n",
              "      <td>FEBRERO</td>\n",
              "      <td>1</td>\n",
              "      <td>...</td>\n",
              "      <td>1.0</td>\n",
              "      <td>4.0</td>\n",
              "      <td>4.0</td>\n",
              "      <td>4.0</td>\n",
              "      <td>4.0</td>\n",
              "      <td>4.0</td>\n",
              "      <td>4.0</td>\n",
              "      <td>4.0</td>\n",
              "      <td>4.0</td>\n",
              "      <td>1.0</td>\n",
              "    </tr>\n",
              "    <tr>\n",
              "      <th>60</th>\n",
              "      <td>5000128</td>\n",
              "      <td>1</td>\n",
              "      <td>1</td>\n",
              "      <td>18</td>\n",
              "      <td>NaN</td>\n",
              "      <td>2</td>\n",
              "      <td>2</td>\n",
              "      <td>50</td>\n",
              "      <td>FEBRERO</td>\n",
              "      <td>1</td>\n",
              "      <td>...</td>\n",
              "      <td>1.0</td>\n",
              "      <td>4.0</td>\n",
              "      <td>4.0</td>\n",
              "      <td>4.0</td>\n",
              "      <td>4.0</td>\n",
              "      <td>4.0</td>\n",
              "      <td>4.0</td>\n",
              "      <td>4.0</td>\n",
              "      <td>4.0</td>\n",
              "      <td>1.0</td>\n",
              "    </tr>\n",
              "    <tr>\n",
              "      <th>61</th>\n",
              "      <td>5000128</td>\n",
              "      <td>1</td>\n",
              "      <td>1</td>\n",
              "      <td>18</td>\n",
              "      <td>NaN</td>\n",
              "      <td>2</td>\n",
              "      <td>2</td>\n",
              "      <td>50</td>\n",
              "      <td>FEBRERO</td>\n",
              "      <td>1</td>\n",
              "      <td>...</td>\n",
              "      <td>1.0</td>\n",
              "      <td>4.0</td>\n",
              "      <td>4.0</td>\n",
              "      <td>4.0</td>\n",
              "      <td>4.0</td>\n",
              "      <td>4.0</td>\n",
              "      <td>4.0</td>\n",
              "      <td>4.0</td>\n",
              "      <td>4.0</td>\n",
              "      <td>1.0</td>\n",
              "    </tr>\n",
              "    <tr>\n",
              "      <th>143</th>\n",
              "      <td>5000491</td>\n",
              "      <td>1</td>\n",
              "      <td>1</td>\n",
              "      <td>5</td>\n",
              "      <td>NaN</td>\n",
              "      <td>2</td>\n",
              "      <td>1</td>\n",
              "      <td>57</td>\n",
              "      <td>FEBRERO</td>\n",
              "      <td>1</td>\n",
              "      <td>...</td>\n",
              "      <td>1.0</td>\n",
              "      <td>4.0</td>\n",
              "      <td>4.0</td>\n",
              "      <td>4.0</td>\n",
              "      <td>4.0</td>\n",
              "      <td>4.0</td>\n",
              "      <td>4.0</td>\n",
              "      <td>4.0</td>\n",
              "      <td>4.0</td>\n",
              "      <td>0.0</td>\n",
              "    </tr>\n",
              "    <tr>\n",
              "      <th>144</th>\n",
              "      <td>5000491</td>\n",
              "      <td>1</td>\n",
              "      <td>1</td>\n",
              "      <td>5</td>\n",
              "      <td>NaN</td>\n",
              "      <td>2</td>\n",
              "      <td>1</td>\n",
              "      <td>57</td>\n",
              "      <td>FEBRERO</td>\n",
              "      <td>1</td>\n",
              "      <td>...</td>\n",
              "      <td>1.0</td>\n",
              "      <td>4.0</td>\n",
              "      <td>4.0</td>\n",
              "      <td>4.0</td>\n",
              "      <td>4.0</td>\n",
              "      <td>4.0</td>\n",
              "      <td>4.0</td>\n",
              "      <td>4.0</td>\n",
              "      <td>4.0</td>\n",
              "      <td>0.0</td>\n",
              "    </tr>\n",
              "    <tr>\n",
              "      <th>...</th>\n",
              "      <td>...</td>\n",
              "      <td>...</td>\n",
              "      <td>...</td>\n",
              "      <td>...</td>\n",
              "      <td>...</td>\n",
              "      <td>...</td>\n",
              "      <td>...</td>\n",
              "      <td>...</td>\n",
              "      <td>...</td>\n",
              "      <td>...</td>\n",
              "      <td>...</td>\n",
              "      <td>...</td>\n",
              "      <td>...</td>\n",
              "      <td>...</td>\n",
              "      <td>...</td>\n",
              "      <td>...</td>\n",
              "      <td>...</td>\n",
              "      <td>...</td>\n",
              "      <td>...</td>\n",
              "      <td>...</td>\n",
              "      <td>...</td>\n",
              "    </tr>\n",
              "    <tr>\n",
              "      <th>80715</th>\n",
              "      <td>7276862</td>\n",
              "      <td>1</td>\n",
              "      <td>1</td>\n",
              "      <td>88</td>\n",
              "      <td>88.0</td>\n",
              "      <td>1</td>\n",
              "      <td>1</td>\n",
              "      <td>44</td>\n",
              "      <td>DICIEMBRE</td>\n",
              "      <td>1</td>\n",
              "      <td>...</td>\n",
              "      <td>1.0</td>\n",
              "      <td>4.0</td>\n",
              "      <td>4.0</td>\n",
              "      <td>4.0</td>\n",
              "      <td>4.0</td>\n",
              "      <td>4.0</td>\n",
              "      <td>4.0</td>\n",
              "      <td>4.0</td>\n",
              "      <td>4.0</td>\n",
              "      <td>0.0</td>\n",
              "    </tr>\n",
              "    <tr>\n",
              "      <th>80716</th>\n",
              "      <td>7276862</td>\n",
              "      <td>1</td>\n",
              "      <td>1</td>\n",
              "      <td>88</td>\n",
              "      <td>88.0</td>\n",
              "      <td>1</td>\n",
              "      <td>1</td>\n",
              "      <td>44</td>\n",
              "      <td>DICIEMBRE</td>\n",
              "      <td>1</td>\n",
              "      <td>...</td>\n",
              "      <td>1.0</td>\n",
              "      <td>4.0</td>\n",
              "      <td>4.0</td>\n",
              "      <td>4.0</td>\n",
              "      <td>4.0</td>\n",
              "      <td>4.0</td>\n",
              "      <td>4.0</td>\n",
              "      <td>4.0</td>\n",
              "      <td>4.0</td>\n",
              "      <td>0.0</td>\n",
              "    </tr>\n",
              "    <tr>\n",
              "      <th>80740</th>\n",
              "      <td>7276998</td>\n",
              "      <td>1</td>\n",
              "      <td>1</td>\n",
              "      <td>18</td>\n",
              "      <td>NaN</td>\n",
              "      <td>2</td>\n",
              "      <td>1</td>\n",
              "      <td>83</td>\n",
              "      <td>DICIEMBRE</td>\n",
              "      <td>1</td>\n",
              "      <td>...</td>\n",
              "      <td>1.0</td>\n",
              "      <td>4.0</td>\n",
              "      <td>4.0</td>\n",
              "      <td>4.0</td>\n",
              "      <td>3.0</td>\n",
              "      <td>4.0</td>\n",
              "      <td>4.0</td>\n",
              "      <td>4.0</td>\n",
              "      <td>4.0</td>\n",
              "      <td>1.0</td>\n",
              "    </tr>\n",
              "    <tr>\n",
              "      <th>80741</th>\n",
              "      <td>7276998</td>\n",
              "      <td>1</td>\n",
              "      <td>1</td>\n",
              "      <td>18</td>\n",
              "      <td>NaN</td>\n",
              "      <td>2</td>\n",
              "      <td>1</td>\n",
              "      <td>83</td>\n",
              "      <td>DICIEMBRE</td>\n",
              "      <td>1</td>\n",
              "      <td>...</td>\n",
              "      <td>1.0</td>\n",
              "      <td>4.0</td>\n",
              "      <td>4.0</td>\n",
              "      <td>4.0</td>\n",
              "      <td>3.0</td>\n",
              "      <td>4.0</td>\n",
              "      <td>4.0</td>\n",
              "      <td>4.0</td>\n",
              "      <td>4.0</td>\n",
              "      <td>1.0</td>\n",
              "    </tr>\n",
              "    <tr>\n",
              "      <th>80742</th>\n",
              "      <td>7276998</td>\n",
              "      <td>1</td>\n",
              "      <td>1</td>\n",
              "      <td>18</td>\n",
              "      <td>NaN</td>\n",
              "      <td>2</td>\n",
              "      <td>1</td>\n",
              "      <td>83</td>\n",
              "      <td>DICIEMBRE</td>\n",
              "      <td>1</td>\n",
              "      <td>...</td>\n",
              "      <td>1.0</td>\n",
              "      <td>4.0</td>\n",
              "      <td>4.0</td>\n",
              "      <td>4.0</td>\n",
              "      <td>3.0</td>\n",
              "      <td>4.0</td>\n",
              "      <td>4.0</td>\n",
              "      <td>4.0</td>\n",
              "      <td>4.0</td>\n",
              "      <td>1.0</td>\n",
              "    </tr>\n",
              "  </tbody>\n",
              "</table>\n",
              "<p>3147 rows × 320 columns</p>\n",
              "</div>\n",
              "    <div class=\"colab-df-buttons\">\n",
              "\n",
              "  <div class=\"colab-df-container\">\n",
              "    <button class=\"colab-df-convert\" onclick=\"convertToInteractive('df-d63b35b5-1b03-4d33-8b66-1f2e8a015a9f')\"\n",
              "            title=\"Convert this dataframe to an interactive table.\"\n",
              "            style=\"display:none;\">\n",
              "\n",
              "  <svg xmlns=\"http://www.w3.org/2000/svg\" height=\"24px\" viewBox=\"0 -960 960 960\">\n",
              "    <path d=\"M120-120v-720h720v720H120Zm60-500h600v-160H180v160Zm220 220h160v-160H400v160Zm0 220h160v-160H400v160ZM180-400h160v-160H180v160Zm440 0h160v-160H620v160ZM180-180h160v-160H180v160Zm440 0h160v-160H620v160Z\"/>\n",
              "  </svg>\n",
              "    </button>\n",
              "\n",
              "  <style>\n",
              "    .colab-df-container {\n",
              "      display:flex;\n",
              "      gap: 12px;\n",
              "    }\n",
              "\n",
              "    .colab-df-convert {\n",
              "      background-color: #E8F0FE;\n",
              "      border: none;\n",
              "      border-radius: 50%;\n",
              "      cursor: pointer;\n",
              "      display: none;\n",
              "      fill: #1967D2;\n",
              "      height: 32px;\n",
              "      padding: 0 0 0 0;\n",
              "      width: 32px;\n",
              "    }\n",
              "\n",
              "    .colab-df-convert:hover {\n",
              "      background-color: #E2EBFA;\n",
              "      box-shadow: 0px 1px 2px rgba(60, 64, 67, 0.3), 0px 1px 3px 1px rgba(60, 64, 67, 0.15);\n",
              "      fill: #174EA6;\n",
              "    }\n",
              "\n",
              "    .colab-df-buttons div {\n",
              "      margin-bottom: 4px;\n",
              "    }\n",
              "\n",
              "    [theme=dark] .colab-df-convert {\n",
              "      background-color: #3B4455;\n",
              "      fill: #D2E3FC;\n",
              "    }\n",
              "\n",
              "    [theme=dark] .colab-df-convert:hover {\n",
              "      background-color: #434B5C;\n",
              "      box-shadow: 0px 1px 3px 1px rgba(0, 0, 0, 0.15);\n",
              "      filter: drop-shadow(0px 1px 2px rgba(0, 0, 0, 0.3));\n",
              "      fill: #FFFFFF;\n",
              "    }\n",
              "  </style>\n",
              "\n",
              "    <script>\n",
              "      const buttonEl =\n",
              "        document.querySelector('#df-d63b35b5-1b03-4d33-8b66-1f2e8a015a9f button.colab-df-convert');\n",
              "      buttonEl.style.display =\n",
              "        google.colab.kernel.accessAllowed ? 'block' : 'none';\n",
              "\n",
              "      async function convertToInteractive(key) {\n",
              "        const element = document.querySelector('#df-d63b35b5-1b03-4d33-8b66-1f2e8a015a9f');\n",
              "        const dataTable =\n",
              "          await google.colab.kernel.invokeFunction('convertToInteractive',\n",
              "                                                    [key], {});\n",
              "        if (!dataTable) return;\n",
              "\n",
              "        const docLinkHtml = 'Like what you see? Visit the ' +\n",
              "          '<a target=\"_blank\" href=https://colab.research.google.com/notebooks/data_table.ipynb>data table notebook</a>'\n",
              "          + ' to learn more about interactive tables.';\n",
              "        element.innerHTML = '';\n",
              "        dataTable['output_type'] = 'display_data';\n",
              "        await google.colab.output.renderOutput(dataTable, element);\n",
              "        const docLink = document.createElement('div');\n",
              "        docLink.innerHTML = docLinkHtml;\n",
              "        element.appendChild(docLink);\n",
              "      }\n",
              "    </script>\n",
              "  </div>\n",
              "\n",
              "\n",
              "<div id=\"df-6de0880d-d6a4-40e6-90e1-0713fad9266e\">\n",
              "  <button class=\"colab-df-quickchart\" onclick=\"quickchart('df-6de0880d-d6a4-40e6-90e1-0713fad9266e')\"\n",
              "            title=\"Suggest charts\"\n",
              "            style=\"display:none;\">\n",
              "\n",
              "<svg xmlns=\"http://www.w3.org/2000/svg\" height=\"24px\"viewBox=\"0 0 24 24\"\n",
              "     width=\"24px\">\n",
              "    <g>\n",
              "        <path d=\"M19 3H5c-1.1 0-2 .9-2 2v14c0 1.1.9 2 2 2h14c1.1 0 2-.9 2-2V5c0-1.1-.9-2-2-2zM9 17H7v-7h2v7zm4 0h-2V7h2v10zm4 0h-2v-4h2v4z\"/>\n",
              "    </g>\n",
              "</svg>\n",
              "  </button>\n",
              "\n",
              "<style>\n",
              "  .colab-df-quickchart {\n",
              "      --bg-color: #E8F0FE;\n",
              "      --fill-color: #1967D2;\n",
              "      --hover-bg-color: #E2EBFA;\n",
              "      --hover-fill-color: #174EA6;\n",
              "      --disabled-fill-color: #AAA;\n",
              "      --disabled-bg-color: #DDD;\n",
              "  }\n",
              "\n",
              "  [theme=dark] .colab-df-quickchart {\n",
              "      --bg-color: #3B4455;\n",
              "      --fill-color: #D2E3FC;\n",
              "      --hover-bg-color: #434B5C;\n",
              "      --hover-fill-color: #FFFFFF;\n",
              "      --disabled-bg-color: #3B4455;\n",
              "      --disabled-fill-color: #666;\n",
              "  }\n",
              "\n",
              "  .colab-df-quickchart {\n",
              "    background-color: var(--bg-color);\n",
              "    border: none;\n",
              "    border-radius: 50%;\n",
              "    cursor: pointer;\n",
              "    display: none;\n",
              "    fill: var(--fill-color);\n",
              "    height: 32px;\n",
              "    padding: 0;\n",
              "    width: 32px;\n",
              "  }\n",
              "\n",
              "  .colab-df-quickchart:hover {\n",
              "    background-color: var(--hover-bg-color);\n",
              "    box-shadow: 0 1px 2px rgba(60, 64, 67, 0.3), 0 1px 3px 1px rgba(60, 64, 67, 0.15);\n",
              "    fill: var(--button-hover-fill-color);\n",
              "  }\n",
              "\n",
              "  .colab-df-quickchart-complete:disabled,\n",
              "  .colab-df-quickchart-complete:disabled:hover {\n",
              "    background-color: var(--disabled-bg-color);\n",
              "    fill: var(--disabled-fill-color);\n",
              "    box-shadow: none;\n",
              "  }\n",
              "\n",
              "  .colab-df-spinner {\n",
              "    border: 2px solid var(--fill-color);\n",
              "    border-color: transparent;\n",
              "    border-bottom-color: var(--fill-color);\n",
              "    animation:\n",
              "      spin 1s steps(1) infinite;\n",
              "  }\n",
              "\n",
              "  @keyframes spin {\n",
              "    0% {\n",
              "      border-color: transparent;\n",
              "      border-bottom-color: var(--fill-color);\n",
              "      border-left-color: var(--fill-color);\n",
              "    }\n",
              "    20% {\n",
              "      border-color: transparent;\n",
              "      border-left-color: var(--fill-color);\n",
              "      border-top-color: var(--fill-color);\n",
              "    }\n",
              "    30% {\n",
              "      border-color: transparent;\n",
              "      border-left-color: var(--fill-color);\n",
              "      border-top-color: var(--fill-color);\n",
              "      border-right-color: var(--fill-color);\n",
              "    }\n",
              "    40% {\n",
              "      border-color: transparent;\n",
              "      border-right-color: var(--fill-color);\n",
              "      border-top-color: var(--fill-color);\n",
              "    }\n",
              "    60% {\n",
              "      border-color: transparent;\n",
              "      border-right-color: var(--fill-color);\n",
              "    }\n",
              "    80% {\n",
              "      border-color: transparent;\n",
              "      border-right-color: var(--fill-color);\n",
              "      border-bottom-color: var(--fill-color);\n",
              "    }\n",
              "    90% {\n",
              "      border-color: transparent;\n",
              "      border-bottom-color: var(--fill-color);\n",
              "    }\n",
              "  }\n",
              "</style>\n",
              "\n",
              "  <script>\n",
              "    async function quickchart(key) {\n",
              "      const quickchartButtonEl =\n",
              "        document.querySelector('#' + key + ' button');\n",
              "      quickchartButtonEl.disabled = true;  // To prevent multiple clicks.\n",
              "      quickchartButtonEl.classList.add('colab-df-spinner');\n",
              "      try {\n",
              "        const charts = await google.colab.kernel.invokeFunction(\n",
              "            'suggestCharts', [key], {});\n",
              "      } catch (error) {\n",
              "        console.error('Error during call to suggestCharts:', error);\n",
              "      }\n",
              "      quickchartButtonEl.classList.remove('colab-df-spinner');\n",
              "      quickchartButtonEl.classList.add('colab-df-quickchart-complete');\n",
              "    }\n",
              "    (() => {\n",
              "      let quickchartButtonEl =\n",
              "        document.querySelector('#df-6de0880d-d6a4-40e6-90e1-0713fad9266e button');\n",
              "      quickchartButtonEl.style.display =\n",
              "        google.colab.kernel.accessAllowed ? 'block' : 'none';\n",
              "    })();\n",
              "  </script>\n",
              "</div>\n",
              "    </div>\n",
              "  </div>\n"
            ],
            "application/vnd.google.colaboratory.intrinsic+json": {
              "type": "dataframe",
              "variable_name": "duplicate_rows"
            }
          },
          "metadata": {},
          "execution_count": 104
        }
      ]
    },
    {
      "cell_type": "code",
      "source": [
        "emicron_copy = emicron_merge"
      ],
      "metadata": {
        "id": "cbmk_yOw_lk9"
      },
      "execution_count": 21,
      "outputs": []
    },
    {
      "cell_type": "markdown",
      "source": [
        "#check relevant columns how many missing values"
      ],
      "metadata": {
        "id": "Ww-rgoGIjtNX"
      }
    },
    {
      "cell_type": "code",
      "source": [
        "columns = [\n",
        "    \"P3032_3\", \"P3033\", \"GRUPOS4\", \"GRUPOS12\", \"P3051\", \"P639\", \"P3052\", \"P3053\", \"P3088\", \"P3089\", \"P3090\", \"P2989\",\n",
        "    \"P3091\", \"SUELDOS\", \"PRESTACIONES\", \"REMUNERACION_TOTAL\", \"TIPO\", \"P3077\", \"P3079\", \"P3080\", \"P3081\", \"P3082\",\n",
        "    \"P3083\", \"P3084\", \"P2990\", \"P1633\", \"P986\", \"P640\", \"P4000\", \"P1055\", \"P1056\", \"P661\", \"P1057\", \"P4004\", \"P2991\",\n",
        "    \"P2992\", \"P2993\", \"P4001\", \"P2532\", \"P1559\", \"P2524\", \"P1093\", \"P3056_A\", \"P3056_B\", \"P3056_C\", \"P3056_D\", \"P3057_A\",\n",
        "    \"P3057_B\", \"P3057_C\", \"P3057_D\", \"P3017_A\", \"P3017_B\", \"P3017_C\", \"P3017_D\", \"P3017_E\", \"P3017_F\", \"P3017_G\", \"P3017_H\",\n",
        "    \"P3017_K\", \"P3017_I\", \"P3017_J\", \"P3017_L\", \"P3018_1\", \"P3018_2\", \"P3018_3\", \"P3018_4\", \"P3018_5\", \"P3018_6\", \"P3018_7\",\n",
        "    \"P3018_A\", \"P3018_B\", \"P3018_C\", \"P3018_D\", \"P3018_E\", \"P3018_F\", \"P3019\", \"COSTOS_MES_ANTERIOR\", \"COSTOS_ANIO_ANTERIOR\",\n",
        "    \"GASTOS_MES\", \"CONSUMO_INTERMEDIO\", \"P3057\", \"P3058\", \"P3059\", \"P3060\", \"P3061\", \"P3062\", \"P4002\", \"P3063\", \"P3064\",\n",
        "    \"P3065\", \"P3066\", \"P3067\", \"P3092\", \"P3093\", \"P4005\", \"P4006\", \"P4007\", \"P4008\", \"P4009\", \"P4010\", \"P4011\", \"P4012\",\n",
        "    \"P4013\", \"P4014\", \"P4015\", \"P4016\", \"P4017\", \"P4018\", \"P4019\", \"P4020\", \"P4021\", \"P4022\", \"P4023\", \"P4024\", \"P4025\", \"P4026\",\n",
        "    \"P4027\", \"P4028\", \"P4029\", \"P4030\", \"P4031\", \"P4032\", \"P3072\", \"VENTAS_MES_ANTERIOR\", \"VENTAS_MES_ANIO_ANTERIOR\",\n",
        "    \"VENTAS_ANIO_ANTERIOR\", \"VALOR_AGREGADO\", \"INGRESO_MIXTO\", \"P1764_1\", \"P1764_2\", \"P1764_3\", \"P1764_4\", \"P1764_5\",\n",
        "    \"P1764_6\", \"P1764_7\", \"P1765\", \"P1765\", \"P1567\", \"P1569\", \"P1568\", \"P1571_1\", \"P1571_2\", \"P1571_3\", \"P1571_4\", \"P1571_5\", \"P1571_6\",\n",
        "    \"P1570\", \"P1570_1\", \"P1570_2\", \"P1572_1\", \"P1572_2\", \"P1572_3\", \"P1572_4\", \"P1572_5\", \"P1572_6\",\n",
        "    \"P3014\", \"P1573_1\", \"P1573_2\", \"P1573_3\", \"P1573_4\", \"P1573_5\", \"P1573_6\", \"P1574\", \"P1771\", \"P3002\", \"P3003_1\", \"P3003_2\", \"P3003_3\",\n",
        "    \"P3003_4\", \"P3003_5\", \"P3003_6\", \"P3003_7\", \"P3003_8\", \"P3004\", \"P3005_1\", \"P3005_2\", \"P3005_3\", \"P3005_4\",\n",
        "    \"P3005_5\", \"P3005_6\", \"P3005_7\", \"P3005_8\", \"P3006\", \"P3007_1\", \"P3007_2\", \"P3007_3\", \"P3007_4\", \"P3007_5\",\n",
        "    \"P3007_6\", \"P3007_7\", \"P3007_8\", \"P3008\", \"P3009_1\", \"P3009_2\", \"P3009_3\", \"P3009_4\", \"P3009_5\", \"P3009_6\",\n",
        "    \"P3009_7\", \"P3009_8\", \"P3010\", \"P3011_1\", \"P3011_2\", \"P3011_3\", \"P3011_4\", \"P3011_5\", \"P3011_6\", \"P3011_7\",\n",
        "    \"P3011_8\", \"P3012\", \"P3013_1\", \"P3013_2\", \"P3013_3\", \"P3013_4\", \"P3013_5\", \"P3013_6\", \"P3013_7\", \"P3013_8\",\n",
        "    \"P3022\", \"P3015_1\", \"P3015_2\", \"P3015_3\", \"P3015_4\", \"P3015_5\", \"P3015_6\", \"P3015_7\", \"P3015_8\", \"P3016\",\n",
        "    \"P3021_1\", \"P3021_2\", \"P3021_3\", \"P3021_4\", \"P3021_5\", \"P3021_6\", \"P3021_7\", \"P3021_8\", \"P4003\"\n",
        "]\n",
        "\n",
        "emicron_relevant = emicron[columns]\n",
        "print(emicron_relevant.isnull().sum())"
      ],
      "metadata": {
        "id": "6t7VlNmnjwBs"
      },
      "execution_count": null,
      "outputs": []
    },
    {
      "cell_type": "code",
      "source": [
        "print(emicron_relevant.columns[emicron_relevant.isnull().sum() == 0].tolist())\n"
      ],
      "metadata": {
        "id": "n032G0m6wM-X"
      },
      "execution_count": null,
      "outputs": []
    },
    {
      "cell_type": "code",
      "source": [
        "emicron.columns[emicron.isnull().any()].tolist()\n"
      ],
      "metadata": {
        "id": "CI2eC7SuzBxS"
      },
      "execution_count": null,
      "outputs": []
    },
    {
      "cell_type": "markdown",
      "source": [
        "Most important columns with missing values (even though we could exclude them)\n",
        "\n",
        "P661\n",
        "\n",
        "P1057\n",
        "\n",
        "P2991\n",
        "\n",
        "P2992\n",
        "\n",
        "P2993\n",
        "\n",
        "P3014\n",
        "\n",
        "SECUENCIA_PH\n",
        "\n",
        "TIPO\n",
        "\n",
        "P3080\n",
        "\n",
        "P3082\n",
        "\n",
        "P3084\n",
        "\n",
        "P2990"
      ],
      "metadata": {
        "id": "2XjoMqLV4e9E"
      }
    },
    {
      "cell_type": "markdown",
      "source": [
        "#create dummies 'urban' and 'informal'"
      ],
      "metadata": {
        "id": "T8Kwm9hFIi8H"
      }
    },
    {
      "cell_type": "code",
      "source": [
        "#create dummy URBAN\n",
        "emicron['urban'] = emicron['AREA'].notnull().astype(int)\n",
        "emicron_copy['urban'] = emicron['AREA'].notnull().astype(int)\n",
        "emicron_clean['urban'] = emicron['AREA'].notnull().astype(int)"
      ],
      "metadata": {
        "id": "MTBBhoMUImmi"
      },
      "execution_count": 22,
      "outputs": []
    },
    {
      "cell_type": "markdown",
      "source": [
        "#take only relevant columns and the ones with no NaN values\n"
      ],
      "metadata": {
        "id": "KdR2-AObyv3y"
      }
    },
    {
      "cell_type": "code",
      "source": [
        "import matplotlib.pyplot as plt\n",
        "\n",
        "# Assuming 'emicron' is a DataFrame\n",
        "# Replace 'emicron' with your actual DataFrame name\n",
        "missing_values = emicron_copy.isna().sum()\n",
        "\n",
        "plt.figure(figsize=(10, 6))\n",
        "plt.bar(missing_values.index, missing_values.values, color='skyblue')\n",
        "plt.xlabel('Column Names')\n",
        "plt.ylabel('Number of Missing Values')\n",
        "plt.title('Missing Values in Columns')\n",
        "plt.xticks(rotation=90)\n",
        "plt.show()\n"
      ],
      "metadata": {
        "id": "JtTJFqGsnYi8"
      },
      "execution_count": null,
      "outputs": []
    },
    {
      "cell_type": "code",
      "source": [
        "emicron_copy.head(15)"
      ],
      "metadata": {
        "id": "9d_l4dBIgRbj"
      },
      "execution_count": null,
      "outputs": []
    },
    {
      "cell_type": "code",
      "source": [
        "num_nan_columns = emicron_copy.columns[emicron_copy.isna().all()].size\n",
        "print(num_nan_columns)"
      ],
      "metadata": {
        "id": "81-iJcxxf7RN"
      },
      "execution_count": null,
      "outputs": []
    },
    {
      "cell_type": "code",
      "source": [
        "emicron_copy.describe()"
      ],
      "metadata": {
        "id": "U1M2DbKvuZwF"
      },
      "execution_count": null,
      "outputs": []
    },
    {
      "cell_type": "code",
      "source": [
        "emicron_copy.shape"
      ],
      "metadata": {
        "id": "6ROIYjK_dyA_"
      },
      "execution_count": null,
      "outputs": []
    },
    {
      "cell_type": "code",
      "source": [
        "emicron_copy.head(15)"
      ],
      "metadata": {
        "id": "2SPXsQogdqYs"
      },
      "execution_count": null,
      "outputs": []
    },
    {
      "cell_type": "code",
      "source": [
        "print((emicron.isna().sum()<20808).sum())\n",
        "print((emicron.isna().sum()>20808).sum())"
      ],
      "metadata": {
        "id": "kAaBPgc7tb1v"
      },
      "execution_count": null,
      "outputs": []
    },
    {
      "cell_type": "code",
      "source": [
        "(emicron.isnull().sum(axis=1).mean())/emicron.shape[1]"
      ],
      "metadata": {
        "id": "AxdVRr_kteAN"
      },
      "execution_count": null,
      "outputs": []
    },
    {
      "cell_type": "code",
      "source": [
        "emicron.shape"
      ],
      "metadata": {
        "id": "cl9No6tKw59Z"
      },
      "execution_count": null,
      "outputs": []
    },
    {
      "cell_type": "code",
      "source": [
        "emicron['AREA'].isnull().sum()"
      ],
      "metadata": {
        "id": "1zrmAKdYrXTM"
      },
      "execution_count": null,
      "outputs": []
    },
    {
      "cell_type": "code",
      "source": [
        "# Calculate the percentage of NaN values in each column\n",
        "nan_percentages = emicron_copy.isnull().mean()\n",
        "\n",
        "# Filter columns with more than 0% NaN values\n",
        "columns_to_drop = nan_percentages[nan_percentages > 0].index\n",
        "\n",
        "\n",
        "# Values to exclude from columns_to_drop\n",
        "exclude_values = ['COD_DEPTO']\n",
        "\n",
        "# Remove specified values from columns_to_drop\n",
        "columns_to_drop_filtered = [col for col in columns_to_drop if col not in exclude_values]\n",
        "\n",
        "# Drop the identified columns\n",
        "emicron_copy.drop(columns_to_drop_filtered, axis=1, inplace=True)\n",
        "\n",
        "# Now 'emicron' contains the remaining columns\n",
        "emicron_copy.shape"
      ],
      "metadata": {
        "id": "Lvc-0BPCxwb5",
        "colab": {
          "base_uri": "https://localhost:8080/"
        },
        "outputId": "aab96d8e-c1ec-459a-90ea-9c2f110afc89"
      },
      "execution_count": 23,
      "outputs": [
        {
          "output_type": "execute_result",
          "data": {
            "text/plain": [
              "(80753, 141)"
            ]
          },
          "metadata": {},
          "execution_count": 23
        }
      ]
    },
    {
      "cell_type": "code",
      "source": [
        "# Calculate the percentage of NaN values in each column\n",
        "nan_percentages = emicron_clean.isnull().mean()\n",
        "\n",
        "# Filter columns with more than 0% NaN values\n",
        "columns_to_drop = nan_percentages[nan_percentages > 0].index\n",
        "\n",
        "\n",
        "# Values to exclude from columns_to_drop\n",
        "exclude_values = ['COD_DEPTO']\n",
        "\n",
        "# Remove specified values from columns_to_drop\n",
        "columns_to_drop_filtered = [col for col in columns_to_drop if col not in exclude_values]\n",
        "\n",
        "# Drop the identified columns\n",
        "emicron_clean.drop(columns_to_drop_filtered, axis=1, inplace=True)\n",
        "\n",
        "# Now 'emicron' contains the remaining columns\n",
        "emicron_clean.shape"
      ],
      "metadata": {
        "colab": {
          "base_uri": "https://localhost:8080/"
        },
        "id": "jRX07CmjS9ZI",
        "outputId": "796e6771-029f-4e37-ebe3-ad104ae1558f"
      },
      "execution_count": 24,
      "outputs": [
        {
          "output_type": "execute_result",
          "data": {
            "text/plain": [
              "(88162, 60)"
            ]
          },
          "metadata": {},
          "execution_count": 24
        }
      ]
    },
    {
      "cell_type": "code",
      "source": [
        "#167 if 90%. 187 if 95%"
      ],
      "metadata": {
        "id": "Blb_MmkZ6W-F"
      },
      "execution_count": null,
      "outputs": []
    },
    {
      "cell_type": "markdown",
      "source": [
        "Indicators to create informal dummy:\n",
        "\n",
        "P3035\n",
        "\n",
        "P3032_3\n",
        "\n",
        "P3088\n",
        "\n",
        "P3090\n",
        "\n",
        "P2989\n",
        "\n",
        "P3080\n",
        "\n",
        "P3082\n",
        "\n",
        "P3084\n",
        "\n",
        "PP2990\n",
        "\n",
        "P1633\n",
        "\n",
        "P640\n",
        "\n",
        "P1055\n",
        "\n",
        "P661\n",
        "\n",
        "P1057\n",
        "\n",
        "P2991\n",
        "\n",
        "P2992\n",
        "\n",
        "P2993\n"
      ],
      "metadata": {
        "id": "LoS2b0bupwP8"
      }
    },
    {
      "cell_type": "markdown",
      "source": [
        "#take only relevant rows with no Nan values"
      ],
      "metadata": {
        "id": "eoarDkvAy1M_"
      }
    },
    {
      "cell_type": "code",
      "source": [
        "nan_percentages = emicron_copy.isnull().mean(axis=1)\n",
        "columns_to_drop = nan_percentages[nan_percentages > 0].index\n",
        "emicron_copy.drop(columns_to_drop, inplace=True)"
      ],
      "metadata": {
        "id": "yhjsV2Tg48Bl"
      },
      "execution_count": 25,
      "outputs": []
    },
    {
      "cell_type": "code",
      "source": [
        "nan_percentages = emicron_clean.isnull().mean(axis=1)\n",
        "columns_to_drop = nan_percentages[nan_percentages > 0].index\n",
        "emicron_clean.drop(columns_to_drop, inplace=True)"
      ],
      "metadata": {
        "id": "2fPMOPywTCSb"
      },
      "execution_count": 26,
      "outputs": []
    },
    {
      "cell_type": "code",
      "source": [
        "emicron_copy.isnull().mean(axis=1).mean()"
      ],
      "metadata": {
        "id": "ahNXToYL9xBk"
      },
      "execution_count": null,
      "outputs": []
    },
    {
      "cell_type": "code",
      "source": [
        "emicron_copy.shape"
      ],
      "metadata": {
        "id": "6OMUM7b55qBM",
        "colab": {
          "base_uri": "https://localhost:8080/"
        },
        "outputId": "157268b8-02df-41da-c450-ded23864072d"
      },
      "execution_count": 27,
      "outputs": [
        {
          "output_type": "execute_result",
          "data": {
            "text/plain": [
              "(80753, 141)"
            ]
          },
          "metadata": {},
          "execution_count": 27
        }
      ]
    },
    {
      "cell_type": "code",
      "source": [
        "emicron_clean.shape"
      ],
      "metadata": {
        "colab": {
          "base_uri": "https://localhost:8080/"
        },
        "id": "VIDxkB8cUsJ4",
        "outputId": "d23a7998-dfb7-4e45-867c-d12758158b33"
      },
      "execution_count": 28,
      "outputs": [
        {
          "output_type": "execute_result",
          "data": {
            "text/plain": [
              "(88162, 60)"
            ]
          },
          "metadata": {},
          "execution_count": 28
        }
      ]
    },
    {
      "cell_type": "code",
      "source": [
        "emicron_copy.columns"
      ],
      "metadata": {
        "id": "NZdlW4iwaylE"
      },
      "execution_count": null,
      "outputs": []
    },
    {
      "cell_type": "markdown",
      "source": [
        "#save emicron merged with geih + the separate one"
      ],
      "metadata": {
        "id": "vhC5MyYXc4i6"
      }
    },
    {
      "cell_type": "code",
      "source": [
        "#save as csv\n",
        "emicron_copy.to_csv('emicron_geih_merged.csv', index=False)"
      ],
      "metadata": {
        "id": "7zwNQcLr-oq8"
      },
      "execution_count": 29,
      "outputs": []
    },
    {
      "cell_type": "code",
      "source": [
        "#save as csv\n",
        "emicron_clean.to_csv('emicron_clean.csv', index=False)"
      ],
      "metadata": {
        "id": "SUsAv7dTTE4S"
      },
      "execution_count": 30,
      "outputs": []
    }
  ],
  "metadata": {
    "kernelspec": {
      "display_name": "Python 3",
      "name": "python3"
    },
    "language_info": {
      "codemirror_mode": {
        "name": "ipython",
        "version": 3
      },
      "file_extension": ".py",
      "mimetype": "text/x-python",
      "name": "python",
      "nbconvert_exporter": "python",
      "pygments_lexer": "ipython3",
      "version": "3.11.4"
    },
    "colab": {
      "provenance": [],
      "gpuType": "V100",
      "machine_shape": "hm"
    },
    "accelerator": "GPU"
  },
  "nbformat": 4,
  "nbformat_minor": 0
}