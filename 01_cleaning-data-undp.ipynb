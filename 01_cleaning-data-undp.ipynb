{
 "cells": [
  {
   "cell_type": "code",
   "execution_count": 2,
   "metadata": {},
   "outputs": [
    {
     "name": "stdout",
     "output_type": "stream",
     "text": [
      "   DIRECTORIO  SECUENCIA_P  SECUENCIA_ENCUESTA  P3002  P3003_1  P3003_2  \\\n",
      "0     2120013            1                   1      2      NaN      NaN   \n",
      "1     2120018            1                   1      2      NaN      NaN   \n",
      "2     2120022            1                   1      2      NaN      NaN   \n",
      "3     2120023            1                   1      2      NaN      NaN   \n",
      "4     2120024            1                   1      2      NaN      NaN   \n",
      "\n",
      "   P3003_3  P3003_4  P3003_5  P3003_6  ...  P3021_4  P3021_5  P3021_6  \\\n",
      "0      NaN      NaN      NaN      NaN  ...      NaN      NaN      NaN   \n",
      "1      NaN      NaN      NaN      NaN  ...      NaN      NaN      NaN   \n",
      "2      NaN      NaN      NaN      NaN  ...      NaN      NaN      NaN   \n",
      "3      NaN      NaN      NaN      NaN  ...      NaN      NaN      NaN   \n",
      "4      NaN      NaN      NaN      NaN  ...      NaN      NaN      NaN   \n",
      "\n",
      "   P3021_7  P3021_8  P4003  CLASE_TE  COD_DEPTO  AREA       F_EXP  \n",
      "0      NaN      NaN    NaN         2          8   NaN   25.099238  \n",
      "1      NaN      NaN    NaN         2          8   NaN   22.117173  \n",
      "2      NaN      NaN    NaN         2          8   NaN   34.341336  \n",
      "3      NaN      NaN    NaN         2          8   NaN   21.413039  \n",
      "4      NaN      NaN    NaN         1          8   NaN  122.952097  \n",
      "\n",
      "[5 rows x 80 columns]\n"
     ]
    }
   ],
   "source": [
    "import pandas as pd\n",
    "\n",
    "# List of file names\n",
    "files = [\n",
    "    \"factores_departamental_2022_proy_2018.csv\",\n",
    "    \"Módulo de capital social.csv\",\n",
    "    \"Módulo de características del micronegocio.csv\",\n",
    "    \"Módulo de costos, gastos y activos.csv\",\n",
    "    \"Módulo de emprendimiento.csv\",\n",
    "    \"Módulo de identificación.csv\",\n",
    "    \"Módulo de inclusión financiera.csv\",\n",
    "    \"Módulo de personal ocupado.csv\",\n",
    "    \"Módulo de sitio o ubicación.csv\",\n",
    "    \"Módulo de TIC.csv\",\n",
    "    \"Módulo de ventas o ingresos.csv\",\n",
    "    \"Módulo personal ocupado (propietario(a)).csv\"\n",
    "]\n",
    "\n",
    "# Dictionary to hold DataFrames\n",
    "datasets = {}\n",
    "\n",
    "# Read each file into a DataFrame and store it in the dictionary\n",
    "for file in files:\n",
    "    # Create a valid Python identifier for each file name\n",
    "    dataset_name = file.replace(\" \", \"_\").replace(\"(\", \"\").replace(\")\", \"\").replace(\",\", \"\").replace(\".csv\", \"\").replace(\"ó\", \"o\")\n",
    "    datasets[dataset_name] = pd.read_csv('Data/' + file)  # Include the subdirectory in the file path\n",
    "\n",
    "# Now you can access each dataset by its name, for example:\n",
    "print(datasets['Modulo_de_capital_social'].head())"
   ]
  },
  {
   "cell_type": "code",
   "execution_count": 3,
   "metadata": {},
   "outputs": [
    {
     "name": "stderr",
     "output_type": "stream",
     "text": [
      "C:\\Users\\angel\\AppData\\Local\\Temp\\ipykernel_4692\\891537440.py:6: FutureWarning: Passing 'suffixes' which cause duplicate columns {'COD_DEPTO_x', 'AREA_x', 'CLASE_TE_x', 'F_EXP_x'} in the result is deprecated and will raise a MergeError in a future version.\n",
      "  emicron = pd.merge(emicron, dataset, on=[\"DIRECTORIO\", \"SECUENCIA_ENCUESTA\", \"SECUENCIA_P\"], how='outer')\n",
      "C:\\Users\\angel\\AppData\\Local\\Temp\\ipykernel_4692\\891537440.py:6: FutureWarning: Passing 'suffixes' which cause duplicate columns {'CLASE_TE_x', 'COD_DEPTO_x', 'AREA_x', 'F_EXP_x'} in the result is deprecated and will raise a MergeError in a future version.\n",
      "  emicron = pd.merge(emicron, dataset, on=[\"DIRECTORIO\", \"SECUENCIA_ENCUESTA\", \"SECUENCIA_P\"], how='outer')\n",
      "C:\\Users\\angel\\AppData\\Local\\Temp\\ipykernel_4692\\891537440.py:6: FutureWarning: Passing 'suffixes' which cause duplicate columns {'COD_DEPTO_x', 'AREA_x', 'CLASE_TE_x', 'F_EXP_x'} in the result is deprecated and will raise a MergeError in a future version.\n",
      "  emicron = pd.merge(emicron, dataset, on=[\"DIRECTORIO\", \"SECUENCIA_ENCUESTA\", \"SECUENCIA_P\"], how='outer')\n",
      "C:\\Users\\angel\\AppData\\Local\\Temp\\ipykernel_4692\\891537440.py:6: FutureWarning: Passing 'suffixes' which cause duplicate columns {'COD_DEPTO_x', 'AREA_x', 'CLASE_TE_x', 'F_EXP_x'} in the result is deprecated and will raise a MergeError in a future version.\n",
      "  emicron = pd.merge(emicron, dataset, on=[\"DIRECTORIO\", \"SECUENCIA_ENCUESTA\", \"SECUENCIA_P\"], how='outer')\n"
     ]
    },
    {
     "name": "stdout",
     "output_type": "stream",
     "text": [
      "   DIRECTORIO  SECUENCIA_P  SECUENCIA_ENCUESTA  FEX_MICRO_DPTO  P3002  \\\n",
      "0     2120013          1.0                 1.0       16.763960    2.0   \n",
      "1     2120018          1.0                 1.0       12.625207    2.0   \n",
      "2     2120022          1.0                 1.0       20.460492    2.0   \n",
      "3     2120023          1.0                 1.0       11.714369    2.0   \n",
      "4     2120024          1.0                 1.0      129.314169    2.0   \n",
      "\n",
      "   P3003_1  P3003_2  P3003_3  P3003_4  P3003_5  ...  P3090  P2989  P3091  \\\n",
      "0      NaN      NaN      NaN      NaN      NaN  ...    2.0    2.0    1.0   \n",
      "1      NaN      NaN      NaN      NaN      NaN  ...    2.0    2.0    1.0   \n",
      "2      NaN      NaN      NaN      NaN      NaN  ...    2.0    2.0    1.0   \n",
      "3      NaN      NaN      NaN      NaN      NaN  ...    2.0    2.0    1.0   \n",
      "4      NaN      NaN      NaN      NaN      NaN  ...    2.0    2.0    1.0   \n",
      "\n",
      "   SUELDOS  PRESTACIONES  REMUNERACION_TOTAL  CLASE_TE  COD_DEPTO  AREA  \\\n",
      "0      NaN           0.0                 0.0       2.0        8.0   NaN   \n",
      "1      NaN           0.0                 0.0       2.0        8.0   NaN   \n",
      "2      NaN           0.0                 0.0       2.0        8.0   NaN   \n",
      "3      NaN           0.0                 0.0       2.0        8.0   NaN   \n",
      "4      NaN           0.0                 0.0       1.0        8.0   NaN   \n",
      "\n",
      "        F_EXP  \n",
      "0   25.099238  \n",
      "1   22.117173  \n",
      "2   34.341336  \n",
      "3   21.413039  \n",
      "4  122.952097  \n",
      "\n",
      "[5 rows x 347 columns]\n"
     ]
    }
   ],
   "source": [
    "# Initialize the merged dataset with the first dataset\n",
    "emicron = datasets[list(datasets.keys())[0]]\n",
    "\n",
    "# Merge all other datasets\n",
    "for dataset_name, dataset in list(datasets.items())[1:]:\n",
    "    emicron = pd.merge(emicron, dataset, on=[\"DIRECTORIO\", \"SECUENCIA_ENCUESTA\", \"SECUENCIA_P\"], how='outer')\n",
    "\n",
    "# Now the 'emicron' DataFrame contains the merged data\n",
    "print(emicron.head())"
   ]
  },
  {
   "cell_type": "code",
   "execution_count": 4,
   "metadata": {},
   "outputs": [
    {
     "data": {
      "text/plain": [
       "(106670, 347)"
      ]
     },
     "execution_count": 4,
     "metadata": {},
     "output_type": "execute_result"
    }
   ],
   "source": [
    "emicron.shape"
   ]
  }
 ],
 "metadata": {
  "kernelspec": {
   "display_name": "base",
   "language": "python",
   "name": "python3"
  },
  "language_info": {
   "codemirror_mode": {
    "name": "ipython",
    "version": 3
   },
   "file_extension": ".py",
   "mimetype": "text/x-python",
   "name": "python",
   "nbconvert_exporter": "python",
   "pygments_lexer": "ipython3",
   "version": "3.11.4"
  }
 },
 "nbformat": 4,
 "nbformat_minor": 2
}
