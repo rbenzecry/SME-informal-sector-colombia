{
 "cells": [
  {
   "cell_type": "code",
   "execution_count": 1,
   "metadata": {
    "id": "AdyGT2z0t_ic"
   },
   "outputs": [],
   "source": [
    "import numpy as np\n",
    "import pandas as pd\n",
    "import os"
   ]
  },
  {
   "cell_type": "code",
   "execution_count": 2,
   "metadata": {
    "id": "obWIr7qSag4K"
   },
   "outputs": [],
   "source": [
    "emicron = pd.read_csv(\"../../Data/emicron_merged.csv\")"
   ]
  },
  {
   "cell_type": "markdown",
   "metadata": {
    "id": "8-Jed21lFlJg"
   },
   "source": [
    "#informality index"
   ]
  },
  {
   "cell_type": "code",
   "execution_count": 3,
   "metadata": {
    "id": "5dKtJsEI1GFs"
   },
   "outputs": [],
   "source": [
    "index_informality = pd.read_csv(\"../../Data/emicron_index.csv\")"
   ]
  },
  {
   "cell_type": "code",
   "execution_count": 4,
   "metadata": {
    "id": "cYT8bF192ePN"
   },
   "outputs": [],
   "source": [
    "index_informality = index_informality[[\"DIRECTORIO\", \"SECUENCIA_ENCUESTA\", \"SECUENCIA_P\", 'II_D1', 'II_D2', 'II_D3', 'II_D4', 'II']]"
   ]
  },
  {
   "cell_type": "code",
   "execution_count": 5,
   "metadata": {
    "id": "s1Bqh5IS2-26"
   },
   "outputs": [],
   "source": [
    "emicron = pd.merge(emicron, index_informality, on=[\"DIRECTORIO\", \"SECUENCIA_ENCUESTA\", \"SECUENCIA_P\"], how='left')"
   ]
  },
  {
   "cell_type": "code",
   "execution_count": 6,
   "metadata": {
    "id": "UkJ9kthsSmUk"
   },
   "outputs": [],
   "source": [
    "emicron_clean = emicron.copy()"
   ]
  },
  {
   "cell_type": "markdown",
   "metadata": {
    "id": "mjOkprHqn2hE"
   },
   "source": [
    "#multidimensional poverty index"
   ]
  },
  {
   "cell_type": "code",
   "execution_count": 7,
   "metadata": {
    "id": "bGWJM9COn5O7"
   },
   "outputs": [],
   "source": [
    "mpi = pd.read_stata(\"../../Data/02_emicron-informality-mpi.dta\")"
   ]
  },
  {
   "cell_type": "code",
   "execution_count": 8,
   "metadata": {
    "colab": {
     "base_uri": "https://localhost:8080/"
    },
    "id": "2aWBcAbKoANJ",
    "outputId": "81ed229d-208e-40ee-e689-4d93d24c5e2e"
   },
   "outputs": [
    {
     "name": "stdout",
     "output_type": "stream",
     "text": [
      "Index(['mpi_index', 'mpi_poor', 'mpi_water', 'mpi_excrete', 'mpi_floor',\n",
      "       'mpi_walls', 'mpi_overcrowding', 'mpi_housing', 'mpi_eco_dep',\n",
      "       'mpi_inf_work', 'mpi_labour', 'mpi_edu_years', 'mpi_literacy',\n",
      "       'mpi_education', 'mpi_edu_attend', 'mpi_school_lag',\n",
      "       'mpi_care_barriers', 'mpi_child_labour', 'mpi_cy', 'mpi_health_ss',\n",
      "       'mpi_deprivations'],\n",
      "      dtype='object')\n"
     ]
    }
   ],
   "source": [
    "# Assuming 'mpi' is your DataFrame\n",
    "cols_with_mpi = mpi.filter(like='mpi').columns\n",
    "\n",
    "print(cols_with_mpi)"
   ]
  },
  {
   "cell_type": "markdown",
   "metadata": {
    "id": "SgJSMCA5FkO8"
   },
   "source": [
    "#geih"
   ]
  },
  {
   "cell_type": "code",
   "execution_count": 9,
   "metadata": {
    "colab": {
     "base_uri": "https://localhost:8080/"
    },
    "id": "fa920nUxRNn4",
    "outputId": "da06295a-b67c-4962-a152-b6c21410bcca"
   },
   "outputs": [
    {
     "name": "stderr",
     "output_type": "stream",
     "text": [
      "/var/folders/4h/c_6klx0d0bd723smcqr1l_3h0000gn/T/ipykernel_53234/514740733.py:20: UnicodeWarning: \n",
      "One or more strings in the dta file could not be decoded using utf-8, and\n",
      "so the fallback encoding of latin-1 is being used.  This can happen when a file\n",
      "has been incorrectly encoded by Stata or some other software. You should verify\n",
      "the string values returned are correct.\n",
      "  datasets_geih[dataset_name] = pd.read_stata(\"../../Data/\"+file)\n"
     ]
    }
   ],
   "source": [
    "# Import geih\n",
    "files = [\n",
    "    \"workforce_geih-2022-clean.dta\",\n",
    "    \"other-work_geih-2022-clean.dta\",\n",
    "    #\"other-income-taxes_geih-2022-clean.dta\",\n",
    "    \"occupied_geih-2022-clean.dta\",\n",
    "    #\"non-occupied_geih-2022-clean.dta\",\n",
    "    \"migration_geih-2022-clean.dta\",\n",
    "    \"individual_geih-2022-clean.dta\"\n",
    "    #\"household_geih-2022-clean.dta\"\n",
    "]\n",
    "\n",
    "# Dictionary to hold DataFrames\n",
    "datasets_geih = {}\n",
    "\n",
    "# Read each file into a DataFrame and store it in the dictionary\n",
    "for file in files:\n",
    "    # Create a valid Python identifier for each file name\n",
    "    dataset_name = file.replace(\" \", \"_\").replace(\"(\", \"\").replace(\")\", \"\").replace(\",\", \"\").replace(\".dta\", \"\").replace(\"ó\", \"o\")\n",
    "    datasets_geih[dataset_name] = pd.read_stata(\"../../Data/\"+file)"
   ]
  },
  {
   "cell_type": "code",
   "execution_count": 10,
   "metadata": {
    "colab": {
     "base_uri": "https://localhost:8080/"
    },
    "id": "qBaMRv4GjAJh",
    "outputId": "4a74f612-6a3d-4131-b8ff-decc23daf1cb"
   },
   "outputs": [
    {
     "name": "stdout",
     "output_type": "stream",
     "text": [
      "0.5555555555555556\n",
      "Head of workforce_geih-2022-clean:\n",
      "      PERIODO  DIRECTORIO  SECUENCIA_P  ORDEN  HOGAR  P6240 P6240S1  P6250  \\\n",
      "0  20220104.0   5000000.0          1.0    1.0    1.0    1.0            NaN   \n",
      "1  20220104.0   5000000.0          1.0    2.0    1.0    4.0            2.0   \n",
      "2  20220104.0   5000000.0          1.0    6.0    1.0    4.0            2.0   \n",
      "3  20220104.0   5000001.0          1.0    1.0    1.0    1.0            NaN   \n",
      "4  20220104.0   5000001.0          1.0    2.0    1.0    4.0            1.0   \n",
      "5  20220104.0   5000001.0          1.0    3.0    1.0    4.0            1.0   \n",
      "6  20220104.0   5000002.0          1.0    1.0    1.0    1.0            NaN   \n",
      "7  20220104.0   5000003.0          1.0    1.0    1.0    1.0            NaN   \n",
      "8  20220104.0   5000003.0          1.0    2.0    1.0    1.0            NaN   \n",
      "9  20220104.0   5000004.0          1.0    1.0    1.0    4.0            2.0   \n",
      "\n",
      "   P6260  P6260S1  ... P3362S8  P3362S7A1   FT  FFT  PET      FEX_C18     PER  \\\n",
      "0    NaN      NaN  ...     NaN             1.0  NaN  1.0  1432.463323  2022.0   \n",
      "1    2.0      NaN  ...     NaN             1.0  NaN  1.0  1432.463323  2022.0   \n",
      "2    2.0      NaN  ...     NaN             NaN  1.0  1.0  1432.463323  2022.0   \n",
      "3    NaN      NaN  ...     NaN             1.0  NaN  1.0  1088.796266  2022.0   \n",
      "4    NaN      NaN  ...     NaN             1.0  NaN  1.0  1088.796266  2022.0   \n",
      "5    NaN      NaN  ...     NaN             1.0  NaN  1.0  1088.796266  2022.0   \n",
      "6    NaN      NaN  ...     NaN             1.0  NaN  1.0  2066.712422  2022.0   \n",
      "7    NaN      NaN  ...     NaN             1.0  NaN  1.0  1834.310454  2022.0   \n",
      "8    NaN      NaN  ...     NaN             1.0  NaN  1.0  1834.310454  2022.0   \n",
      "9    2.0      NaN  ...     NaN             1.0  NaN  1.0  1920.080408  2022.0   \n",
      "\n",
      "  REGIS  id_house  adj_weight  \n",
      "0    50    5e+061  119.371944  \n",
      "1    50    5e+061  119.371944  \n",
      "2    50    5e+061  119.371944  \n",
      "3    50  50000011   90.733022  \n",
      "4    50  50000011   90.733022  \n",
      "5    50  50000011   90.733022  \n",
      "6    50  50000021  172.226035  \n",
      "7    50  50000031  152.859204  \n",
      "8    50  50000031  152.859204  \n",
      "9    50  50000041  160.006701  \n",
      "\n",
      "[10 rows x 45 columns]\n",
      "\n",
      "\n",
      "0.6106194690265486\n",
      "Head of other-work_geih-2022-clean:\n",
      "      PERIODO  DIRECTORIO  SECUENCIA_P  ORDEN  HOGAR  P3076S1  P3076S1A1  \\\n",
      "0  20220104.0   5000000.0          1.0    1.0    1.0      1.0        3.0   \n",
      "1  20220104.0   5000000.0          1.0    2.0    1.0      1.0        7.0   \n",
      "2  20220104.0   5000000.0          1.0    6.0    1.0      2.0        NaN   \n",
      "3  20220104.0   5000001.0          1.0    1.0    1.0      2.0        NaN   \n",
      "4  20220104.0   5000001.0          1.0    2.0    1.0      1.0        7.0   \n",
      "5  20220104.0   5000001.0          1.0    3.0    1.0      2.0        NaN   \n",
      "6  20220104.0   5000002.0          1.0    1.0    1.0      1.0        7.0   \n",
      "7  20220104.0   5000003.0          1.0    1.0    1.0      2.0        NaN   \n",
      "8  20220104.0   5000003.0          1.0    2.0    1.0      1.0        7.0   \n",
      "9  20220104.0   5000004.0          1.0    1.0    1.0      1.0        7.0   \n",
      "\n",
      "   P3076S1A2  P3076S2  P3076S2A1  ...  MES  DPTO  P3091  P3092  P3093  \\\n",
      "0        2.0      2.0        NaN  ...    1    08    2.0    NaN    2.0   \n",
      "1        4.0      2.0        NaN  ...    1    08    2.0    NaN    2.0   \n",
      "2        NaN      2.0        NaN  ...    1    08    2.0    NaN    2.0   \n",
      "3        NaN      2.0        NaN  ...    1    08    2.0    NaN    2.0   \n",
      "4        2.0      2.0        NaN  ...    1    08    2.0    NaN    2.0   \n",
      "5        NaN      2.0        NaN  ...    1    08    2.0    NaN    2.0   \n",
      "6        3.0      2.0        NaN  ...    1    08    2.0    NaN    2.0   \n",
      "7        NaN      2.0        NaN  ...    1    08    2.0    NaN    2.0   \n",
      "8        3.0      2.0        NaN  ...    1    08    2.0    NaN    2.0   \n",
      "9        3.0      2.0        NaN  ...    1    08    2.0    NaN    2.0   \n",
      "\n",
      "       FEX_C18     PER  REGIS  id_house  adj_weight  \n",
      "0  1432.463323  2022.0     80    5e+061  119.371944  \n",
      "1  1432.463323  2022.0     80    5e+061  119.371944  \n",
      "2  1432.463323  2022.0     80    5e+061  119.371944  \n",
      "3  1088.796266  2022.0     80  50000011   90.733022  \n",
      "4  1088.796266  2022.0     80  50000011   90.733022  \n",
      "5  1088.796266  2022.0     80  50000011   90.733022  \n",
      "6  2066.712422  2022.0     80  50000021  172.226035  \n",
      "7  1834.310454  2022.0     80  50000031  152.859204  \n",
      "8  1834.310454  2022.0     80  50000031  152.859204  \n",
      "9  1920.080408  2022.0     80  50000041  160.006701  \n",
      "\n",
      "[10 rows x 113 columns]\n",
      "\n",
      "\n",
      "0.62\n",
      "Head of occupied_geih-2022-clean:\n",
      "   DIRECTORIO  SECUENCIA_P  ORDEN  HOGAR  P6440  P6450  P6460  P6460S1  P6400  \\\n",
      "0   5000000.0          1.0    1.0    1.0    1.0    1.0    NaN      NaN    1.0   \n",
      "1   5000001.0          1.0    1.0    1.0    1.0    1.0    NaN      NaN    1.0   \n",
      "2   5000001.0          1.0    2.0    1.0    2.0    NaN    NaN      NaN    NaN   \n",
      "3   5000001.0          1.0    3.0    1.0    2.0    NaN    NaN      NaN    NaN   \n",
      "4   5000002.0          1.0    1.0    1.0    1.0    1.0    NaN      NaN    1.0   \n",
      "5   5000003.0          1.0    1.0    1.0    2.0    NaN    NaN      NaN    NaN   \n",
      "6   5000003.0          1.0    2.0    1.0    2.0    NaN    NaN      NaN    NaN   \n",
      "7   5000005.0          1.0    1.0    1.0    2.0    NaN    NaN      NaN    NaN   \n",
      "8   5000006.0          1.0    1.0    1.0    1.0    2.0    2.0     12.0    1.0   \n",
      "9   5000006.0          1.0    3.0    1.0    1.0    2.0    1.0      NaN    1.0   \n",
      "\n",
      "   P6410  ...  P3062S7  P3062S8  P3062S9  P3063S1  P3064S1  P3366     PER  \\\n",
      "0    NaN  ...                                                 NaN  2022.0   \n",
      "1    NaN  ...                                                 NaN  2022.0   \n",
      "2    NaN  ...                                                 NaN  2022.0   \n",
      "3    NaN  ...                                                 NaN  2022.0   \n",
      "4    NaN  ...                                                 NaN  2022.0   \n",
      "5    NaN  ...                                                 NaN  2022.0   \n",
      "6    NaN  ...                                                 NaN  2022.0   \n",
      "7    NaN  ...                                                 NaN  2022.0   \n",
      "8    NaN  ...                                                 NaN  2022.0   \n",
      "9    NaN  ...                                                 NaN  2022.0   \n",
      "\n",
      "   REGIS  id_house  adj_weight  \n",
      "0     60    5e+061  119.371944  \n",
      "1     60  50000011   90.733022  \n",
      "2     60  50000011   90.733022  \n",
      "3     60  50000011   90.733022  \n",
      "4     60  50000021  172.226035  \n",
      "5     60  50000031  152.859204  \n",
      "6     60  50000031  152.859204  \n",
      "7     60  50000051   77.588081  \n",
      "8     60  50000061  117.869205  \n",
      "9     60  50000061  117.869205  \n",
      "\n",
      "[10 rows x 200 columns]\n",
      "\n",
      "\n",
      "0.5681818181818182\n",
      "Head of migration_geih-2022-clean:\n",
      "      PERIODO MES     PER  DIRECTORIO  SECUENCIA_P  ORDEN  HOGAR REGIS AREA  \\\n",
      "0  20220104.0  01  2022.0   5000000.0          1.0    1.0    1.0    94        \n",
      "1  20220104.0  01  2022.0   5000000.0          1.0    2.0    1.0    94        \n",
      "2  20220104.0  01  2022.0   5000000.0          1.0    3.0    1.0    94        \n",
      "3  20220104.0  01  2022.0   5000000.0          1.0    4.0    1.0    94        \n",
      "4  20220104.0  01  2022.0   5000000.0          1.0    5.0    1.0    94        \n",
      "5  20220104.0  01  2022.0   5000000.0          1.0    6.0    1.0    94        \n",
      "6  20220104.0  01  2022.0   5000001.0          1.0    1.0    1.0    94        \n",
      "7  20220104.0  01  2022.0   5000001.0          1.0    2.0    1.0    94        \n",
      "8  20220104.0  01  2022.0   5000001.0          1.0    3.0    1.0    94        \n",
      "9  20220104.0  01  2022.0   5000002.0          1.0    1.0    1.0    94        \n",
      "\n",
      "  CLASE  ...  P3383 P3384  P3384S1  P3384S2  P3384S3  P3385  P3386  P3386S1  \\\n",
      "0     1  ...    NaN   2.0      NaN      NaN      NaN    1.0    NaN            \n",
      "1     1  ...    NaN   2.0      NaN      NaN      NaN    1.0    NaN            \n",
      "2     1  ...    NaN   2.0      NaN      NaN      NaN    1.0    NaN            \n",
      "3     1  ...    NaN   2.0      NaN      NaN      NaN    1.0    NaN            \n",
      "4     1  ...    NaN   2.0      NaN      NaN      NaN    1.0    NaN            \n",
      "5     1  ...    NaN   2.0      NaN      NaN      NaN    1.0    NaN            \n",
      "6     1  ...    1.0   2.0      NaN      NaN      NaN    1.0    NaN            \n",
      "7     1  ...    1.0   2.0      NaN      NaN      NaN    1.0    NaN            \n",
      "8     1  ...    1.0   2.0      NaN      NaN      NaN    1.0    NaN            \n",
      "9     1  ...    NaN   2.0      NaN      NaN      NaN    1.0    NaN            \n",
      "\n",
      "   id_house  adj_weight  \n",
      "0    5e+061  119.371944  \n",
      "1    5e+061  119.371944  \n",
      "2    5e+061  119.371944  \n",
      "3    5e+061  119.371944  \n",
      "4    5e+061  119.371944  \n",
      "5    5e+061  119.371944  \n",
      "6  50000011   90.733022  \n",
      "7  50000011   90.733022  \n",
      "8  50000011   90.733022  \n",
      "9  50000021  172.226035  \n",
      "\n",
      "[10 rows x 44 columns]\n",
      "\n",
      "\n",
      "0.49333333333333335\n",
      "Head of individual_geih-2022-clean:\n",
      "   DIRECTORIO  SECUENCIA_P  ORDEN  P6016  P3271 P6030S1 P6030S3  P6040  P6050  \\\n",
      "0   5000000.0          1.0    1.0    1.0    1.0       3    1988   33.0    1.0   \n",
      "1   5000000.0          1.0    2.0    2.0    2.0      12    1990   31.0    2.0   \n",
      "2   5000000.0          1.0    3.0    3.0    2.0       4    2010   11.0    3.0   \n",
      "3   5000000.0          1.0    4.0    2.0    2.0       4    2016    5.0    3.0   \n",
      "4   5000000.0          1.0    5.0    2.0    1.0       7    2018    3.0    3.0   \n",
      "5   5000000.0          1.0    6.0    6.0    2.0       6    1945   76.0    4.0   \n",
      "6   5000001.0          1.0    1.0    1.0    1.0       8    1963   58.0    1.0   \n",
      "7   5000001.0          1.0    2.0    2.0    2.0       9    1960   61.0    2.0   \n",
      "8   5000001.0          1.0    3.0    3.0    1.0       8    1985   36.0    3.0   \n",
      "9   5000002.0          1.0    1.0    1.0    2.0       2    2001   20.0    1.0   \n",
      "\n",
      "   P6083  ...  Trans_numerica  LGBT_Numerica  Discapacidad  Dificultad  \\\n",
      "0    1.0  ...             0.0            0.0           0.0         0.0   \n",
      "1    2.0  ...             0.0            0.0           0.0         0.0   \n",
      "2    1.0  ...             NaN            NaN           0.0         0.0   \n",
      "3    1.0  ...             NaN            NaN           0.0         0.0   \n",
      "4    1.0  ...             NaN            NaN           NaN         NaN   \n",
      "5    3.0  ...             0.0            0.0           0.0         0.0   \n",
      "6    3.0  ...             0.0            0.0           0.0         0.0   \n",
      "7    3.0  ...             0.0            0.0           0.0         0.0   \n",
      "8    1.0  ...             0.0            0.0           0.0         0.0   \n",
      "9    2.0  ...             0.0            0.0           0.0         0.0   \n",
      "\n",
      "   Campesina  POB_MAY18     PER REGIS  id_house  adj_weight  \n",
      "0        0.0        1.0  2022.0    10    5e+061  119.371944  \n",
      "1        1.0        1.0  2022.0    10    5e+061  119.371944  \n",
      "2        0.0        NaN  2022.0    10    5e+061  119.371944  \n",
      "3        0.0        NaN  2022.0    10    5e+061  119.371944  \n",
      "4        0.0        NaN  2022.0    10    5e+061  119.371944  \n",
      "5        0.0        1.0  2022.0    10    5e+061  119.371944  \n",
      "6        0.0        1.0  2022.0    10  50000011   90.733022  \n",
      "7        0.0        1.0  2022.0    10  50000011   90.733022  \n",
      "8        0.0        1.0  2022.0    10  50000011   90.733022  \n",
      "9        0.0        1.0  2022.0    10  50000021  172.226035  \n",
      "\n",
      "[10 rows x 75 columns]\n",
      "\n",
      "\n"
     ]
    }
   ],
   "source": [
    "for dataset_name, dataset in datasets_geih.items():\n",
    "    print((dataset.columns[dataset.isna().any()].size)/(dataset.shape[1]))\n",
    "    print(f\"Head of {dataset_name}:\")\n",
    "    print(dataset.head(10))\n",
    "    print(\"\\n\")"
   ]
  },
  {
   "cell_type": "code",
   "execution_count": 11,
   "metadata": {
    "colab": {
     "base_uri": "https://localhost:8080/"
    },
    "id": "M4cMpWmqi5wO",
    "outputId": "81807c19-6890-41f9-be36-8fec9a5d0271"
   },
   "outputs": [
    {
     "name": "stdout",
     "output_type": "stream",
     "text": [
      "Dropped columns from workforce_geih-2022-clean: ['P6250', 'P6260', 'P6260S1', 'P6260S2', 'P6270', 'P6280', 'P6290', 'P6300', 'P6310', 'P6320', 'P6330', 'P6340', 'P6350', 'P6351', 'P6240S2', 'P3362S1', 'P3362S2', 'P3362S3', 'P3362S4', 'P3362S5', 'P3362S6', 'P3362S7', 'P3362S8', 'FT', 'FFT']\n",
      "Dropped columns from other-work_geih-2022-clean: ['P3076S1A1', 'P3076S1A2', 'P3076S2A1', 'P3076S2A2', 'P3076S3A1', 'P3076S3A2', 'P3077S1A1', 'P3077S1A2', 'P3077S2A1', 'P3077S2A2', 'P3077S3A1', 'P3077S3A2', 'P3078S1A1', 'P3078S1A2', 'P3078S2A1', 'P3078S2A2', 'P3078S3A1', 'P3078S3A2', 'P3079S1A1', 'P3079S1A2', 'P3079S2A1', 'P3079S2A2', 'P3079S3A1', 'P3079S3A2', 'P3081S1A1', 'P3081S1A2', 'P3081S2A1', 'P3081S2A2', 'P3081S3A1', 'P3081S3A2', 'P3082S1A1', 'P3082S1A2', 'P3082S2A1', 'P3082S2A2', 'P3082S3A1', 'P3082S3A2', 'P3083', 'P3083S1', 'P3085', 'P3086', 'P3087', 'P3088', 'P3089S1', 'P3089S2', 'P3091S1', 'P3091S2', 'P3092S1', 'P3092S2', 'P3093S1', 'P3093S2', 'P3094S1', 'P3094S2', 'P3094S3', 'P3095S1', 'P3095S2', 'P3095S3', 'P3096S1', 'P3096S2', 'P3096S3', 'P3097', 'P3097S1', 'P3097S2', 'P3098S1', 'P3098S2', 'P3099S1', 'P3099S2', 'P3101S1', 'P3101S2', 'P3092']\n",
      "Dropped columns from occupied_geih-2022-clean: ['P6450', 'P6460', 'P6460S1', 'P6400', 'P6410', 'P6422', 'P6424S1', 'P6424S2', 'P6424S3', 'P6424S5', 'P3045S1', 'P3045S2', 'P3045S3', 'P3046', 'P9440', 'P6500', 'P6510', 'P6510S1', 'P6510S2', 'P6590', 'P6590S1', 'P6600', 'P6600S1', 'P6610', 'P6610S1', 'P6620', 'P6620S1', 'P6585S1', 'P6585S1A1', 'P6585S1A2', 'P6585S2', 'P6585S2A1', 'P6585S2A2', 'P6585S3', 'P6585S3A1', 'P6585S3A2', 'P6585S4', 'P6585S4A1', 'P6585S4A2', 'P6545', 'P6545S1', 'P6545S2', 'P6580', 'P6580S1', 'P6580S2', 'P6630S1', 'P6630S1A1', 'P6630S2', 'P6630S2A1', 'P6630S3', 'P6630S3A1', 'P6630S4', 'P6630S4A1', 'P6630S6', 'P6630S6A1', 'P6640', 'P3047', 'P3048', 'P3049', 'P6765', 'P3053', 'P3054', 'P3055', 'P3056', 'P6760', 'P3061', 'P3063', 'P3064', 'P3065', 'P3066', 'P3067', 'P3067S1', 'P3067S2', 'P6775', 'P3068', 'P6750', 'P3073', 'P550', 'P6780', 'P1879', 'P1805', 'P6810', 'P6830', 'P6930', 'P6940', 'P6960', 'P760', 'P7026', 'P7028', 'P1880', 'P7045', 'P7050', 'P7070', 'P7075', 'P7077', 'P7100', 'P7110', 'P7120', 'P7140S1', 'P7140S2', 'P7140S3', 'P7140S4', 'P7140S5', 'P7140S6', 'P7140S7', 'P7140S8', 'P7140S9', 'P7150', 'P7160', 'P1882', 'INGLABO', 'P3363', 'P3364', 'P3364S1', 'P6640S1', 'P1800', 'P1800S1', 'P1801S1', 'P1801S2', 'P1801S3', 'P1802', 'P3365', 'P3365S1', 'P3366']\n",
      "Dropped columns from migration_geih-2022-clean: ['P3373S1', 'P3373S2', 'P3373S3', 'P3373S3A1', 'P3373S3A2', 'P3374S1', 'P3374S2', 'P3374S3', 'P3375S1', 'P3376', 'P3377', 'P3378', 'P3378S1', 'P3379', 'P3380', 'P3381', 'P3382S1', 'P3382S2', 'P3382S3', 'P3383', 'P3384S1', 'P3384S2', 'P3384S3', 'P3385', 'P3386']\n",
      "Dropped columns from individual_geih-2022-clean: ['P6083S1', 'P6081S1', 'P2059', 'P6070', 'P6071', 'P6071S1', 'P3147S1', 'P3147S2', 'P3147S3', 'P3147S4', 'P3147S5', 'P3147S6', 'P3147S7', 'P3147S8', 'P3147S9', 'P3147S10', 'P3147S11', 'P6100', 'P6110', 'P6120', 'P6160', 'P6170', 'P3041', 'P3042', 'P3042S1', 'P3042S2', 'P3043', 'P3043S1', 'P3038', 'P3039', 'LGB_Numerica', 'LGB_sectores', 'Trans_numerica', 'LGBT_Numerica', 'Discapacidad', 'Dificultad', 'POB_MAY18']\n"
     ]
    }
   ],
   "source": [
    "for dataset_name, dataset in datasets_geih.items():\n",
    "    # Find columns that have any NaN values\n",
    "    nan_columns = dataset.columns[dataset.isna().any()].tolist()\n",
    "    # Drop these columns from the dataframe\n",
    "    datasets_geih[dataset_name] = dataset.drop(columns=nan_columns)\n",
    "    # Print the names of the dropped columns\n",
    "    print(f\"Dropped columns from {dataset_name}: {nan_columns}\")"
   ]
  },
  {
   "cell_type": "code",
   "execution_count": 12,
   "metadata": {
    "colab": {
     "base_uri": "https://localhost:8080/"
    },
    "id": "6R0oQaIG1A7V",
    "outputId": "fa28f0e1-3c32-4d67-c0e3-99597a88cb9e"
   },
   "outputs": [
    {
     "name": "stdout",
     "output_type": "stream",
     "text": [
      "Dropped columns from workforce_geih-2022-clean: ['P6240S1', 'P6260S1A1', 'P6310S1', 'AREA', 'P3362S7A1']\n",
      "Dropped columns from other-work_geih-2022-clean: ['P3086S1', 'P3087S1', 'P3089S3', 'AREA']\n",
      "Dropped columns from occupied_geih-2022-clean: ['P6430S1', 'P6765S1', 'P6780S1', 'P6810S1', 'P6830S1', 'P6880S1', 'P6915S1', 'P7028S1', 'P1880S1', 'AREA', 'P3051', 'P3051S1', 'P3052', 'P3052S1', 'P3054S1', 'P3055S1', 'P3057', 'P3058S1', 'P3058S2', 'P3058S3', 'P3058S4', 'P3058S5', 'P3059', 'P3062S1', 'P3062S2', 'P3062S3', 'P3062S4', 'P3062S5', 'P3062S6', 'P3062S7', 'P3062S8', 'P3062S9', 'P3063S1', 'P3064S1']\n",
      "Dropped columns from migration_geih-2022-clean: ['AREA', 'P3386S1']\n",
      "Dropped columns from individual_geih-2022-clean: ['P6030S1', 'P6030S3', 'P6080S1', 'P6080S1A1', 'P3147S10A1', 'AREA']\n"
     ]
    }
   ],
   "source": [
    "for dataset_name, dataset in datasets_geih.items():\n",
    "    # Find columns that have any empty string values\n",
    "    empty_string_columns = dataset.columns[dataset.eq(\"\").any()].tolist()\n",
    "    # Drop these columns from the dataframe\n",
    "    datasets_geih[dataset_name] = dataset.drop(columns=empty_string_columns)\n",
    "    # Print the names of the dropped columns\n",
    "    print(f\"Dropped columns from {dataset_name}: {empty_string_columns}\")"
   ]
  },
  {
   "cell_type": "code",
   "execution_count": 13,
   "metadata": {
    "colab": {
     "base_uri": "https://localhost:8080/"
    },
    "id": "udntqw-LEOoj",
    "outputId": "52465da6-1588-4181-e1f2-bcc906df21ac"
   },
   "outputs": [
    {
     "name": "stdout",
     "output_type": "stream",
     "text": [
      "Dropped 0 rows from workforce_geih-2022-clean\n",
      "Dropped 0 rows from other-work_geih-2022-clean\n",
      "Dropped 0 rows from occupied_geih-2022-clean\n",
      "Dropped 0 rows from migration_geih-2022-clean\n",
      "Dropped 0 rows from individual_geih-2022-clean\n"
     ]
    }
   ],
   "source": [
    "for dataset_name, dataset in datasets_geih.items():\n",
    "    # Find rows that have any NaN values\n",
    "    nan_rows = dataset[dataset.isna().any(axis=1)]\n",
    "\n",
    "    # Drop these rows from the dataframe\n",
    "    datasets_geih[dataset_name] = dataset.drop(nan_rows.index)\n",
    "\n",
    "    # Print the number of dropped rows\n",
    "    print(f\"Dropped {len(nan_rows)} rows from {dataset_name}\")"
   ]
  },
  {
   "cell_type": "code",
   "execution_count": 14,
   "metadata": {
    "colab": {
     "base_uri": "https://localhost:8080/"
    },
    "id": "bwvGHZtjErYd",
    "outputId": "8c5b8478-11b5-40ce-d3a2-23d20699515f"
   },
   "outputs": [
    {
     "name": "stdout",
     "output_type": "stream",
     "text": [
      "The shape of workforce_geih-2022-clean is (713731, 15)\n",
      "The shape of other-work_geih-2022-clean is (713731, 40)\n",
      "The shape of occupied_geih-2022-clean is (382461, 42)\n",
      "The shape of migration_geih-2022-clean is (919459, 17)\n",
      "The shape of individual_geih-2022-clean is (919459, 32)\n"
     ]
    }
   ],
   "source": [
    "for dataset_name, dataset in datasets_geih.items():\n",
    "    print(f\"The shape of {dataset_name} is {dataset.shape}\")"
   ]
  },
  {
   "cell_type": "markdown",
   "metadata": {
    "id": "SLH8gY9R2-IK"
   },
   "source": [
    "\"DIRECTORIO\", \"SECUENCIA_P\", \"HOGAR\", \"REGIS\", \"ORDEN\", \"AREA\", \"CLASE\", \"DPTO\", \"FEX_C18\", \"PERIODO\", \"MES\", \"PER\", \"id_house\", \"adj_weight\""
   ]
  },
  {
   "cell_type": "code",
   "execution_count": 15,
   "metadata": {
    "colab": {
     "base_uri": "https://localhost:8080/"
    },
    "id": "qYBud09n3mx0",
    "outputId": "f8cefaaf-5a06-4dd4-edcc-e066582f814f"
   },
   "outputs": [
    {
     "name": "stdout",
     "output_type": "stream",
     "text": [
      "The dataset 'workforce_geih-2022-clean' does not have NaN values in any of the checked columns.\n",
      "The dataset 'other-work_geih-2022-clean' does not have NaN values in any of the checked columns.\n",
      "The dataset 'occupied_geih-2022-clean' does not have NaN values in any of the checked columns.\n",
      "The dataset 'migration_geih-2022-clean' does not have NaN values in any of the checked columns.\n",
      "The dataset 'individual_geih-2022-clean' does not have NaN values in any of the checked columns.\n"
     ]
    }
   ],
   "source": [
    "# Define the columns to check\n",
    "check_cols = [\"DIRECTORIO\", \"SECUENCIA_P\", \"HOGAR\", \"id_house\", \"adj_weight\"]\n",
    "\n",
    "for dataset_name, dataset in datasets_geih.items():\n",
    "    # Check if any of the columns have NaN values\n",
    "    nan_cols = [col for col in check_cols if dataset[col].isna().any()]\n",
    "\n",
    "    # Print the result\n",
    "    if nan_cols:\n",
    "        print(f\"The dataset '{dataset_name}' has NaN values in these columns: {nan_cols}\")\n",
    "    else:\n",
    "        print(f\"The dataset '{dataset_name}' does not have NaN values in any of the checked columns.\")"
   ]
  },
  {
   "cell_type": "code",
   "execution_count": 16,
   "metadata": {
    "id": "82QEDRvhHIFz"
   },
   "outputs": [],
   "source": [
    "# Define the old and new column names\n",
    "rename_cols = {'MES': 'MES_REF', 'CLASE': 'CLASE_TE', 'DPTO': 'COD_DEPTO', 'ORDEN':'SECUENCIA_ENCUESTA'}\n",
    "\n",
    "# Rename the columns in all dataframes\n",
    "for dataset_name, dataset in datasets_geih.items():\n",
    "    datasets_geih[dataset_name] = dataset.rename(columns=rename_cols)"
   ]
  },
  {
   "cell_type": "code",
   "execution_count": 17,
   "metadata": {
    "id": "61Mu_RN3JS8j"
   },
   "outputs": [],
   "source": [
    "columns_to_drop = ['PERIODO', 'PER', 'REGIS', 'CLASE_TE', 'COD_DEPTO', 'MES_REF', 'id_house', 'FEX_C18', 'HOGAR', 'adj_weight', 'P3091', 'P3089', 'P3095', 'P3096', 'P3098', 'P3099', 'P3093']\n",
    "\n",
    "for dataset_name, dataset in datasets_geih.items():\n",
    "    datasets_geih[dataset_name] = dataset.drop(columns_to_drop, axis=1, errors='ignore')"
   ]
  },
  {
   "cell_type": "code",
   "execution_count": 18,
   "metadata": {
    "id": "2EFIVgCHnfAD"
   },
   "outputs": [],
   "source": [
    "datasets_items = list(datasets_geih.items())"
   ]
  },
  {
   "cell_type": "code",
   "execution_count": 19,
   "metadata": {
    "id": "_imVeDn4KePQ"
   },
   "outputs": [],
   "source": [
    "# Convert the data types of the merging columns to int64\n",
    "for dataset_name, dataset in datasets_geih.items():\n",
    "    for col in [\"DIRECTORIO\", \"SECUENCIA_P\", \"SECUENCIA_ENCUESTA\"]:\n",
    "        datasets_geih[dataset_name][col] = datasets_geih[dataset_name][col].astype('int64')\n",
    "emicron[\"DIRECTORIO\"] = emicron[\"DIRECTORIO\"].astype('int64')\n",
    "emicron[\"SECUENCIA_P\"] = emicron[\"SECUENCIA_P\"].astype('int64')\n",
    "emicron[\"SECUENCIA_ENCUESTA\"] = emicron[\"SECUENCIA_ENCUESTA\"].astype('int64')"
   ]
  },
  {
   "cell_type": "code",
   "execution_count": 20,
   "metadata": {
    "colab": {
     "base_uri": "https://localhost:8080/"
    },
    "id": "uwpZTWgOfIfT",
    "outputId": "48af91a6-97b7-4c2d-f4ef-3b6b3c2af854"
   },
   "outputs": [
    {
     "name": "stdout",
     "output_type": "stream",
     "text": [
      "       DIRECTORIO  SECUENCIA_P  SECUENCIA_ENCUESTA  COD_DEPTO  AREA  CLASE_TE  \\\n",
      "0         5000001            1                   2          8   NaN         1   \n",
      "1         5000003            1                   1          8   NaN         1   \n",
      "2         5000003            1                   2          8   NaN         1   \n",
      "3         5000007            1                   1          8   NaN         1   \n",
      "4         5000008            1                   1          8   NaN         1   \n",
      "...           ...          ...                 ...        ...   ...       ...   \n",
      "77601     7277027            1                   4         66  66.0         1   \n",
      "77602     7277028            1                   1         66  66.0         1   \n",
      "77603     7277029            1                   1         66  66.0         1   \n",
      "77604     7277065            1                   1         25   NaN         2   \n",
      "77605     7277068            1                   2         25   NaN         2   \n",
      "\n",
      "       P35  P241    MES_REF  P3031  ...  P3079S2  P3079S3  P3081S1  P3081S2  \\\n",
      "0        2    61    FEBRERO      2  ...      2.0      2.0      2.0      2.0   \n",
      "1        1    44    FEBRERO      2  ...      2.0      2.0      2.0      2.0   \n",
      "2        2    37    FEBRERO      2  ...      2.0      2.0      2.0      2.0   \n",
      "3        2    36    FEBRERO      1  ...      2.0      2.0      2.0      2.0   \n",
      "4        1    60    FEBRERO      2  ...      2.0      2.0      2.0      2.0   \n",
      "...    ...   ...        ...    ...  ...      ...      ...      ...      ...   \n",
      "77601    1    74  DICIEMBRE      2  ...      2.0      2.0      2.0      2.0   \n",
      "77602    2    52  DICIEMBRE      1  ...      2.0      2.0      2.0      2.0   \n",
      "77603    1    63  DICIEMBRE      2  ...      2.0      2.0      2.0      2.0   \n",
      "77604    1    39  DICIEMBRE      1  ...      2.0      2.0      2.0      2.0   \n",
      "77605    1    46  DICIEMBRE      2  ...      2.0      2.0      2.0      2.0   \n",
      "\n",
      "       P3081S3  P3082S1  P3082S2  P3082S3  P3094  P3101  \n",
      "0          2.0      2.0      2.0      2.0    2.0    2.0  \n",
      "1          2.0      2.0      2.0      2.0    2.0    2.0  \n",
      "2          2.0      2.0      2.0      2.0    2.0    2.0  \n",
      "3          2.0      2.0      2.0      2.0    2.0    2.0  \n",
      "4          2.0      2.0      2.0      2.0    2.0    2.0  \n",
      "...        ...      ...      ...      ...    ...    ...  \n",
      "77601      2.0      2.0      2.0      2.0    2.0    2.0  \n",
      "77602      2.0      2.0      2.0      2.0    2.0    2.0  \n",
      "77603      2.0      2.0      2.0      2.0    2.0    2.0  \n",
      "77604      2.0      2.0      2.0      2.0    2.0    1.0  \n",
      "77605      2.0      2.0      2.0      2.0    2.0    2.0  \n",
      "\n",
      "[77606 rows x 321 columns]\n",
      "       DIRECTORIO  SECUENCIA_P  SECUENCIA_ENCUESTA  COD_DEPTO  AREA  CLASE_TE  \\\n",
      "0         5000001            1                   2          8   NaN         1   \n",
      "1         5000003            1                   1          8   NaN         1   \n",
      "2         5000003            1                   2          8   NaN         1   \n",
      "3         5000007            1                   1          8   NaN         1   \n",
      "4         5000008            1                   1          8   NaN         1   \n",
      "...           ...          ...                 ...        ...   ...       ...   \n",
      "77601     7277027            1                   4         66  66.0         1   \n",
      "77602     7277028            1                   1         66  66.0         1   \n",
      "77603     7277029            1                   1         66  66.0         1   \n",
      "77604     7277065            1                   1         25   NaN         2   \n",
      "77605     7277068            1                   2         25   NaN         2   \n",
      "\n",
      "       P35  P241    MES_REF  P3031  ...  P514  P515  P1881  P7240  OCI  P6430  \\\n",
      "0        2    61    FEBRERO      2  ...   1.0   1.0    3.0    3.0  1.0    4.0   \n",
      "1        1    44    FEBRERO      2  ...   2.0   1.0   14.0    3.0  1.0    4.0   \n",
      "2        2    37    FEBRERO      2  ...   1.0   1.0   14.0    3.0  1.0    4.0   \n",
      "3        2    36    FEBRERO      1  ...   2.0   1.0   12.0    3.0  1.0    4.0   \n",
      "4        1    60    FEBRERO      2  ...   2.0   1.0    3.0    3.0  1.0    4.0   \n",
      "...    ...   ...        ...    ...  ...   ...   ...    ...    ...  ...    ...   \n",
      "77601    1    74  DICIEMBRE      2  ...   1.0   1.0    2.0    3.0  1.0    4.0   \n",
      "77602    2    52  DICIEMBRE      1  ...   2.0   2.0   11.0    8.0  1.0    5.0   \n",
      "77603    1    63  DICIEMBRE      2  ...   1.0   1.0   14.0   10.0  1.0    4.0   \n",
      "77604    1    39  DICIEMBRE      1  ...   1.0   1.0    3.0    8.0  1.0    4.0   \n",
      "77605    1    46  DICIEMBRE      2  ...   1.0   2.0   14.0    8.0  1.0    4.0   \n",
      "\n",
      "       RAMA4D_R4  OFICIO_C8  RAMA2D_R4   FT  \n",
      "0           4792       3322         47  1.0  \n",
      "1           4921       8321         49  1.0  \n",
      "2           8559       2359         85  1.0  \n",
      "3           4724       5221         47  1.0  \n",
      "4           0220       6210         02  1.0  \n",
      "...          ...        ...        ...  ...  \n",
      "77601       4520       7132         45  1.0  \n",
      "77602       5613       1412         56  1.0  \n",
      "77603       6910       2611         69  1.0  \n",
      "77604       0144       6121         01  1.0  \n",
      "77605       4520       7132         45  1.0  \n",
      "\n",
      "[77606 rows x 350 columns]\n",
      "       DIRECTORIO  SECUENCIA_P  SECUENCIA_ENCUESTA  COD_DEPTO  AREA  CLASE_TE  \\\n",
      "0         5000001            1                   2          8   NaN         1   \n",
      "1         5000003            1                   1          8   NaN         1   \n",
      "2         5000003            1                   2          8   NaN         1   \n",
      "3         5000007            1                   1          8   NaN         1   \n",
      "4         5000008            1                   1          8   NaN         1   \n",
      "...           ...          ...                 ...        ...   ...       ...   \n",
      "77601     7277027            1                   4         66  66.0         1   \n",
      "77602     7277028            1                   1         66  66.0         1   \n",
      "77603     7277029            1                   1         66  66.0         1   \n",
      "77604     7277065            1                   1         25   NaN         2   \n",
      "77605     7277068            1                   2         25   NaN         2   \n",
      "\n",
      "       P35  P241    MES_REF  P3031  ...  OCI  P6430  RAMA4D_R4  OFICIO_C8  \\\n",
      "0        2    61    FEBRERO      2  ...  1.0    4.0       4792       3322   \n",
      "1        1    44    FEBRERO      2  ...  1.0    4.0       4921       8321   \n",
      "2        2    37    FEBRERO      2  ...  1.0    4.0       8559       2359   \n",
      "3        2    36    FEBRERO      1  ...  1.0    4.0       4724       5221   \n",
      "4        1    60    FEBRERO      2  ...  1.0    4.0       0220       6210   \n",
      "...    ...   ...        ...    ...  ...  ...    ...        ...        ...   \n",
      "77601    1    74  DICIEMBRE      2  ...  1.0    4.0       4520       7132   \n",
      "77602    2    52  DICIEMBRE      1  ...  1.0    5.0       5613       1412   \n",
      "77603    1    63  DICIEMBRE      2  ...  1.0    4.0       6910       2611   \n",
      "77604    1    39  DICIEMBRE      1  ...  1.0    4.0       0144       6121   \n",
      "77605    1    46  DICIEMBRE      2  ...  1.0    4.0       4520       7132   \n",
      "\n",
      "       RAMA2D_R4   FT  P3373  P3374  P3382  P3384  \n",
      "0             47  1.0    2.0    1.0    2.0    2.0  \n",
      "1             49  1.0    2.0    1.0    2.0    2.0  \n",
      "2             85  1.0    2.0    1.0    2.0    2.0  \n",
      "3             47  1.0    2.0    1.0    3.0    2.0  \n",
      "4             02  1.0    2.0    1.0    2.0    2.0  \n",
      "...          ...  ...    ...    ...    ...    ...  \n",
      "77601         45  1.0    2.0    1.0    2.0    2.0  \n",
      "77602         56  1.0    2.0    1.0    2.0    2.0  \n",
      "77603         69  1.0    2.0    1.0    2.0    2.0  \n",
      "77604         01  1.0    2.0    1.0    2.0    2.0  \n",
      "77605         45  1.0    1.0    1.0    2.0    2.0  \n",
      "\n",
      "[77606 rows x 354 columns]\n",
      "       DIRECTORIO  SECUENCIA_P  SECUENCIA_ENCUESTA  COD_DEPTO  AREA  CLASE_TE  \\\n",
      "0         5000001            1                   2          8   NaN         1   \n",
      "1         5000003            1                   1          8   NaN         1   \n",
      "2         5000003            1                   2          8   NaN         1   \n",
      "3         5000007            1                   1          8   NaN         1   \n",
      "4         5000008            1                   1          8   NaN         1   \n",
      "...           ...          ...                 ...        ...   ...       ...   \n",
      "77601     7277027            1                   4         66  66.0         1   \n",
      "77602     7277028            1                   1         66  66.0         1   \n",
      "77603     7277029            1                   1         66  66.0         1   \n",
      "77604     7277065            1                   1         25   NaN         2   \n",
      "77605     7277068            1                   2         25   NaN         2   \n",
      "\n",
      "       P35  P241    MES_REF  P3031  ...  P6090  P1906S1  P1906S2  P1906S3  \\\n",
      "0        2    61    FEBRERO      2  ...    1.0      4.0      4.0      4.0   \n",
      "1        1    44    FEBRERO      2  ...    1.0      4.0      4.0      4.0   \n",
      "2        2    37    FEBRERO      2  ...    1.0      4.0      4.0      4.0   \n",
      "3        2    36    FEBRERO      1  ...    2.0      4.0      4.0      4.0   \n",
      "4        1    60    FEBRERO      2  ...    1.0      4.0      4.0      4.0   \n",
      "...    ...   ...        ...    ...  ...    ...      ...      ...      ...   \n",
      "77601    1    74  DICIEMBRE      2  ...    2.0      4.0      4.0      4.0   \n",
      "77602    2    52  DICIEMBRE      1  ...    1.0      4.0      4.0      4.0   \n",
      "77603    1    63  DICIEMBRE      2  ...    2.0      4.0      4.0      4.0   \n",
      "77604    1    39  DICIEMBRE      1  ...    1.0      4.0      4.0      4.0   \n",
      "77605    1    46  DICIEMBRE      2  ...    1.0      4.0      4.0      4.0   \n",
      "\n",
      "       P1906S4  P1906S5  P1906S6  P1906S7  P1906S8  Campesina  \n",
      "0          4.0      4.0      4.0      4.0      4.0        0.0  \n",
      "1          4.0      4.0      4.0      4.0      4.0        0.0  \n",
      "2          4.0      4.0      4.0      4.0      4.0        9.0  \n",
      "3          4.0      4.0      4.0      4.0      4.0        0.0  \n",
      "4          4.0      4.0      4.0      4.0      4.0        0.0  \n",
      "...        ...      ...      ...      ...      ...        ...  \n",
      "77601      4.0      4.0      4.0      4.0      4.0        0.0  \n",
      "77602      4.0      4.0      4.0      4.0      4.0        0.0  \n",
      "77603      4.0      4.0      4.0      4.0      4.0        0.0  \n",
      "77604      2.0      4.0      4.0      3.0      4.0        1.0  \n",
      "77605      4.0      4.0      4.0      4.0      4.0        1.0  \n",
      "\n",
      "[77606 rows x 373 columns]\n"
     ]
    }
   ],
   "source": [
    "#to run\n",
    "# Define the columns you want to merge\n",
    "merge_cols = [\"DIRECTORIO\", \"SECUENCIA_P\", 'SECUENCIA_ENCUESTA']\n",
    "\n",
    "# Get the list of dataset items\n",
    "datasets_items = list(datasets_geih.items())\n",
    "\n",
    "emicron_merge = {}\n",
    "\n",
    "# Merge the first dataset\n",
    "emicron_merge = pd.merge(emicron, datasets_items[0][1], on=merge_cols, how='inner')\n",
    "\n",
    "# Loop over the rest of the datasets in datasets_geih\n",
    "for dataset_name, dataset in datasets_items[1:]:\n",
    "  emicron_merge = pd.merge(emicron_merge, dataset, on=merge_cols, how='inner')\n",
    "  print(emicron_merge)"
   ]
  },
  {
   "cell_type": "code",
   "execution_count": 21,
   "metadata": {
    "colab": {
     "base_uri": "https://localhost:8080/"
    },
    "id": "sXbxfaKxyQTw",
    "outputId": "1367a2ff-09e5-40bf-e39d-7b091a20ccd2"
   },
   "outputs": [
    {
     "data": {
      "text/plain": [
       "(77606, 373)"
      ]
     },
     "execution_count": 21,
     "metadata": {},
     "output_type": "execute_result"
    }
   ],
   "source": [
    "emicron_merge.shape"
   ]
  },
  {
   "cell_type": "code",
   "execution_count": 22,
   "metadata": {
    "colab": {
     "base_uri": "https://localhost:8080/",
     "height": 35
    },
    "id": "tjv_zZ5925-N",
    "outputId": "81dd9e69-2c5f-4fc4-d30e-08c1f0ed3a37"
   },
   "outputs": [
    {
     "data": {
      "text/plain": [
       "'The number of columns with missing values in emicron_merge is: 232'"
      ]
     },
     "execution_count": 22,
     "metadata": {},
     "output_type": "execute_result"
    }
   ],
   "source": [
    "# Check for missing values in each column\n",
    "missing_counts = emicron_merge.isnull().sum()\n",
    "\n",
    "# Count the total number of columns with missing values\n",
    "num_columns_with_missing = (missing_counts > 0).sum()\n",
    "\n",
    "f\"The number of columns with missing values in emicron_merge is: {num_columns_with_missing}\""
   ]
  },
  {
   "cell_type": "code",
   "execution_count": 23,
   "metadata": {
    "colab": {
     "base_uri": "https://localhost:8080/",
     "height": 444
    },
    "id": "lUpJeckVTtNZ",
    "outputId": "5b617d4c-5431-49f1-b997-58bb81913917"
   },
   "outputs": [
    {
     "data": {
      "text/html": [
       "<div>\n",
       "<style scoped>\n",
       "    .dataframe tbody tr th:only-of-type {\n",
       "        vertical-align: middle;\n",
       "    }\n",
       "\n",
       "    .dataframe tbody tr th {\n",
       "        vertical-align: top;\n",
       "    }\n",
       "\n",
       "    .dataframe thead th {\n",
       "        text-align: right;\n",
       "    }\n",
       "</style>\n",
       "<table border=\"1\" class=\"dataframe\">\n",
       "  <thead>\n",
       "    <tr style=\"text-align: right;\">\n",
       "      <th></th>\n",
       "      <th>DIRECTORIO</th>\n",
       "      <th>SECUENCIA_P</th>\n",
       "      <th>SECUENCIA_ENCUESTA</th>\n",
       "      <th>COD_DEPTO</th>\n",
       "      <th>AREA</th>\n",
       "      <th>CLASE_TE</th>\n",
       "      <th>P35</th>\n",
       "      <th>P241</th>\n",
       "      <th>MES_REF</th>\n",
       "      <th>P3031</th>\n",
       "      <th>...</th>\n",
       "      <th>P6090</th>\n",
       "      <th>P1906S1</th>\n",
       "      <th>P1906S2</th>\n",
       "      <th>P1906S3</th>\n",
       "      <th>P1906S4</th>\n",
       "      <th>P1906S5</th>\n",
       "      <th>P1906S6</th>\n",
       "      <th>P1906S7</th>\n",
       "      <th>P1906S8</th>\n",
       "      <th>Campesina</th>\n",
       "    </tr>\n",
       "  </thead>\n",
       "  <tbody>\n",
       "  </tbody>\n",
       "</table>\n",
       "<p>0 rows × 373 columns</p>\n",
       "</div>"
      ],
      "text/plain": [
       "Empty DataFrame\n",
       "Columns: [DIRECTORIO, SECUENCIA_P, SECUENCIA_ENCUESTA, COD_DEPTO, AREA, CLASE_TE, P35, P241, MES_REF, P3031, P3032_1, P3032_2, P3032_3, P3033, P3034, P3035, P3000, GRUPOS4, GRUPOS12, F_EXP, P3002, P3003_1, P3003_2, P3003_3, P3003_4, P3003_5, P3003_6, P3003_7, P3003_8, P3004, P3005_1, P3005_2, P3005_3, P3005_4, P3005_5, P3005_6, P3005_7, P3005_8, P3006, P3007_1, P3007_2, P3007_3, P3007_4, P3007_5, P3007_6, P3007_7, P3007_8, P3008, P3009_1, P3009_2, P3009_3, P3009_4, P3009_5, P3009_6, P3009_7, P3009_8, P3010, P3011_1, P3011_2, P3011_3, P3011_4, P3011_5, P3011_6, P3011_7, P3011_8, P3012, P3013_1, P3013_2, P3013_3, P3013_4, P3013_5, P3013_6, P3013_7, P3013_8, P3022, P3015_1, P3015_2, P3015_3, P3015_4, P3015_5, P3015_6, P3015_7, P3015_8, P3016, P3021_1, P3021_2, P3021_3, P3021_4, P3021_5, P3021_6, P3021_7, P3021_8, P4003, P1633, P986, P640, P4000, P1055, P1056, P661, ...]\n",
       "Index: []\n",
       "\n",
       "[0 rows x 373 columns]"
      ]
     },
     "execution_count": 23,
     "metadata": {},
     "output_type": "execute_result"
    }
   ],
   "source": [
    "# Assuming df is your DataFrame\n",
    "duplicates = emicron_merge.duplicated(subset=['DIRECTORIO', 'SECUENCIA_P', 'SECUENCIA_ENCUESTA'])\n",
    "\n",
    "# If you want to see the rows that are duplicated\n",
    "duplicate_rows = emicron_merge[emicron_merge.duplicated(subset=['DIRECTORIO', 'SECUENCIA_P', 'SECUENCIA_ENCUESTA'])]\n",
    "\n",
    "duplicate_rows"
   ]
  },
  {
   "cell_type": "code",
   "execution_count": 24,
   "metadata": {
    "id": "cbmk_yOw_lk9"
   },
   "outputs": [],
   "source": [
    "emicron_copy = emicron_merge"
   ]
  },
  {
   "cell_type": "markdown",
   "metadata": {
    "id": "Ww-rgoGIjtNX"
   },
   "source": [
    "#check relevant columns how many missing values"
   ]
  },
  {
   "cell_type": "markdown",
   "metadata": {
    "id": "2XjoMqLV4e9E"
   },
   "source": [
    "Most important columns with missing values (even though we could exclude them)\n",
    "\n",
    "P661\n",
    "\n",
    "P1057\n",
    "\n",
    "P2991\n",
    "\n",
    "P2992\n",
    "\n",
    "P2993\n",
    "\n",
    "P3014\n",
    "\n",
    "SECUENCIA_PH\n",
    "\n",
    "TIPO\n",
    "\n",
    "P3080\n",
    "\n",
    "P3082\n",
    "\n",
    "P3084\n",
    "\n",
    "P2990"
   ]
  },
  {
   "cell_type": "markdown",
   "metadata": {
    "id": "T8Kwm9hFIi8H"
   },
   "source": [
    "#create dummies 'urban' and 'informal'"
   ]
  },
  {
   "cell_type": "code",
   "execution_count": 25,
   "metadata": {
    "id": "MTBBhoMUImmi"
   },
   "outputs": [],
   "source": [
    "#create dummy URBAN\n",
    "emicron['urban'] = emicron['AREA'].notnull().astype(int)\n",
    "emicron_merge['urban'] = emicron['AREA'].notnull().astype(int)\n",
    "emicron_copy['urban'] = emicron['AREA'].notnull().astype(int)\n",
    "emicron_clean['urban'] = emicron['AREA'].notnull().astype(int)"
   ]
  },
  {
   "cell_type": "markdown",
   "metadata": {
    "id": "KdR2-AObyv3y"
   },
   "source": [
    "#take only relevant columns and the ones with no NaN values\n"
   ]
  },
  {
   "cell_type": "code",
   "execution_count": 26,
   "metadata": {
    "colab": {
     "base_uri": "https://localhost:8080/",
     "height": 761
    },
    "id": "JtTJFqGsnYi8",
    "outputId": "1914e813-7665-4e43-b3cb-c293cf47d4e9"
   },
   "outputs": [
    {
     "data": {
      "image/png": "[encoded data removed]",
      "text/plain": [
       "<Figure size 1000x600 with 1 Axes>"
      ]
     },
     "metadata": {},
     "output_type": "display_data"
    }
   ],
   "source": [
    "import matplotlib.pyplot as plt\n",
    "\n",
    "# Assuming 'emicron' is a DataFrame\n",
    "# Replace 'emicron' with your actual DataFrame name\n",
    "missing_values = emicron_copy.isna().sum()\n",
    "\n",
    "plt.figure(figsize=(10, 6))\n",
    "plt.bar(missing_values.index, missing_values.values, color='skyblue')\n",
    "plt.xlabel('Column Names')\n",
    "plt.ylabel('Number of Missing Values')\n",
    "plt.title('Missing Values in Columns')\n",
    "plt.xticks(rotation=90)\n",
    "plt.show()\n"
   ]
  },
  {
   "cell_type": "code",
   "execution_count": 27,
   "metadata": {
    "colab": {
     "base_uri": "https://localhost:8080/",
     "height": 569
    },
    "id": "9d_l4dBIgRbj",
    "outputId": "bfbc86ad-2505-4b6f-fa27-f215b412f5fc"
   },
   "outputs": [
    {
     "data": {
      "text/html": [
       "<div>\n",
       "<style scoped>\n",
       "    .dataframe tbody tr th:only-of-type {\n",
       "        vertical-align: middle;\n",
       "    }\n",
       "\n",
       "    .dataframe tbody tr th {\n",
       "        vertical-align: top;\n",
       "    }\n",
       "\n",
       "    .dataframe thead th {\n",
       "        text-align: right;\n",
       "    }\n",
       "</style>\n",
       "<table border=\"1\" class=\"dataframe\">\n",
       "  <thead>\n",
       "    <tr style=\"text-align: right;\">\n",
       "      <th></th>\n",
       "      <th>DIRECTORIO</th>\n",
       "      <th>SECUENCIA_P</th>\n",
       "      <th>SECUENCIA_ENCUESTA</th>\n",
       "      <th>COD_DEPTO</th>\n",
       "      <th>AREA</th>\n",
       "      <th>CLASE_TE</th>\n",
       "      <th>P35</th>\n",
       "      <th>P241</th>\n",
       "      <th>MES_REF</th>\n",
       "      <th>P3031</th>\n",
       "      <th>...</th>\n",
       "      <th>P1906S1</th>\n",
       "      <th>P1906S2</th>\n",
       "      <th>P1906S3</th>\n",
       "      <th>P1906S4</th>\n",
       "      <th>P1906S5</th>\n",
       "      <th>P1906S6</th>\n",
       "      <th>P1906S7</th>\n",
       "      <th>P1906S8</th>\n",
       "      <th>Campesina</th>\n",
       "      <th>urban</th>\n",
       "    </tr>\n",
       "  </thead>\n",
       "  <tbody>\n",
       "    <tr>\n",
       "      <th>0</th>\n",
       "      <td>5000001</td>\n",
       "      <td>1</td>\n",
       "      <td>2</td>\n",
       "      <td>8</td>\n",
       "      <td>NaN</td>\n",
       "      <td>1</td>\n",
       "      <td>2</td>\n",
       "      <td>61</td>\n",
       "      <td>FEBRERO</td>\n",
       "      <td>2</td>\n",
       "      <td>...</td>\n",
       "      <td>4.0</td>\n",
       "      <td>4.0</td>\n",
       "      <td>4.0</td>\n",
       "      <td>4.0</td>\n",
       "      <td>4.0</td>\n",
       "      <td>4.0</td>\n",
       "      <td>4.0</td>\n",
       "      <td>4.0</td>\n",
       "      <td>0.0</td>\n",
       "      <td>0</td>\n",
       "    </tr>\n",
       "    <tr>\n",
       "      <th>1</th>\n",
       "      <td>5000003</td>\n",
       "      <td>1</td>\n",
       "      <td>1</td>\n",
       "      <td>8</td>\n",
       "      <td>NaN</td>\n",
       "      <td>1</td>\n",
       "      <td>1</td>\n",
       "      <td>44</td>\n",
       "      <td>FEBRERO</td>\n",
       "      <td>2</td>\n",
       "      <td>...</td>\n",
       "      <td>4.0</td>\n",
       "      <td>4.0</td>\n",
       "      <td>4.0</td>\n",
       "      <td>4.0</td>\n",
       "      <td>4.0</td>\n",
       "      <td>4.0</td>\n",
       "      <td>4.0</td>\n",
       "      <td>4.0</td>\n",
       "      <td>0.0</td>\n",
       "      <td>0</td>\n",
       "    </tr>\n",
       "    <tr>\n",
       "      <th>2</th>\n",
       "      <td>5000003</td>\n",
       "      <td>1</td>\n",
       "      <td>2</td>\n",
       "      <td>8</td>\n",
       "      <td>NaN</td>\n",
       "      <td>1</td>\n",
       "      <td>2</td>\n",
       "      <td>37</td>\n",
       "      <td>FEBRERO</td>\n",
       "      <td>2</td>\n",
       "      <td>...</td>\n",
       "      <td>4.0</td>\n",
       "      <td>4.0</td>\n",
       "      <td>4.0</td>\n",
       "      <td>4.0</td>\n",
       "      <td>4.0</td>\n",
       "      <td>4.0</td>\n",
       "      <td>4.0</td>\n",
       "      <td>4.0</td>\n",
       "      <td>9.0</td>\n",
       "      <td>0</td>\n",
       "    </tr>\n",
       "    <tr>\n",
       "      <th>3</th>\n",
       "      <td>5000007</td>\n",
       "      <td>1</td>\n",
       "      <td>1</td>\n",
       "      <td>8</td>\n",
       "      <td>NaN</td>\n",
       "      <td>1</td>\n",
       "      <td>2</td>\n",
       "      <td>36</td>\n",
       "      <td>FEBRERO</td>\n",
       "      <td>1</td>\n",
       "      <td>...</td>\n",
       "      <td>4.0</td>\n",
       "      <td>4.0</td>\n",
       "      <td>4.0</td>\n",
       "      <td>4.0</td>\n",
       "      <td>4.0</td>\n",
       "      <td>4.0</td>\n",
       "      <td>4.0</td>\n",
       "      <td>4.0</td>\n",
       "      <td>0.0</td>\n",
       "      <td>0</td>\n",
       "    </tr>\n",
       "    <tr>\n",
       "      <th>4</th>\n",
       "      <td>5000008</td>\n",
       "      <td>1</td>\n",
       "      <td>1</td>\n",
       "      <td>8</td>\n",
       "      <td>NaN</td>\n",
       "      <td>1</td>\n",
       "      <td>1</td>\n",
       "      <td>60</td>\n",
       "      <td>FEBRERO</td>\n",
       "      <td>2</td>\n",
       "      <td>...</td>\n",
       "      <td>4.0</td>\n",
       "      <td>4.0</td>\n",
       "      <td>4.0</td>\n",
       "      <td>4.0</td>\n",
       "      <td>4.0</td>\n",
       "      <td>4.0</td>\n",
       "      <td>4.0</td>\n",
       "      <td>4.0</td>\n",
       "      <td>0.0</td>\n",
       "      <td>0</td>\n",
       "    </tr>\n",
       "    <tr>\n",
       "      <th>5</th>\n",
       "      <td>5000009</td>\n",
       "      <td>1</td>\n",
       "      <td>1</td>\n",
       "      <td>8</td>\n",
       "      <td>NaN</td>\n",
       "      <td>1</td>\n",
       "      <td>1</td>\n",
       "      <td>49</td>\n",
       "      <td>FEBRERO</td>\n",
       "      <td>2</td>\n",
       "      <td>...</td>\n",
       "      <td>4.0</td>\n",
       "      <td>4.0</td>\n",
       "      <td>4.0</td>\n",
       "      <td>4.0</td>\n",
       "      <td>4.0</td>\n",
       "      <td>4.0</td>\n",
       "      <td>4.0</td>\n",
       "      <td>4.0</td>\n",
       "      <td>0.0</td>\n",
       "      <td>0</td>\n",
       "    </tr>\n",
       "    <tr>\n",
       "      <th>6</th>\n",
       "      <td>5000010</td>\n",
       "      <td>1</td>\n",
       "      <td>2</td>\n",
       "      <td>8</td>\n",
       "      <td>NaN</td>\n",
       "      <td>1</td>\n",
       "      <td>1</td>\n",
       "      <td>57</td>\n",
       "      <td>FEBRERO</td>\n",
       "      <td>2</td>\n",
       "      <td>...</td>\n",
       "      <td>4.0</td>\n",
       "      <td>4.0</td>\n",
       "      <td>4.0</td>\n",
       "      <td>4.0</td>\n",
       "      <td>4.0</td>\n",
       "      <td>4.0</td>\n",
       "      <td>4.0</td>\n",
       "      <td>4.0</td>\n",
       "      <td>0.0</td>\n",
       "      <td>0</td>\n",
       "    </tr>\n",
       "    <tr>\n",
       "      <th>7</th>\n",
       "      <td>5000010</td>\n",
       "      <td>1</td>\n",
       "      <td>3</td>\n",
       "      <td>8</td>\n",
       "      <td>NaN</td>\n",
       "      <td>1</td>\n",
       "      <td>1</td>\n",
       "      <td>25</td>\n",
       "      <td>FEBRERO</td>\n",
       "      <td>1</td>\n",
       "      <td>...</td>\n",
       "      <td>4.0</td>\n",
       "      <td>4.0</td>\n",
       "      <td>4.0</td>\n",
       "      <td>4.0</td>\n",
       "      <td>4.0</td>\n",
       "      <td>4.0</td>\n",
       "      <td>4.0</td>\n",
       "      <td>4.0</td>\n",
       "      <td>0.0</td>\n",
       "      <td>0</td>\n",
       "    </tr>\n",
       "    <tr>\n",
       "      <th>8</th>\n",
       "      <td>5000010</td>\n",
       "      <td>1</td>\n",
       "      <td>7</td>\n",
       "      <td>8</td>\n",
       "      <td>NaN</td>\n",
       "      <td>1</td>\n",
       "      <td>1</td>\n",
       "      <td>22</td>\n",
       "      <td>FEBRERO</td>\n",
       "      <td>2</td>\n",
       "      <td>...</td>\n",
       "      <td>4.0</td>\n",
       "      <td>4.0</td>\n",
       "      <td>4.0</td>\n",
       "      <td>4.0</td>\n",
       "      <td>4.0</td>\n",
       "      <td>4.0</td>\n",
       "      <td>4.0</td>\n",
       "      <td>4.0</td>\n",
       "      <td>0.0</td>\n",
       "      <td>0</td>\n",
       "    </tr>\n",
       "    <tr>\n",
       "      <th>9</th>\n",
       "      <td>5000010</td>\n",
       "      <td>1</td>\n",
       "      <td>8</td>\n",
       "      <td>8</td>\n",
       "      <td>NaN</td>\n",
       "      <td>1</td>\n",
       "      <td>2</td>\n",
       "      <td>22</td>\n",
       "      <td>FEBRERO</td>\n",
       "      <td>2</td>\n",
       "      <td>...</td>\n",
       "      <td>4.0</td>\n",
       "      <td>4.0</td>\n",
       "      <td>3.0</td>\n",
       "      <td>4.0</td>\n",
       "      <td>4.0</td>\n",
       "      <td>4.0</td>\n",
       "      <td>4.0</td>\n",
       "      <td>4.0</td>\n",
       "      <td>0.0</td>\n",
       "      <td>0</td>\n",
       "    </tr>\n",
       "    <tr>\n",
       "      <th>10</th>\n",
       "      <td>5000013</td>\n",
       "      <td>1</td>\n",
       "      <td>1</td>\n",
       "      <td>8</td>\n",
       "      <td>NaN</td>\n",
       "      <td>1</td>\n",
       "      <td>2</td>\n",
       "      <td>40</td>\n",
       "      <td>FEBRERO</td>\n",
       "      <td>2</td>\n",
       "      <td>...</td>\n",
       "      <td>4.0</td>\n",
       "      <td>4.0</td>\n",
       "      <td>4.0</td>\n",
       "      <td>4.0</td>\n",
       "      <td>4.0</td>\n",
       "      <td>4.0</td>\n",
       "      <td>4.0</td>\n",
       "      <td>4.0</td>\n",
       "      <td>0.0</td>\n",
       "      <td>0</td>\n",
       "    </tr>\n",
       "    <tr>\n",
       "      <th>11</th>\n",
       "      <td>5000014</td>\n",
       "      <td>1</td>\n",
       "      <td>1</td>\n",
       "      <td>8</td>\n",
       "      <td>NaN</td>\n",
       "      <td>1</td>\n",
       "      <td>1</td>\n",
       "      <td>75</td>\n",
       "      <td>FEBRERO</td>\n",
       "      <td>2</td>\n",
       "      <td>...</td>\n",
       "      <td>4.0</td>\n",
       "      <td>4.0</td>\n",
       "      <td>4.0</td>\n",
       "      <td>4.0</td>\n",
       "      <td>4.0</td>\n",
       "      <td>4.0</td>\n",
       "      <td>4.0</td>\n",
       "      <td>4.0</td>\n",
       "      <td>0.0</td>\n",
       "      <td>0</td>\n",
       "    </tr>\n",
       "    <tr>\n",
       "      <th>12</th>\n",
       "      <td>5000015</td>\n",
       "      <td>1</td>\n",
       "      <td>1</td>\n",
       "      <td>8</td>\n",
       "      <td>NaN</td>\n",
       "      <td>1</td>\n",
       "      <td>1</td>\n",
       "      <td>55</td>\n",
       "      <td>FEBRERO</td>\n",
       "      <td>2</td>\n",
       "      <td>...</td>\n",
       "      <td>4.0</td>\n",
       "      <td>4.0</td>\n",
       "      <td>4.0</td>\n",
       "      <td>4.0</td>\n",
       "      <td>4.0</td>\n",
       "      <td>4.0</td>\n",
       "      <td>4.0</td>\n",
       "      <td>4.0</td>\n",
       "      <td>0.0</td>\n",
       "      <td>0</td>\n",
       "    </tr>\n",
       "    <tr>\n",
       "      <th>13</th>\n",
       "      <td>5000015</td>\n",
       "      <td>1</td>\n",
       "      <td>4</td>\n",
       "      <td>8</td>\n",
       "      <td>NaN</td>\n",
       "      <td>1</td>\n",
       "      <td>1</td>\n",
       "      <td>22</td>\n",
       "      <td>FEBRERO</td>\n",
       "      <td>2</td>\n",
       "      <td>...</td>\n",
       "      <td>4.0</td>\n",
       "      <td>4.0</td>\n",
       "      <td>4.0</td>\n",
       "      <td>4.0</td>\n",
       "      <td>4.0</td>\n",
       "      <td>4.0</td>\n",
       "      <td>4.0</td>\n",
       "      <td>4.0</td>\n",
       "      <td>0.0</td>\n",
       "      <td>0</td>\n",
       "    </tr>\n",
       "    <tr>\n",
       "      <th>14</th>\n",
       "      <td>5000018</td>\n",
       "      <td>1</td>\n",
       "      <td>2</td>\n",
       "      <td>13</td>\n",
       "      <td>NaN</td>\n",
       "      <td>2</td>\n",
       "      <td>1</td>\n",
       "      <td>61</td>\n",
       "      <td>FEBRERO</td>\n",
       "      <td>2</td>\n",
       "      <td>...</td>\n",
       "      <td>4.0</td>\n",
       "      <td>4.0</td>\n",
       "      <td>4.0</td>\n",
       "      <td>4.0</td>\n",
       "      <td>4.0</td>\n",
       "      <td>4.0</td>\n",
       "      <td>4.0</td>\n",
       "      <td>4.0</td>\n",
       "      <td>1.0</td>\n",
       "      <td>0</td>\n",
       "    </tr>\n",
       "  </tbody>\n",
       "</table>\n",
       "<p>15 rows × 374 columns</p>\n",
       "</div>"
      ],
      "text/plain": [
       "    DIRECTORIO  SECUENCIA_P  SECUENCIA_ENCUESTA  COD_DEPTO  AREA  CLASE_TE  \\\n",
       "0      5000001            1                   2          8   NaN         1   \n",
       "1      5000003            1                   1          8   NaN         1   \n",
       "2      5000003            1                   2          8   NaN         1   \n",
       "3      5000007            1                   1          8   NaN         1   \n",
       "4      5000008            1                   1          8   NaN         1   \n",
       "5      5000009            1                   1          8   NaN         1   \n",
       "6      5000010            1                   2          8   NaN         1   \n",
       "7      5000010            1                   3          8   NaN         1   \n",
       "8      5000010            1                   7          8   NaN         1   \n",
       "9      5000010            1                   8          8   NaN         1   \n",
       "10     5000013            1                   1          8   NaN         1   \n",
       "11     5000014            1                   1          8   NaN         1   \n",
       "12     5000015            1                   1          8   NaN         1   \n",
       "13     5000015            1                   4          8   NaN         1   \n",
       "14     5000018            1                   2         13   NaN         2   \n",
       "\n",
       "    P35  P241  MES_REF  P3031  ...  P1906S1  P1906S2  P1906S3  P1906S4  \\\n",
       "0     2    61  FEBRERO      2  ...      4.0      4.0      4.0      4.0   \n",
       "1     1    44  FEBRERO      2  ...      4.0      4.0      4.0      4.0   \n",
       "2     2    37  FEBRERO      2  ...      4.0      4.0      4.0      4.0   \n",
       "3     2    36  FEBRERO      1  ...      4.0      4.0      4.0      4.0   \n",
       "4     1    60  FEBRERO      2  ...      4.0      4.0      4.0      4.0   \n",
       "5     1    49  FEBRERO      2  ...      4.0      4.0      4.0      4.0   \n",
       "6     1    57  FEBRERO      2  ...      4.0      4.0      4.0      4.0   \n",
       "7     1    25  FEBRERO      1  ...      4.0      4.0      4.0      4.0   \n",
       "8     1    22  FEBRERO      2  ...      4.0      4.0      4.0      4.0   \n",
       "9     2    22  FEBRERO      2  ...      4.0      4.0      3.0      4.0   \n",
       "10    2    40  FEBRERO      2  ...      4.0      4.0      4.0      4.0   \n",
       "11    1    75  FEBRERO      2  ...      4.0      4.0      4.0      4.0   \n",
       "12    1    55  FEBRERO      2  ...      4.0      4.0      4.0      4.0   \n",
       "13    1    22  FEBRERO      2  ...      4.0      4.0      4.0      4.0   \n",
       "14    1    61  FEBRERO      2  ...      4.0      4.0      4.0      4.0   \n",
       "\n",
       "    P1906S5  P1906S6  P1906S7  P1906S8  Campesina  urban  \n",
       "0       4.0      4.0      4.0      4.0        0.0      0  \n",
       "1       4.0      4.0      4.0      4.0        0.0      0  \n",
       "2       4.0      4.0      4.0      4.0        9.0      0  \n",
       "3       4.0      4.0      4.0      4.0        0.0      0  \n",
       "4       4.0      4.0      4.0      4.0        0.0      0  \n",
       "5       4.0      4.0      4.0      4.0        0.0      0  \n",
       "6       4.0      4.0      4.0      4.0        0.0      0  \n",
       "7       4.0      4.0      4.0      4.0        0.0      0  \n",
       "8       4.0      4.0      4.0      4.0        0.0      0  \n",
       "9       4.0      4.0      4.0      4.0        0.0      0  \n",
       "10      4.0      4.0      4.0      4.0        0.0      0  \n",
       "11      4.0      4.0      4.0      4.0        0.0      0  \n",
       "12      4.0      4.0      4.0      4.0        0.0      0  \n",
       "13      4.0      4.0      4.0      4.0        0.0      0  \n",
       "14      4.0      4.0      4.0      4.0        1.0      0  \n",
       "\n",
       "[15 rows x 374 columns]"
      ]
     },
     "execution_count": 27,
     "metadata": {},
     "output_type": "execute_result"
    }
   ],
   "source": [
    "emicron_copy.head(15)"
   ]
  },
  {
   "cell_type": "code",
   "execution_count": 28,
   "metadata": {
    "colab": {
     "base_uri": "https://localhost:8080/"
    },
    "id": "81-iJcxxf7RN",
    "outputId": "ea33ee53-8b7a-4d77-9054-9ddf3583c655"
   },
   "outputs": [
    {
     "name": "stdout",
     "output_type": "stream",
     "text": [
      "37\n"
     ]
    }
   ],
   "source": [
    "num_nan_columns = emicron_copy.columns[emicron_copy.isna().all()].size\n",
    "print(num_nan_columns)"
   ]
  },
  {
   "cell_type": "code",
   "execution_count": 29,
   "metadata": {
    "colab": {
     "base_uri": "https://localhost:8080/",
     "height": 350
    },
    "id": "U1M2DbKvuZwF",
    "outputId": "4a00db61-36b8-4ac7-d477-cc7141c6393d"
   },
   "outputs": [
    {
     "data": {
      "text/html": [
       "<div>\n",
       "<style scoped>\n",
       "    .dataframe tbody tr th:only-of-type {\n",
       "        vertical-align: middle;\n",
       "    }\n",
       "\n",
       "    .dataframe tbody tr th {\n",
       "        vertical-align: top;\n",
       "    }\n",
       "\n",
       "    .dataframe thead th {\n",
       "        text-align: right;\n",
       "    }\n",
       "</style>\n",
       "<table border=\"1\" class=\"dataframe\">\n",
       "  <thead>\n",
       "    <tr style=\"text-align: right;\">\n",
       "      <th></th>\n",
       "      <th>DIRECTORIO</th>\n",
       "      <th>SECUENCIA_P</th>\n",
       "      <th>SECUENCIA_ENCUESTA</th>\n",
       "      <th>COD_DEPTO</th>\n",
       "      <th>AREA</th>\n",
       "      <th>CLASE_TE</th>\n",
       "      <th>P35</th>\n",
       "      <th>P241</th>\n",
       "      <th>P3031</th>\n",
       "      <th>P3032_1</th>\n",
       "      <th>...</th>\n",
       "      <th>P1906S1</th>\n",
       "      <th>P1906S2</th>\n",
       "      <th>P1906S3</th>\n",
       "      <th>P1906S4</th>\n",
       "      <th>P1906S5</th>\n",
       "      <th>P1906S6</th>\n",
       "      <th>P1906S7</th>\n",
       "      <th>P1906S8</th>\n",
       "      <th>Campesina</th>\n",
       "      <th>urban</th>\n",
       "    </tr>\n",
       "  </thead>\n",
       "  <tbody>\n",
       "    <tr>\n",
       "      <th>count</th>\n",
       "      <td>7.760600e+04</td>\n",
       "      <td>77606.000000</td>\n",
       "      <td>77606.000000</td>\n",
       "      <td>77606.000000</td>\n",
       "      <td>51585.000000</td>\n",
       "      <td>77606.000000</td>\n",
       "      <td>77606.000000</td>\n",
       "      <td>77606.000000</td>\n",
       "      <td>77606.000000</td>\n",
       "      <td>13767.000000</td>\n",
       "      <td>...</td>\n",
       "      <td>77606.000000</td>\n",
       "      <td>77606.000000</td>\n",
       "      <td>77606.000000</td>\n",
       "      <td>77606.000000</td>\n",
       "      <td>77606.000000</td>\n",
       "      <td>77606.000000</td>\n",
       "      <td>77606.000000</td>\n",
       "      <td>77606.000000</td>\n",
       "      <td>77606.000000</td>\n",
       "      <td>77606.000000</td>\n",
       "    </tr>\n",
       "    <tr>\n",
       "      <th>mean</th>\n",
       "      <td>6.751202e+06</td>\n",
       "      <td>1.012396</td>\n",
       "      <td>1.649099</td>\n",
       "      <td>39.374314</td>\n",
       "      <td>38.955743</td>\n",
       "      <td>1.169098</td>\n",
       "      <td>1.365229</td>\n",
       "      <td>45.709030</td>\n",
       "      <td>1.822604</td>\n",
       "      <td>0.924021</td>\n",
       "      <td>...</td>\n",
       "      <td>3.970273</td>\n",
       "      <td>3.993428</td>\n",
       "      <td>3.901026</td>\n",
       "      <td>3.924954</td>\n",
       "      <td>3.976793</td>\n",
       "      <td>3.988171</td>\n",
       "      <td>3.995052</td>\n",
       "      <td>3.996225</td>\n",
       "      <td>0.312411</td>\n",
       "      <td>0.664923</td>\n",
       "    </tr>\n",
       "    <tr>\n",
       "      <th>std</th>\n",
       "      <td>8.204395e+05</td>\n",
       "      <td>0.139863</td>\n",
       "      <td>1.106856</td>\n",
       "      <td>24.230967</td>\n",
       "      <td>24.656904</td>\n",
       "      <td>0.374841</td>\n",
       "      <td>0.481498</td>\n",
       "      <td>14.343007</td>\n",
       "      <td>0.382006</td>\n",
       "      <td>1.276827</td>\n",
       "      <td>...</td>\n",
       "      <td>0.200522</td>\n",
       "      <td>0.106041</td>\n",
       "      <td>0.329914</td>\n",
       "      <td>0.304783</td>\n",
       "      <td>0.171074</td>\n",
       "      <td>0.117484</td>\n",
       "      <td>0.082960</td>\n",
       "      <td>0.069039</td>\n",
       "      <td>0.817048</td>\n",
       "      <td>0.472020</td>\n",
       "    </tr>\n",
       "    <tr>\n",
       "      <th>min</th>\n",
       "      <td>5.000001e+06</td>\n",
       "      <td>1.000000</td>\n",
       "      <td>1.000000</td>\n",
       "      <td>5.000000</td>\n",
       "      <td>5.000000</td>\n",
       "      <td>1.000000</td>\n",
       "      <td>1.000000</td>\n",
       "      <td>18.000000</td>\n",
       "      <td>1.000000</td>\n",
       "      <td>0.000000</td>\n",
       "      <td>...</td>\n",
       "      <td>1.000000</td>\n",
       "      <td>1.000000</td>\n",
       "      <td>1.000000</td>\n",
       "      <td>1.000000</td>\n",
       "      <td>1.000000</td>\n",
       "      <td>1.000000</td>\n",
       "      <td>1.000000</td>\n",
       "      <td>1.000000</td>\n",
       "      <td>0.000000</td>\n",
       "      <td>0.000000</td>\n",
       "    </tr>\n",
       "    <tr>\n",
       "      <th>25%</th>\n",
       "      <td>7.022588e+06</td>\n",
       "      <td>1.000000</td>\n",
       "      <td>1.000000</td>\n",
       "      <td>17.000000</td>\n",
       "      <td>15.000000</td>\n",
       "      <td>1.000000</td>\n",
       "      <td>1.000000</td>\n",
       "      <td>34.000000</td>\n",
       "      <td>2.000000</td>\n",
       "      <td>0.000000</td>\n",
       "      <td>...</td>\n",
       "      <td>4.000000</td>\n",
       "      <td>4.000000</td>\n",
       "      <td>4.000000</td>\n",
       "      <td>4.000000</td>\n",
       "      <td>4.000000</td>\n",
       "      <td>4.000000</td>\n",
       "      <td>4.000000</td>\n",
       "      <td>4.000000</td>\n",
       "      <td>0.000000</td>\n",
       "      <td>0.000000</td>\n",
       "    </tr>\n",
       "    <tr>\n",
       "      <th>50%</th>\n",
       "      <td>7.112216e+06</td>\n",
       "      <td>1.000000</td>\n",
       "      <td>1.000000</td>\n",
       "      <td>44.000000</td>\n",
       "      <td>44.000000</td>\n",
       "      <td>1.000000</td>\n",
       "      <td>1.000000</td>\n",
       "      <td>45.000000</td>\n",
       "      <td>2.000000</td>\n",
       "      <td>1.000000</td>\n",
       "      <td>...</td>\n",
       "      <td>4.000000</td>\n",
       "      <td>4.000000</td>\n",
       "      <td>4.000000</td>\n",
       "      <td>4.000000</td>\n",
       "      <td>4.000000</td>\n",
       "      <td>4.000000</td>\n",
       "      <td>4.000000</td>\n",
       "      <td>4.000000</td>\n",
       "      <td>0.000000</td>\n",
       "      <td>1.000000</td>\n",
       "    </tr>\n",
       "    <tr>\n",
       "      <th>75%</th>\n",
       "      <td>7.192722e+06</td>\n",
       "      <td>1.000000</td>\n",
       "      <td>2.000000</td>\n",
       "      <td>63.000000</td>\n",
       "      <td>66.000000</td>\n",
       "      <td>1.000000</td>\n",
       "      <td>2.000000</td>\n",
       "      <td>57.000000</td>\n",
       "      <td>2.000000</td>\n",
       "      <td>1.000000</td>\n",
       "      <td>...</td>\n",
       "      <td>4.000000</td>\n",
       "      <td>4.000000</td>\n",
       "      <td>4.000000</td>\n",
       "      <td>4.000000</td>\n",
       "      <td>4.000000</td>\n",
       "      <td>4.000000</td>\n",
       "      <td>4.000000</td>\n",
       "      <td>4.000000</td>\n",
       "      <td>1.000000</td>\n",
       "      <td>1.000000</td>\n",
       "    </tr>\n",
       "    <tr>\n",
       "      <th>max</th>\n",
       "      <td>7.277068e+06</td>\n",
       "      <td>7.000000</td>\n",
       "      <td>17.000000</td>\n",
       "      <td>88.000000</td>\n",
       "      <td>88.000000</td>\n",
       "      <td>2.000000</td>\n",
       "      <td>2.000000</td>\n",
       "      <td>99.000000</td>\n",
       "      <td>2.000000</td>\n",
       "      <td>8.000000</td>\n",
       "      <td>...</td>\n",
       "      <td>4.000000</td>\n",
       "      <td>4.000000</td>\n",
       "      <td>4.000000</td>\n",
       "      <td>4.000000</td>\n",
       "      <td>4.000000</td>\n",
       "      <td>4.000000</td>\n",
       "      <td>4.000000</td>\n",
       "      <td>4.000000</td>\n",
       "      <td>9.000000</td>\n",
       "      <td>1.000000</td>\n",
       "    </tr>\n",
       "  </tbody>\n",
       "</table>\n",
       "<p>8 rows × 370 columns</p>\n",
       "</div>"
      ],
      "text/plain": [
       "         DIRECTORIO   SECUENCIA_P  SECUENCIA_ENCUESTA     COD_DEPTO  \\\n",
       "count  7.760600e+04  77606.000000        77606.000000  77606.000000   \n",
       "mean   6.751202e+06      1.012396            1.649099     39.374314   \n",
       "std    8.204395e+05      0.139863            1.106856     24.230967   \n",
       "min    5.000001e+06      1.000000            1.000000      5.000000   \n",
       "25%    7.022588e+06      1.000000            1.000000     17.000000   \n",
       "50%    7.112216e+06      1.000000            1.000000     44.000000   \n",
       "75%    7.192722e+06      1.000000            2.000000     63.000000   \n",
       "max    7.277068e+06      7.000000           17.000000     88.000000   \n",
       "\n",
       "               AREA      CLASE_TE           P35          P241         P3031  \\\n",
       "count  51585.000000  77606.000000  77606.000000  77606.000000  77606.000000   \n",
       "mean      38.955743      1.169098      1.365229     45.709030      1.822604   \n",
       "std       24.656904      0.374841      0.481498     14.343007      0.382006   \n",
       "min        5.000000      1.000000      1.000000     18.000000      1.000000   \n",
       "25%       15.000000      1.000000      1.000000     34.000000      2.000000   \n",
       "50%       44.000000      1.000000      1.000000     45.000000      2.000000   \n",
       "75%       66.000000      1.000000      2.000000     57.000000      2.000000   \n",
       "max       88.000000      2.000000      2.000000     99.000000      2.000000   \n",
       "\n",
       "            P3032_1  ...       P1906S1       P1906S2       P1906S3  \\\n",
       "count  13767.000000  ...  77606.000000  77606.000000  77606.000000   \n",
       "mean       0.924021  ...      3.970273      3.993428      3.901026   \n",
       "std        1.276827  ...      0.200522      0.106041      0.329914   \n",
       "min        0.000000  ...      1.000000      1.000000      1.000000   \n",
       "25%        0.000000  ...      4.000000      4.000000      4.000000   \n",
       "50%        1.000000  ...      4.000000      4.000000      4.000000   \n",
       "75%        1.000000  ...      4.000000      4.000000      4.000000   \n",
       "max        8.000000  ...      4.000000      4.000000      4.000000   \n",
       "\n",
       "            P1906S4       P1906S5       P1906S6       P1906S7       P1906S8  \\\n",
       "count  77606.000000  77606.000000  77606.000000  77606.000000  77606.000000   \n",
       "mean       3.924954      3.976793      3.988171      3.995052      3.996225   \n",
       "std        0.304783      0.171074      0.117484      0.082960      0.069039   \n",
       "min        1.000000      1.000000      1.000000      1.000000      1.000000   \n",
       "25%        4.000000      4.000000      4.000000      4.000000      4.000000   \n",
       "50%        4.000000      4.000000      4.000000      4.000000      4.000000   \n",
       "75%        4.000000      4.000000      4.000000      4.000000      4.000000   \n",
       "max        4.000000      4.000000      4.000000      4.000000      4.000000   \n",
       "\n",
       "          Campesina         urban  \n",
       "count  77606.000000  77606.000000  \n",
       "mean       0.312411      0.664923  \n",
       "std        0.817048      0.472020  \n",
       "min        0.000000      0.000000  \n",
       "25%        0.000000      0.000000  \n",
       "50%        0.000000      1.000000  \n",
       "75%        1.000000      1.000000  \n",
       "max        9.000000      1.000000  \n",
       "\n",
       "[8 rows x 370 columns]"
      ]
     },
     "execution_count": 29,
     "metadata": {},
     "output_type": "execute_result"
    }
   ],
   "source": [
    "emicron_merge.describe()"
   ]
  },
  {
   "cell_type": "code",
   "execution_count": 30,
   "metadata": {
    "colab": {
     "base_uri": "https://localhost:8080/"
    },
    "id": "6ROIYjK_dyA_",
    "outputId": "b10b1608-5c8d-4560-9791-7b2dd905d7dc"
   },
   "outputs": [
    {
     "data": {
      "text/plain": [
       "(77606, 374)"
      ]
     },
     "execution_count": 30,
     "metadata": {},
     "output_type": "execute_result"
    }
   ],
   "source": [
    "emicron_merge.shape"
   ]
  },
  {
   "cell_type": "code",
   "execution_count": 31,
   "metadata": {
    "colab": {
     "base_uri": "https://localhost:8080/",
     "height": 569
    },
    "id": "2SPXsQogdqYs",
    "outputId": "210b03da-1f23-4688-d21f-d41ee21f0dd6"
   },
   "outputs": [
    {
     "data": {
      "text/html": [
       "<div>\n",
       "<style scoped>\n",
       "    .dataframe tbody tr th:only-of-type {\n",
       "        vertical-align: middle;\n",
       "    }\n",
       "\n",
       "    .dataframe tbody tr th {\n",
       "        vertical-align: top;\n",
       "    }\n",
       "\n",
       "    .dataframe thead th {\n",
       "        text-align: right;\n",
       "    }\n",
       "</style>\n",
       "<table border=\"1\" class=\"dataframe\">\n",
       "  <thead>\n",
       "    <tr style=\"text-align: right;\">\n",
       "      <th></th>\n",
       "      <th>DIRECTORIO</th>\n",
       "      <th>SECUENCIA_P</th>\n",
       "      <th>SECUENCIA_ENCUESTA</th>\n",
       "      <th>COD_DEPTO</th>\n",
       "      <th>AREA</th>\n",
       "      <th>CLASE_TE</th>\n",
       "      <th>P35</th>\n",
       "      <th>P241</th>\n",
       "      <th>MES_REF</th>\n",
       "      <th>P3031</th>\n",
       "      <th>...</th>\n",
       "      <th>P1906S1</th>\n",
       "      <th>P1906S2</th>\n",
       "      <th>P1906S3</th>\n",
       "      <th>P1906S4</th>\n",
       "      <th>P1906S5</th>\n",
       "      <th>P1906S6</th>\n",
       "      <th>P1906S7</th>\n",
       "      <th>P1906S8</th>\n",
       "      <th>Campesina</th>\n",
       "      <th>urban</th>\n",
       "    </tr>\n",
       "  </thead>\n",
       "  <tbody>\n",
       "    <tr>\n",
       "      <th>0</th>\n",
       "      <td>5000001</td>\n",
       "      <td>1</td>\n",
       "      <td>2</td>\n",
       "      <td>8</td>\n",
       "      <td>NaN</td>\n",
       "      <td>1</td>\n",
       "      <td>2</td>\n",
       "      <td>61</td>\n",
       "      <td>FEBRERO</td>\n",
       "      <td>2</td>\n",
       "      <td>...</td>\n",
       "      <td>4.0</td>\n",
       "      <td>4.0</td>\n",
       "      <td>4.0</td>\n",
       "      <td>4.0</td>\n",
       "      <td>4.0</td>\n",
       "      <td>4.0</td>\n",
       "      <td>4.0</td>\n",
       "      <td>4.0</td>\n",
       "      <td>0.0</td>\n",
       "      <td>0</td>\n",
       "    </tr>\n",
       "    <tr>\n",
       "      <th>1</th>\n",
       "      <td>5000003</td>\n",
       "      <td>1</td>\n",
       "      <td>1</td>\n",
       "      <td>8</td>\n",
       "      <td>NaN</td>\n",
       "      <td>1</td>\n",
       "      <td>1</td>\n",
       "      <td>44</td>\n",
       "      <td>FEBRERO</td>\n",
       "      <td>2</td>\n",
       "      <td>...</td>\n",
       "      <td>4.0</td>\n",
       "      <td>4.0</td>\n",
       "      <td>4.0</td>\n",
       "      <td>4.0</td>\n",
       "      <td>4.0</td>\n",
       "      <td>4.0</td>\n",
       "      <td>4.0</td>\n",
       "      <td>4.0</td>\n",
       "      <td>0.0</td>\n",
       "      <td>0</td>\n",
       "    </tr>\n",
       "    <tr>\n",
       "      <th>2</th>\n",
       "      <td>5000003</td>\n",
       "      <td>1</td>\n",
       "      <td>2</td>\n",
       "      <td>8</td>\n",
       "      <td>NaN</td>\n",
       "      <td>1</td>\n",
       "      <td>2</td>\n",
       "      <td>37</td>\n",
       "      <td>FEBRERO</td>\n",
       "      <td>2</td>\n",
       "      <td>...</td>\n",
       "      <td>4.0</td>\n",
       "      <td>4.0</td>\n",
       "      <td>4.0</td>\n",
       "      <td>4.0</td>\n",
       "      <td>4.0</td>\n",
       "      <td>4.0</td>\n",
       "      <td>4.0</td>\n",
       "      <td>4.0</td>\n",
       "      <td>9.0</td>\n",
       "      <td>0</td>\n",
       "    </tr>\n",
       "    <tr>\n",
       "      <th>3</th>\n",
       "      <td>5000007</td>\n",
       "      <td>1</td>\n",
       "      <td>1</td>\n",
       "      <td>8</td>\n",
       "      <td>NaN</td>\n",
       "      <td>1</td>\n",
       "      <td>2</td>\n",
       "      <td>36</td>\n",
       "      <td>FEBRERO</td>\n",
       "      <td>1</td>\n",
       "      <td>...</td>\n",
       "      <td>4.0</td>\n",
       "      <td>4.0</td>\n",
       "      <td>4.0</td>\n",
       "      <td>4.0</td>\n",
       "      <td>4.0</td>\n",
       "      <td>4.0</td>\n",
       "      <td>4.0</td>\n",
       "      <td>4.0</td>\n",
       "      <td>0.0</td>\n",
       "      <td>0</td>\n",
       "    </tr>\n",
       "    <tr>\n",
       "      <th>4</th>\n",
       "      <td>5000008</td>\n",
       "      <td>1</td>\n",
       "      <td>1</td>\n",
       "      <td>8</td>\n",
       "      <td>NaN</td>\n",
       "      <td>1</td>\n",
       "      <td>1</td>\n",
       "      <td>60</td>\n",
       "      <td>FEBRERO</td>\n",
       "      <td>2</td>\n",
       "      <td>...</td>\n",
       "      <td>4.0</td>\n",
       "      <td>4.0</td>\n",
       "      <td>4.0</td>\n",
       "      <td>4.0</td>\n",
       "      <td>4.0</td>\n",
       "      <td>4.0</td>\n",
       "      <td>4.0</td>\n",
       "      <td>4.0</td>\n",
       "      <td>0.0</td>\n",
       "      <td>0</td>\n",
       "    </tr>\n",
       "    <tr>\n",
       "      <th>5</th>\n",
       "      <td>5000009</td>\n",
       "      <td>1</td>\n",
       "      <td>1</td>\n",
       "      <td>8</td>\n",
       "      <td>NaN</td>\n",
       "      <td>1</td>\n",
       "      <td>1</td>\n",
       "      <td>49</td>\n",
       "      <td>FEBRERO</td>\n",
       "      <td>2</td>\n",
       "      <td>...</td>\n",
       "      <td>4.0</td>\n",
       "      <td>4.0</td>\n",
       "      <td>4.0</td>\n",
       "      <td>4.0</td>\n",
       "      <td>4.0</td>\n",
       "      <td>4.0</td>\n",
       "      <td>4.0</td>\n",
       "      <td>4.0</td>\n",
       "      <td>0.0</td>\n",
       "      <td>0</td>\n",
       "    </tr>\n",
       "    <tr>\n",
       "      <th>6</th>\n",
       "      <td>5000010</td>\n",
       "      <td>1</td>\n",
       "      <td>2</td>\n",
       "      <td>8</td>\n",
       "      <td>NaN</td>\n",
       "      <td>1</td>\n",
       "      <td>1</td>\n",
       "      <td>57</td>\n",
       "      <td>FEBRERO</td>\n",
       "      <td>2</td>\n",
       "      <td>...</td>\n",
       "      <td>4.0</td>\n",
       "      <td>4.0</td>\n",
       "      <td>4.0</td>\n",
       "      <td>4.0</td>\n",
       "      <td>4.0</td>\n",
       "      <td>4.0</td>\n",
       "      <td>4.0</td>\n",
       "      <td>4.0</td>\n",
       "      <td>0.0</td>\n",
       "      <td>0</td>\n",
       "    </tr>\n",
       "    <tr>\n",
       "      <th>7</th>\n",
       "      <td>5000010</td>\n",
       "      <td>1</td>\n",
       "      <td>3</td>\n",
       "      <td>8</td>\n",
       "      <td>NaN</td>\n",
       "      <td>1</td>\n",
       "      <td>1</td>\n",
       "      <td>25</td>\n",
       "      <td>FEBRERO</td>\n",
       "      <td>1</td>\n",
       "      <td>...</td>\n",
       "      <td>4.0</td>\n",
       "      <td>4.0</td>\n",
       "      <td>4.0</td>\n",
       "      <td>4.0</td>\n",
       "      <td>4.0</td>\n",
       "      <td>4.0</td>\n",
       "      <td>4.0</td>\n",
       "      <td>4.0</td>\n",
       "      <td>0.0</td>\n",
       "      <td>0</td>\n",
       "    </tr>\n",
       "    <tr>\n",
       "      <th>8</th>\n",
       "      <td>5000010</td>\n",
       "      <td>1</td>\n",
       "      <td>7</td>\n",
       "      <td>8</td>\n",
       "      <td>NaN</td>\n",
       "      <td>1</td>\n",
       "      <td>1</td>\n",
       "      <td>22</td>\n",
       "      <td>FEBRERO</td>\n",
       "      <td>2</td>\n",
       "      <td>...</td>\n",
       "      <td>4.0</td>\n",
       "      <td>4.0</td>\n",
       "      <td>4.0</td>\n",
       "      <td>4.0</td>\n",
       "      <td>4.0</td>\n",
       "      <td>4.0</td>\n",
       "      <td>4.0</td>\n",
       "      <td>4.0</td>\n",
       "      <td>0.0</td>\n",
       "      <td>0</td>\n",
       "    </tr>\n",
       "    <tr>\n",
       "      <th>9</th>\n",
       "      <td>5000010</td>\n",
       "      <td>1</td>\n",
       "      <td>8</td>\n",
       "      <td>8</td>\n",
       "      <td>NaN</td>\n",
       "      <td>1</td>\n",
       "      <td>2</td>\n",
       "      <td>22</td>\n",
       "      <td>FEBRERO</td>\n",
       "      <td>2</td>\n",
       "      <td>...</td>\n",
       "      <td>4.0</td>\n",
       "      <td>4.0</td>\n",
       "      <td>3.0</td>\n",
       "      <td>4.0</td>\n",
       "      <td>4.0</td>\n",
       "      <td>4.0</td>\n",
       "      <td>4.0</td>\n",
       "      <td>4.0</td>\n",
       "      <td>0.0</td>\n",
       "      <td>0</td>\n",
       "    </tr>\n",
       "    <tr>\n",
       "      <th>10</th>\n",
       "      <td>5000013</td>\n",
       "      <td>1</td>\n",
       "      <td>1</td>\n",
       "      <td>8</td>\n",
       "      <td>NaN</td>\n",
       "      <td>1</td>\n",
       "      <td>2</td>\n",
       "      <td>40</td>\n",
       "      <td>FEBRERO</td>\n",
       "      <td>2</td>\n",
       "      <td>...</td>\n",
       "      <td>4.0</td>\n",
       "      <td>4.0</td>\n",
       "      <td>4.0</td>\n",
       "      <td>4.0</td>\n",
       "      <td>4.0</td>\n",
       "      <td>4.0</td>\n",
       "      <td>4.0</td>\n",
       "      <td>4.0</td>\n",
       "      <td>0.0</td>\n",
       "      <td>0</td>\n",
       "    </tr>\n",
       "    <tr>\n",
       "      <th>11</th>\n",
       "      <td>5000014</td>\n",
       "      <td>1</td>\n",
       "      <td>1</td>\n",
       "      <td>8</td>\n",
       "      <td>NaN</td>\n",
       "      <td>1</td>\n",
       "      <td>1</td>\n",
       "      <td>75</td>\n",
       "      <td>FEBRERO</td>\n",
       "      <td>2</td>\n",
       "      <td>...</td>\n",
       "      <td>4.0</td>\n",
       "      <td>4.0</td>\n",
       "      <td>4.0</td>\n",
       "      <td>4.0</td>\n",
       "      <td>4.0</td>\n",
       "      <td>4.0</td>\n",
       "      <td>4.0</td>\n",
       "      <td>4.0</td>\n",
       "      <td>0.0</td>\n",
       "      <td>0</td>\n",
       "    </tr>\n",
       "    <tr>\n",
       "      <th>12</th>\n",
       "      <td>5000015</td>\n",
       "      <td>1</td>\n",
       "      <td>1</td>\n",
       "      <td>8</td>\n",
       "      <td>NaN</td>\n",
       "      <td>1</td>\n",
       "      <td>1</td>\n",
       "      <td>55</td>\n",
       "      <td>FEBRERO</td>\n",
       "      <td>2</td>\n",
       "      <td>...</td>\n",
       "      <td>4.0</td>\n",
       "      <td>4.0</td>\n",
       "      <td>4.0</td>\n",
       "      <td>4.0</td>\n",
       "      <td>4.0</td>\n",
       "      <td>4.0</td>\n",
       "      <td>4.0</td>\n",
       "      <td>4.0</td>\n",
       "      <td>0.0</td>\n",
       "      <td>0</td>\n",
       "    </tr>\n",
       "    <tr>\n",
       "      <th>13</th>\n",
       "      <td>5000015</td>\n",
       "      <td>1</td>\n",
       "      <td>4</td>\n",
       "      <td>8</td>\n",
       "      <td>NaN</td>\n",
       "      <td>1</td>\n",
       "      <td>1</td>\n",
       "      <td>22</td>\n",
       "      <td>FEBRERO</td>\n",
       "      <td>2</td>\n",
       "      <td>...</td>\n",
       "      <td>4.0</td>\n",
       "      <td>4.0</td>\n",
       "      <td>4.0</td>\n",
       "      <td>4.0</td>\n",
       "      <td>4.0</td>\n",
       "      <td>4.0</td>\n",
       "      <td>4.0</td>\n",
       "      <td>4.0</td>\n",
       "      <td>0.0</td>\n",
       "      <td>0</td>\n",
       "    </tr>\n",
       "    <tr>\n",
       "      <th>14</th>\n",
       "      <td>5000018</td>\n",
       "      <td>1</td>\n",
       "      <td>2</td>\n",
       "      <td>13</td>\n",
       "      <td>NaN</td>\n",
       "      <td>2</td>\n",
       "      <td>1</td>\n",
       "      <td>61</td>\n",
       "      <td>FEBRERO</td>\n",
       "      <td>2</td>\n",
       "      <td>...</td>\n",
       "      <td>4.0</td>\n",
       "      <td>4.0</td>\n",
       "      <td>4.0</td>\n",
       "      <td>4.0</td>\n",
       "      <td>4.0</td>\n",
       "      <td>4.0</td>\n",
       "      <td>4.0</td>\n",
       "      <td>4.0</td>\n",
       "      <td>1.0</td>\n",
       "      <td>0</td>\n",
       "    </tr>\n",
       "  </tbody>\n",
       "</table>\n",
       "<p>15 rows × 374 columns</p>\n",
       "</div>"
      ],
      "text/plain": [
       "    DIRECTORIO  SECUENCIA_P  SECUENCIA_ENCUESTA  COD_DEPTO  AREA  CLASE_TE  \\\n",
       "0      5000001            1                   2          8   NaN         1   \n",
       "1      5000003            1                   1          8   NaN         1   \n",
       "2      5000003            1                   2          8   NaN         1   \n",
       "3      5000007            1                   1          8   NaN         1   \n",
       "4      5000008            1                   1          8   NaN         1   \n",
       "5      5000009            1                   1          8   NaN         1   \n",
       "6      5000010            1                   2          8   NaN         1   \n",
       "7      5000010            1                   3          8   NaN         1   \n",
       "8      5000010            1                   7          8   NaN         1   \n",
       "9      5000010            1                   8          8   NaN         1   \n",
       "10     5000013            1                   1          8   NaN         1   \n",
       "11     5000014            1                   1          8   NaN         1   \n",
       "12     5000015            1                   1          8   NaN         1   \n",
       "13     5000015            1                   4          8   NaN         1   \n",
       "14     5000018            1                   2         13   NaN         2   \n",
       "\n",
       "    P35  P241  MES_REF  P3031  ...  P1906S1  P1906S2  P1906S3  P1906S4  \\\n",
       "0     2    61  FEBRERO      2  ...      4.0      4.0      4.0      4.0   \n",
       "1     1    44  FEBRERO      2  ...      4.0      4.0      4.0      4.0   \n",
       "2     2    37  FEBRERO      2  ...      4.0      4.0      4.0      4.0   \n",
       "3     2    36  FEBRERO      1  ...      4.0      4.0      4.0      4.0   \n",
       "4     1    60  FEBRERO      2  ...      4.0      4.0      4.0      4.0   \n",
       "5     1    49  FEBRERO      2  ...      4.0      4.0      4.0      4.0   \n",
       "6     1    57  FEBRERO      2  ...      4.0      4.0      4.0      4.0   \n",
       "7     1    25  FEBRERO      1  ...      4.0      4.0      4.0      4.0   \n",
       "8     1    22  FEBRERO      2  ...      4.0      4.0      4.0      4.0   \n",
       "9     2    22  FEBRERO      2  ...      4.0      4.0      3.0      4.0   \n",
       "10    2    40  FEBRERO      2  ...      4.0      4.0      4.0      4.0   \n",
       "11    1    75  FEBRERO      2  ...      4.0      4.0      4.0      4.0   \n",
       "12    1    55  FEBRERO      2  ...      4.0      4.0      4.0      4.0   \n",
       "13    1    22  FEBRERO      2  ...      4.0      4.0      4.0      4.0   \n",
       "14    1    61  FEBRERO      2  ...      4.0      4.0      4.0      4.0   \n",
       "\n",
       "    P1906S5  P1906S6  P1906S7  P1906S8  Campesina  urban  \n",
       "0       4.0      4.0      4.0      4.0        0.0      0  \n",
       "1       4.0      4.0      4.0      4.0        0.0      0  \n",
       "2       4.0      4.0      4.0      4.0        9.0      0  \n",
       "3       4.0      4.0      4.0      4.0        0.0      0  \n",
       "4       4.0      4.0      4.0      4.0        0.0      0  \n",
       "5       4.0      4.0      4.0      4.0        0.0      0  \n",
       "6       4.0      4.0      4.0      4.0        0.0      0  \n",
       "7       4.0      4.0      4.0      4.0        0.0      0  \n",
       "8       4.0      4.0      4.0      4.0        0.0      0  \n",
       "9       4.0      4.0      4.0      4.0        0.0      0  \n",
       "10      4.0      4.0      4.0      4.0        0.0      0  \n",
       "11      4.0      4.0      4.0      4.0        0.0      0  \n",
       "12      4.0      4.0      4.0      4.0        0.0      0  \n",
       "13      4.0      4.0      4.0      4.0        0.0      0  \n",
       "14      4.0      4.0      4.0      4.0        1.0      0  \n",
       "\n",
       "[15 rows x 374 columns]"
      ]
     },
     "execution_count": 31,
     "metadata": {},
     "output_type": "execute_result"
    }
   ],
   "source": [
    "emicron_copy.head(15)"
   ]
  },
  {
   "cell_type": "code",
   "execution_count": 32,
   "metadata": {
    "colab": {
     "base_uri": "https://localhost:8080/"
    },
    "id": "kAaBPgc7tb1v",
    "outputId": "24ee2edd-bb2b-4aec-a7d3-002f0f5e0160"
   },
   "outputs": [
    {
     "name": "stdout",
     "output_type": "stream",
     "text": [
      "78\n",
      "222\n"
     ]
    }
   ],
   "source": [
    "print((emicron.isna().sum()<20808).sum())\n",
    "print((emicron.isna().sum()>20808).sum())"
   ]
  },
  {
   "cell_type": "code",
   "execution_count": 33,
   "metadata": {
    "colab": {
     "base_uri": "https://localhost:8080/"
    },
    "id": "AxdVRr_kteAN",
    "outputId": "e2e9e849-99c2-411c-8b5c-f5ac65fe01d1"
   },
   "outputs": [
    {
     "data": {
      "text/plain": [
       "0.6446441620552271"
      ]
     },
     "execution_count": 33,
     "metadata": {},
     "output_type": "execute_result"
    }
   ],
   "source": [
    "(emicron.isnull().sum(axis=1).mean())/emicron.shape[1]"
   ]
  },
  {
   "cell_type": "code",
   "execution_count": 34,
   "metadata": {
    "colab": {
     "base_uri": "https://localhost:8080/"
    },
    "id": "cl9No6tKw59Z",
    "outputId": "1bb3288f-07e1-4f96-bdd8-8d56064ceb6a"
   },
   "outputs": [
    {
     "data": {
      "text/plain": [
       "(84753, 300)"
      ]
     },
     "execution_count": 34,
     "metadata": {},
     "output_type": "execute_result"
    }
   ],
   "source": [
    "emicron.shape"
   ]
  },
  {
   "cell_type": "code",
   "execution_count": 35,
   "metadata": {
    "colab": {
     "base_uri": "https://localhost:8080/"
    },
    "id": "1zrmAKdYrXTM",
    "outputId": "9676ff9b-a1df-4960-d0d4-bee218c6b0b1"
   },
   "outputs": [
    {
     "data": {
      "text/plain": [
       "28529"
      ]
     },
     "execution_count": 35,
     "metadata": {},
     "output_type": "execute_result"
    }
   ],
   "source": [
    "emicron['AREA'].isnull().sum()"
   ]
  },
  {
   "cell_type": "code",
   "execution_count": 36,
   "metadata": {
    "colab": {
     "base_uri": "https://localhost:8080/"
    },
    "id": "Lvc-0BPCxwb5",
    "outputId": "9760285e-8f74-41f7-ce84-4de9021b00bd"
   },
   "outputs": [
    {
     "data": {
      "text/plain": [
       "(77606, 142)"
      ]
     },
     "execution_count": 36,
     "metadata": {},
     "output_type": "execute_result"
    }
   ],
   "source": [
    "# Calculate the percentage of NaN values in each column\n",
    "nan_percentages = emicron_copy.isnull().mean()\n",
    "\n",
    "# Filter columns with more than 0% NaN values\n",
    "columns_to_drop = nan_percentages[nan_percentages > 0].index\n",
    "\n",
    "\n",
    "# Values to exclude from columns_to_drop\n",
    "exclude_values = ['COD_DEPTO']\n",
    "\n",
    "# Remove specified values from columns_to_drop\n",
    "columns_to_drop_filtered = [col for col in columns_to_drop if col not in exclude_values]\n",
    "\n",
    "# Drop the identified columns\n",
    "emicron_copy.drop(columns_to_drop_filtered, axis=1, inplace=True)\n",
    "\n",
    "# Now 'emicron' contains the remaining columns\n",
    "emicron_copy.shape"
   ]
  },
  {
   "cell_type": "code",
   "execution_count": 37,
   "metadata": {
    "colab": {
     "base_uri": "https://localhost:8080/"
    },
    "id": "jRX07CmjS9ZI",
    "outputId": "1a475e27-49d8-42a5-f64f-ca9914601d81"
   },
   "outputs": [
    {
     "data": {
      "text/plain": [
       "(84753, 68)"
      ]
     },
     "execution_count": 37,
     "metadata": {},
     "output_type": "execute_result"
    }
   ],
   "source": [
    "# Calculate the percentage of NaN values in each column\n",
    "nan_percentages = emicron_clean.isnull().mean()\n",
    "\n",
    "# Filter columns with more than 0% NaN values\n",
    "columns_to_drop = nan_percentages[nan_percentages > 0].index\n",
    "\n",
    "\n",
    "# Values to exclude from columns_to_drop\n",
    "exclude_values = ['COD_DEPTO']\n",
    "\n",
    "# Remove specified values from columns_to_drop\n",
    "columns_to_drop_filtered = [col for col in columns_to_drop if col not in exclude_values]\n",
    "\n",
    "# Drop the identified columns\n",
    "emicron_clean.drop(columns_to_drop_filtered, axis=1, inplace=True)\n",
    "\n",
    "# Now 'emicron' contains the remaining columns\n",
    "emicron_clean.shape"
   ]
  },
  {
   "cell_type": "markdown",
   "metadata": {
    "id": "LoS2b0bupwP8"
   },
   "source": [
    "Indicators to create informal dummy:\n",
    "\n",
    "P3035\n",
    "\n",
    "P3032_3\n",
    "\n",
    "P3088\n",
    "\n",
    "P3090\n",
    "\n",
    "P2989\n",
    "\n",
    "P3080\n",
    "\n",
    "P3082\n",
    "\n",
    "P3084\n",
    "\n",
    "PP2990\n",
    "\n",
    "P1633\n",
    "\n",
    "P640\n",
    "\n",
    "P1055\n",
    "\n",
    "P661\n",
    "\n",
    "P1057\n",
    "\n",
    "P2991\n",
    "\n",
    "P2992\n",
    "\n",
    "P2993\n"
   ]
  },
  {
   "cell_type": "markdown",
   "metadata": {
    "id": "eoarDkvAy1M_"
   },
   "source": [
    "#take only relevant rows with no Nan values"
   ]
  },
  {
   "cell_type": "code",
   "execution_count": 38,
   "metadata": {
    "id": "yhjsV2Tg48Bl"
   },
   "outputs": [],
   "source": [
    "nan_percentages = emicron_copy.isnull().mean(axis=1)\n",
    "columns_to_drop = nan_percentages[nan_percentages > 0].index\n",
    "emicron_copy.drop(columns_to_drop, inplace=True)"
   ]
  },
  {
   "cell_type": "code",
   "execution_count": 39,
   "metadata": {
    "id": "2fPMOPywTCSb"
   },
   "outputs": [],
   "source": [
    "nan_percentages = emicron_clean.isnull().mean(axis=1)\n",
    "columns_to_drop = nan_percentages[nan_percentages > 0].index\n",
    "emicron_clean.drop(columns_to_drop, inplace=True)"
   ]
  },
  {
   "cell_type": "code",
   "execution_count": 40,
   "metadata": {
    "id": "ahNXToYL9xBk"
   },
   "outputs": [
    {
     "data": {
      "text/plain": [
       "0.0"
      ]
     },
     "execution_count": 40,
     "metadata": {},
     "output_type": "execute_result"
    }
   ],
   "source": [
    "emicron_copy.isnull().mean(axis=1).mean()"
   ]
  },
  {
   "cell_type": "code",
   "execution_count": 41,
   "metadata": {
    "id": "6OMUM7b55qBM"
   },
   "outputs": [
    {
     "data": {
      "text/plain": [
       "(77606, 142)"
      ]
     },
     "execution_count": 41,
     "metadata": {},
     "output_type": "execute_result"
    }
   ],
   "source": [
    "emicron_copy.shape"
   ]
  },
  {
   "cell_type": "code",
   "execution_count": 42,
   "metadata": {
    "id": "VIDxkB8cUsJ4"
   },
   "outputs": [
    {
     "data": {
      "text/plain": [
       "(84753, 68)"
      ]
     },
     "execution_count": 42,
     "metadata": {},
     "output_type": "execute_result"
    }
   ],
   "source": [
    "emicron_clean.shape"
   ]
  },
  {
   "cell_type": "code",
   "execution_count": 43,
   "metadata": {
    "id": "NZdlW4iwaylE"
   },
   "outputs": [
    {
     "data": {
      "text/plain": [
       "Index(['DIRECTORIO', 'SECUENCIA_P', 'SECUENCIA_ENCUESTA', 'COD_DEPTO',\n",
       "       'CLASE_TE', 'P35', 'P241', 'MES_REF', 'P3031', 'P3033',\n",
       "       ...\n",
       "       'P1906S1', 'P1906S2', 'P1906S3', 'P1906S4', 'P1906S5', 'P1906S6',\n",
       "       'P1906S7', 'P1906S8', 'Campesina', 'urban'],\n",
       "      dtype='object', length=142)"
      ]
     },
     "execution_count": 43,
     "metadata": {},
     "output_type": "execute_result"
    }
   ],
   "source": [
    "emicron_copy.columns"
   ]
  },
  {
   "cell_type": "markdown",
   "metadata": {
    "id": "vhC5MyYXc4i6"
   },
   "source": [
    "#save emicron merged with geih + the separate one"
   ]
  },
  {
   "cell_type": "code",
   "execution_count": 44,
   "metadata": {
    "id": "7zwNQcLr-oq8"
   },
   "outputs": [],
   "source": [
    "#save as csv\n",
    "emicron_copy.to_csv('../../Data/emicron_geih_merged.csv', index=False)"
   ]
  },
  {
   "cell_type": "code",
   "execution_count": 45,
   "metadata": {
    "id": "SUsAv7dTTE4S"
   },
   "outputs": [],
   "source": [
    "#save as csv\n",
    "emicron_clean.to_csv('../../Data/emicron_clean.csv', index=False)"
   ]
  }
 ],
 "metadata": {
  "accelerator": "GPU",
  "colab": {
   "gpuType": "T4",
   "machine_shape": "hm",
   "provenance": []
  },
  "kernelspec": {
   "display_name": "Python 3",
   "name": "python3"
  },
  "language_info": {
   "codemirror_mode": {
    "name": "ipython",
    "version": 3
   },
   "file_extension": ".py",
   "mimetype": "text/x-python",
   "name": "python",
   "nbconvert_exporter": "python",
   "pygments_lexer": "ipython3",
   "version": "3.11.6"
  }
 },
 "nbformat": 4,
 "nbformat_minor": 0
}
