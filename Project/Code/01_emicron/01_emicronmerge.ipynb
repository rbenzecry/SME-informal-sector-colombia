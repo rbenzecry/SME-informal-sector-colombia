{
 "cells": [
  {
   "cell_type": "code",
   "execution_count": 1,
   "metadata": {
    "id": "AdyGT2z0t_ic"
   },
   "outputs": [],
   "source": [
    "import numpy as np\n",
    "import pandas as pd\n",
    "import os"
   ]
  },
  {
   "cell_type": "code",
   "execution_count": 2,
   "metadata": {
    "id": "obWIr7qSag4K"
   },
   "outputs": [],
   "source": [
    "# list of file names\n",
    "files = [\"Módulo de identificación.csv\",\n",
    "    \"Módulo de capital social.csv\",\n",
    "    \"Módulo de características del micronegocio.csv\",\n",
    "    \"Módulo de costos, gastos y activos.csv\",\n",
    "    \"Módulo de emprendimiento.csv\",\n",
    "    \"Módulo de inclusión financiera.csv\",\n",
    "    \"Módulo de sitio o ubicación.csv\",\n",
    "    \"Módulo de TIC.csv\",\n",
    "    \"Módulo de ventas o ingresos.csv\",\n",
    "    \"Módulo personal ocupado (propietario(a)).csv\"]\n",
    "\n",
    "# dictionary to hold dataframes\n",
    "datasets = {}\n",
    "\n",
    "# read each file into a dataframe and store it in the dictionary\n",
    "for file in files:\n",
    "    # create valid Python identifier for each file name\n",
    "    dataset_name = file.replace(\" \", \"_\").replace(\"(\", \"\").replace(\")\", \"\").replace(\",\", \"\").replace(\".csv\", \"\").replace(\"ó\", \"o\")\n",
    "    # go up two directories to the data folder\n",
    "    # read the csv file\n",
    "    datasets[dataset_name] = pd.read_csv(\"../../Data/\"+file, encoding='utf-8')"
   ]
  },
  {
   "cell_type": "code",
   "execution_count": 3,
   "metadata": {
    "id": "QSrlblpAag4L"
   },
   "outputs": [],
   "source": [
    "# initialize the merged dataset with the first dataset\n",
    "emicron = datasets[list(datasets.keys())[0]]\n",
    "\n",
    "# merge all other datasets\n",
    "for dataset_name, dataset in list(datasets.items())[1:]:\n",
    "    emicron = pd.merge(emicron, dataset, on=[\"DIRECTORIO\", \"SECUENCIA_ENCUESTA\", \"SECUENCIA_P\", \"CLASE_TE\", \"COD_DEPTO\", \"AREA\", \"F_EXP\"], how='left')\n",
    "    duplicated_rows = emicron[emicron.duplicated(subset=['DIRECTORIO', 'SECUENCIA_P', 'SECUENCIA_ENCUESTA'], keep=False)]"
   ]
  },
  {
   "cell_type": "code",
   "execution_count": 4,
   "metadata": {
    "id": "RHCHj705s4S-"
   },
   "outputs": [],
   "source": [
    "f_ex_micro = pd.read_csv(\"../../Data/factores_departamental_2022_proy_2018.csv\")"
   ]
  },
  {
   "cell_type": "code",
   "execution_count": 5,
   "metadata": {
    "id": "8rAin8-ptE21"
   },
   "outputs": [],
   "source": [
    "emicron = pd.merge(emicron, f_ex_micro, on=[\"DIRECTORIO\", \"SECUENCIA_ENCUESTA\", \"SECUENCIA_P\"], how='left')"
   ]
  },
  {
   "cell_type": "code",
   "execution_count": 6,
   "metadata": {
    "id": "SUsAv7dTTE4S"
   },
   "outputs": [],
   "source": [
    "#save as csv\n",
    "emicron.to_csv('../../Data/emicron_merged.csv', index=False)"
   ]
  }
 ],
 "metadata": {
  "accelerator": "GPU",
  "colab": {
   "gpuType": "T4",
   "machine_shape": "hm",
   "provenance": []
  },
  "kernelspec": {
   "display_name": "Python 3",
   "name": "python3"
  },
  "language_info": {
   "codemirror_mode": {
    "name": "ipython",
    "version": 3
   },
   "file_extension": ".py",
   "mimetype": "text/x-python",
   "name": "python",
   "nbconvert_exporter": "python",
   "pygments_lexer": "ipython3",
   "version": "3.11.6"
  }
 },
 "nbformat": 4,
 "nbformat_minor": 0
}
